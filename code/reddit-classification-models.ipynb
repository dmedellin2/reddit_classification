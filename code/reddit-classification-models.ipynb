{
 "cells": [
  {
   "cell_type": "markdown",
   "metadata": {},
   "source": [
    "# Project 3: Web APIs & NLP\n",
    "## Reddit.com/r/workplacesitcoms \n",
    "#### By: Danielle Medellin [GitHub](https://github.com/dmedellin2)"
   ]
  },
  {
   "cell_type": "markdown",
   "metadata": {},
   "source": [
    "## Table of Contents:\n",
    "- [Problem Statement](#Problem-Statement)  \n",
    "- [Executive Summary](#Executive-Summary)  \n",
    "- [Data Import](#Data-Import)  \n",
    "- [Data Cleaning](#Data-Cleaning)  \n",
    "- [Exploratory Data Analysis](#Exploratory-Data-Analysis)\n",
    "- [Dummy Creation](#Creating-Dummies)\n",
    "- [Model Preparation](#Model-Preparation)\n",
    "- [Modeling](#Modeling)\n",
    "    - [Baseline Model](#Baseline-Model)\n",
    "    - [Linear Regression](#Linear-Regression)\n",
    "    - [Ridge](#Ridge)\n",
    "    - [Lasso](#Lasso)\n",
    "- [Model Selection](#Model-Selection)\n",
    "- [Model Evaluation](#Model-Evaluation)\n",
    "- [Using the Model](#Using-the-Model-to-Help-Joe)\n",
    "- [Conclusions and Recommendations](#Conclusions-&-Recommendations)"
   ]
  },
  {
   "cell_type": "markdown",
   "metadata": {},
   "source": [
    "## Problem Statement\n",
    "\n",
    "NBC is looking to see how people on the internet engage with some of their most famous sitcoms. They assigned an intern to gather all the posts he could on reddit for the team to analyze later on. This intern is well.. an intern, and he just put all the posts into one folder! We were able to separate most posts, but the last two shows are still stuck together.. \"The Office\" and \"Parks and Recreation.\" Given that they share some of the same creators, characterter names, and even actors (looking at you Rashida Jones..) our job is to build a model that is able to sort through these reddit posts and separate them back into their appropriate reddit threads: The Office -- r/DunderMifflin & Parks and Recreation -- r/PandR. \n",
    "\n",
    "On top of that, NBC is also interested in what content helped made it possible to differentiate between the two shows. We will build a classification model to help with this process and measure the success of the model through accuracy. "
   ]
  },
  {
   "cell_type": "markdown",
   "metadata": {},
   "source": [
    "## Executive Summary\n",
    "\n",
    "Blah blah blahdhslkf\n",
    "\n",
    "The data: \n",
    "What is the score?   https://www.reddit.com/wiki/faq#wiki_how_is_a_submission.27s_score_determined.3F"
   ]
  },
  {
   "cell_type": "markdown",
   "metadata": {},
   "source": [
    "## Data Import\n",
    "In the _data_gathering_ notebook, one can view the process for using the reddit API to collect posts from the r/DunderMifflin and r/PandR subreddits over the course of the past 10 years. Both subreddits were created in January of 2011."
   ]
  },
  {
   "cell_type": "markdown",
   "metadata": {},
   "source": [
    "### Importing Libraries"
   ]
  },
  {
   "cell_type": "code",
   "execution_count": 430,
   "metadata": {},
   "outputs": [],
   "source": [
    "import pandas as pd\n",
    "import numpy as np\n",
    "import matplotlib.pyplot as plt\n",
    "import seaborn as sns\n",
    "from sklearn.model_selection import train_test_split, GridSearchCV\n",
    "from sklearn.pipeline import Pipeline\n",
    "from sklearn.linear_model import LogisticRegression\n",
    "from sklearn.feature_extraction.text import CountVectorizer, TfidfVectorizer, TfidfTransformer\n",
    "from sklearn.naive_bayes import MultinomialNB, GaussianNB, BernoulliNB\n",
    "from sklearn.base import TransformerMixin\n",
    "from sklearn.neighbors import KNeighborsClassifier\n",
    "from sklearn.feature_selection import SelectKBest, chi2\n",
    "from nltk.stem import WordNetLemmatizer\n",
    "from nltk.tokenize import RegexpTokenizer\n",
    "import regex as re\n",
    "from nltk.stem.porter import PorterStemmer\n",
    "from nltk.corpus import stopwords\n",
    "from sklearn.ensemble import BaggingClassifier\n",
    "from sklearn.tree import DecisionTreeClassifier\n",
    "from sklearn.metrics import accuracy_score\n",
    "from sklearn.tree import plot_tree, export_text\n",
    "\n",
    "\n",
    "\n",
    "import warnings\n",
    "warnings.filterwarnings(\"ignore\") "
   ]
  },
  {
   "cell_type": "code",
   "execution_count": 275,
   "metadata": {},
   "outputs": [],
   "source": [
    "reddit = pd.read_csv('../data/reddit.csv')"
   ]
  },
  {
   "cell_type": "code",
   "execution_count": 276,
   "metadata": {},
   "outputs": [
    {
     "data": {
      "text/html": [
       "<div>\n",
       "<style scoped>\n",
       "    .dataframe tbody tr th:only-of-type {\n",
       "        vertical-align: middle;\n",
       "    }\n",
       "\n",
       "    .dataframe tbody tr th {\n",
       "        vertical-align: top;\n",
       "    }\n",
       "\n",
       "    .dataframe thead th {\n",
       "        text-align: right;\n",
       "    }\n",
       "</style>\n",
       "<table border=\"1\" class=\"dataframe\">\n",
       "  <thead>\n",
       "    <tr style=\"text-align: right;\">\n",
       "      <th></th>\n",
       "      <th>title</th>\n",
       "      <th>selftext</th>\n",
       "      <th>subreddit</th>\n",
       "      <th>created_utc</th>\n",
       "      <th>author</th>\n",
       "      <th>num_comments</th>\n",
       "      <th>score</th>\n",
       "      <th>is_self</th>\n",
       "      <th>timestamp</th>\n",
       "    </tr>\n",
       "  </thead>\n",
       "  <tbody>\n",
       "    <tr>\n",
       "      <th>0</th>\n",
       "      <td>Letter to Brendanawicz</td>\n",
       "      <td>This guy had no chance. He started out being c...</td>\n",
       "      <td>PandR</td>\n",
       "      <td>1571349530</td>\n",
       "      <td>RandySwango</td>\n",
       "      <td>4</td>\n",
       "      <td>18</td>\n",
       "      <td>True</td>\n",
       "      <td>2019-10-17</td>\n",
       "    </tr>\n",
       "    <tr>\n",
       "      <th>1</th>\n",
       "      <td>Just started watching the show on Amazon Prime...</td>\n",
       "      <td>At least on season two as I've noticed the sub...</td>\n",
       "      <td>PandR</td>\n",
       "      <td>1571352782</td>\n",
       "      <td>Oo00oOo00oOO</td>\n",
       "      <td>0</td>\n",
       "      <td>1</td>\n",
       "      <td>True</td>\n",
       "      <td>2019-10-17</td>\n",
       "    </tr>\n",
       "    <tr>\n",
       "      <th>2</th>\n",
       "      <td>Office Ladies podcast just came out to discuss...</td>\n",
       "      <td>NaN</td>\n",
       "      <td>PandR</td>\n",
       "      <td>1571353982</td>\n",
       "      <td>ImplicationOfDanger</td>\n",
       "      <td>6</td>\n",
       "      <td>11</td>\n",
       "      <td>True</td>\n",
       "      <td>2019-10-17</td>\n",
       "    </tr>\n",
       "    <tr>\n",
       "      <th>3</th>\n",
       "      <td>Noticed they didn't mention jerry in the S3 recap</td>\n",
       "      <td>The beginning of season 3 episode 1 has a reca...</td>\n",
       "      <td>PandR</td>\n",
       "      <td>1571367525</td>\n",
       "      <td>hogmanjr100</td>\n",
       "      <td>4</td>\n",
       "      <td>6</td>\n",
       "      <td>True</td>\n",
       "      <td>2019-10-17</td>\n",
       "    </tr>\n",
       "    <tr>\n",
       "      <th>4</th>\n",
       "      <td>Star trek movies rule</td>\n",
       "      <td>My favorite seasons are definitely 3/5/7. Seas...</td>\n",
       "      <td>PandR</td>\n",
       "      <td>1571407817</td>\n",
       "      <td>DEEP_HURTING</td>\n",
       "      <td>0</td>\n",
       "      <td>3</td>\n",
       "      <td>True</td>\n",
       "      <td>2019-10-18</td>\n",
       "    </tr>\n",
       "  </tbody>\n",
       "</table>\n",
       "</div>"
      ],
      "text/plain": [
       "                                               title  \\\n",
       "0                             Letter to Brendanawicz   \n",
       "1  Just started watching the show on Amazon Prime...   \n",
       "2  Office Ladies podcast just came out to discuss...   \n",
       "3  Noticed they didn't mention jerry in the S3 recap   \n",
       "4                              Star trek movies rule   \n",
       "\n",
       "                                            selftext subreddit  created_utc  \\\n",
       "0  This guy had no chance. He started out being c...     PandR   1571349530   \n",
       "1  At least on season two as I've noticed the sub...     PandR   1571352782   \n",
       "2                                                NaN     PandR   1571353982   \n",
       "3  The beginning of season 3 episode 1 has a reca...     PandR   1571367525   \n",
       "4  My favorite seasons are definitely 3/5/7. Seas...     PandR   1571407817   \n",
       "\n",
       "                author  num_comments  score  is_self   timestamp  \n",
       "0          RandySwango             4     18     True  2019-10-17  \n",
       "1         Oo00oOo00oOO             0      1     True  2019-10-17  \n",
       "2  ImplicationOfDanger             6     11     True  2019-10-17  \n",
       "3          hogmanjr100             4      6     True  2019-10-17  \n",
       "4         DEEP_HURTING             0      3     True  2019-10-18  "
      ]
     },
     "execution_count": 276,
     "metadata": {},
     "output_type": "execute_result"
    }
   ],
   "source": [
    "reddit.head()"
   ]
  },
  {
   "cell_type": "markdown",
   "metadata": {},
   "source": [
    "## Data Cleaning"
   ]
  },
  {
   "cell_type": "code",
   "execution_count": 277,
   "metadata": {},
   "outputs": [
    {
     "data": {
      "text/plain": [
       "(4675, 9)"
      ]
     },
     "execution_count": 277,
     "metadata": {},
     "output_type": "execute_result"
    }
   ],
   "source": [
    "reddit.shape"
   ]
  },
  {
   "cell_type": "code",
   "execution_count": 278,
   "metadata": {},
   "outputs": [
    {
     "data": {
      "text/plain": [
       "title             0\n",
       "selftext        570\n",
       "subreddit         0\n",
       "created_utc       0\n",
       "author            0\n",
       "num_comments      0\n",
       "score             0\n",
       "is_self           0\n",
       "timestamp         0\n",
       "dtype: int64"
      ]
     },
     "execution_count": 278,
     "metadata": {},
     "output_type": "execute_result"
    }
   ],
   "source": [
    "reddit.isnull().sum()"
   ]
  },
  {
   "cell_type": "markdown",
   "metadata": {},
   "source": [
    "The only column with null values is the self text column, which we will likely not use in analysis. For text analysis, we will focus on the title column."
   ]
  },
  {
   "cell_type": "code",
   "execution_count": 279,
   "metadata": {},
   "outputs": [
    {
     "data": {
      "text/plain": [
       "title           object\n",
       "selftext        object\n",
       "subreddit       object\n",
       "created_utc      int64\n",
       "author          object\n",
       "num_comments     int64\n",
       "score            int64\n",
       "is_self           bool\n",
       "timestamp       object\n",
       "dtype: object"
      ]
     },
     "execution_count": 279,
     "metadata": {},
     "output_type": "execute_result"
    }
   ],
   "source": [
    "reddit.dtypes"
   ]
  },
  {
   "cell_type": "code",
   "execution_count": 280,
   "metadata": {},
   "outputs": [
    {
     "data": {
      "text/plain": [
       "DunderMifflin    2626\n",
       "PandR            2049\n",
       "Name: subreddit, dtype: int64"
      ]
     },
     "execution_count": 280,
     "metadata": {},
     "output_type": "execute_result"
    }
   ],
   "source": [
    "reddit['subreddit'].value_counts()"
   ]
  },
  {
   "cell_type": "code",
   "execution_count": 281,
   "metadata": {},
   "outputs": [],
   "source": [
    "# casting subreddit as 0,1 0 = Office, 1 = P and R\n",
    "reddit['subreddit'] = [1 if entry == 'PandR' else 0 for entry in reddit['subreddit']]"
   ]
  },
  {
   "cell_type": "code",
   "execution_count": 282,
   "metadata": {},
   "outputs": [
    {
     "data": {
      "text/plain": [
       "0    2626\n",
       "1    2049\n",
       "Name: subreddit, dtype: int64"
      ]
     },
     "execution_count": 282,
     "metadata": {},
     "output_type": "execute_result"
    }
   ],
   "source": [
    "reddit['subreddit'].value_counts()"
   ]
  },
  {
   "cell_type": "code",
   "execution_count": 283,
   "metadata": {},
   "outputs": [],
   "source": [
    "# changing timestamp to a datetime object\n",
    "reddit['timestamp'] = pd.to_datetime(reddit['timestamp'])"
   ]
  },
  {
   "cell_type": "markdown",
   "metadata": {},
   "source": [
    "We created the `timestamp` column from the `created_utc` column so we won't need to use the `created_utc` column in our analysis."
   ]
  },
  {
   "cell_type": "code",
   "execution_count": 284,
   "metadata": {},
   "outputs": [
    {
     "data": {
      "text/plain": [
       "title                   object\n",
       "selftext                object\n",
       "subreddit                int64\n",
       "created_utc              int64\n",
       "author                  object\n",
       "num_comments             int64\n",
       "score                    int64\n",
       "is_self                   bool\n",
       "timestamp       datetime64[ns]\n",
       "dtype: object"
      ]
     },
     "execution_count": 284,
     "metadata": {},
     "output_type": "execute_result"
    }
   ],
   "source": [
    "reddit.dtypes"
   ]
  },
  {
   "cell_type": "code",
   "execution_count": 285,
   "metadata": {},
   "outputs": [
    {
     "data": {
      "text/html": [
       "<div>\n",
       "<style scoped>\n",
       "    .dataframe tbody tr th:only-of-type {\n",
       "        vertical-align: middle;\n",
       "    }\n",
       "\n",
       "    .dataframe tbody tr th {\n",
       "        vertical-align: top;\n",
       "    }\n",
       "\n",
       "    .dataframe thead th {\n",
       "        text-align: right;\n",
       "    }\n",
       "</style>\n",
       "<table border=\"1\" class=\"dataframe\">\n",
       "  <thead>\n",
       "    <tr style=\"text-align: right;\">\n",
       "      <th></th>\n",
       "      <th>subreddit</th>\n",
       "      <th>created_utc</th>\n",
       "      <th>num_comments</th>\n",
       "      <th>score</th>\n",
       "    </tr>\n",
       "  </thead>\n",
       "  <tbody>\n",
       "    <tr>\n",
       "      <th>count</th>\n",
       "      <td>4675.000000</td>\n",
       "      <td>4.675000e+03</td>\n",
       "      <td>4675.000000</td>\n",
       "      <td>4675.000000</td>\n",
       "    </tr>\n",
       "    <tr>\n",
       "      <th>mean</th>\n",
       "      <td>0.438289</td>\n",
       "      <td>1.438933e+09</td>\n",
       "      <td>7.761711</td>\n",
       "      <td>17.507594</td>\n",
       "    </tr>\n",
       "    <tr>\n",
       "      <th>std</th>\n",
       "      <td>0.496230</td>\n",
       "      <td>7.384524e+07</td>\n",
       "      <td>21.852437</td>\n",
       "      <td>338.446323</td>\n",
       "    </tr>\n",
       "    <tr>\n",
       "      <th>min</th>\n",
       "      <td>0.000000</td>\n",
       "      <td>1.295128e+09</td>\n",
       "      <td>0.000000</td>\n",
       "      <td>0.000000</td>\n",
       "    </tr>\n",
       "    <tr>\n",
       "      <th>25%</th>\n",
       "      <td>0.000000</td>\n",
       "      <td>1.385971e+09</td>\n",
       "      <td>1.000000</td>\n",
       "      <td>1.000000</td>\n",
       "    </tr>\n",
       "    <tr>\n",
       "      <th>50%</th>\n",
       "      <td>0.000000</td>\n",
       "      <td>1.447577e+09</td>\n",
       "      <td>4.000000</td>\n",
       "      <td>4.000000</td>\n",
       "    </tr>\n",
       "    <tr>\n",
       "      <th>75%</th>\n",
       "      <td>1.000000</td>\n",
       "      <td>1.494051e+09</td>\n",
       "      <td>9.000000</td>\n",
       "      <td>10.000000</td>\n",
       "    </tr>\n",
       "    <tr>\n",
       "      <th>max</th>\n",
       "      <td>1.000000</td>\n",
       "      <td>1.572741e+09</td>\n",
       "      <td>1180.000000</td>\n",
       "      <td>22726.000000</td>\n",
       "    </tr>\n",
       "  </tbody>\n",
       "</table>\n",
       "</div>"
      ],
      "text/plain": [
       "         subreddit   created_utc  num_comments         score\n",
       "count  4675.000000  4.675000e+03   4675.000000   4675.000000\n",
       "mean      0.438289  1.438933e+09      7.761711     17.507594\n",
       "std       0.496230  7.384524e+07     21.852437    338.446323\n",
       "min       0.000000  1.295128e+09      0.000000      0.000000\n",
       "25%       0.000000  1.385971e+09      1.000000      1.000000\n",
       "50%       0.000000  1.447577e+09      4.000000      4.000000\n",
       "75%       1.000000  1.494051e+09      9.000000     10.000000\n",
       "max       1.000000  1.572741e+09   1180.000000  22726.000000"
      ]
     },
     "execution_count": 285,
     "metadata": {},
     "output_type": "execute_result"
    }
   ],
   "source": [
    "reddit.describe()"
   ]
  },
  {
   "cell_type": "code",
   "execution_count": 286,
   "metadata": {},
   "outputs": [
    {
     "data": {
      "text/html": [
       "<div>\n",
       "<style scoped>\n",
       "    .dataframe tbody tr th:only-of-type {\n",
       "        vertical-align: middle;\n",
       "    }\n",
       "\n",
       "    .dataframe tbody tr th {\n",
       "        vertical-align: top;\n",
       "    }\n",
       "\n",
       "    .dataframe thead th {\n",
       "        text-align: right;\n",
       "    }\n",
       "</style>\n",
       "<table border=\"1\" class=\"dataframe\">\n",
       "  <thead>\n",
       "    <tr style=\"text-align: right;\">\n",
       "      <th></th>\n",
       "      <th>subreddit</th>\n",
       "      <th>0</th>\n",
       "      <th>1</th>\n",
       "    </tr>\n",
       "  </thead>\n",
       "  <tbody>\n",
       "    <tr>\n",
       "      <th rowspan=\"8\" valign=\"top\">created_utc</th>\n",
       "      <th>count</th>\n",
       "      <td>2.626000e+03</td>\n",
       "      <td>2.049000e+03</td>\n",
       "    </tr>\n",
       "    <tr>\n",
       "      <th>mean</th>\n",
       "      <td>1.434939e+09</td>\n",
       "      <td>1.444052e+09</td>\n",
       "    </tr>\n",
       "    <tr>\n",
       "      <th>std</th>\n",
       "      <td>7.360803e+07</td>\n",
       "      <td>7.385084e+07</td>\n",
       "    </tr>\n",
       "    <tr>\n",
       "      <th>min</th>\n",
       "      <td>1.295128e+09</td>\n",
       "      <td>1.295516e+09</td>\n",
       "    </tr>\n",
       "    <tr>\n",
       "      <th>25%</th>\n",
       "      <td>1.384844e+09</td>\n",
       "      <td>1.387495e+09</td>\n",
       "    </tr>\n",
       "    <tr>\n",
       "      <th>50%</th>\n",
       "      <td>1.446945e+09</td>\n",
       "      <td>1.450752e+09</td>\n",
       "    </tr>\n",
       "    <tr>\n",
       "      <th>75%</th>\n",
       "      <td>1.493682e+09</td>\n",
       "      <td>1.495985e+09</td>\n",
       "    </tr>\n",
       "    <tr>\n",
       "      <th>max</th>\n",
       "      <td>1.571512e+09</td>\n",
       "      <td>1.572741e+09</td>\n",
       "    </tr>\n",
       "    <tr>\n",
       "      <th rowspan=\"8\" valign=\"top\">num_comments</th>\n",
       "      <th>count</th>\n",
       "      <td>2.626000e+03</td>\n",
       "      <td>2.049000e+03</td>\n",
       "    </tr>\n",
       "    <tr>\n",
       "      <th>mean</th>\n",
       "      <td>9.064356e+00</td>\n",
       "      <td>6.092240e+00</td>\n",
       "    </tr>\n",
       "    <tr>\n",
       "      <th>std</th>\n",
       "      <td>2.701304e+01</td>\n",
       "      <td>1.223009e+01</td>\n",
       "    </tr>\n",
       "    <tr>\n",
       "      <th>min</th>\n",
       "      <td>0.000000e+00</td>\n",
       "      <td>0.000000e+00</td>\n",
       "    </tr>\n",
       "    <tr>\n",
       "      <th>25%</th>\n",
       "      <td>2.000000e+00</td>\n",
       "      <td>1.000000e+00</td>\n",
       "    </tr>\n",
       "    <tr>\n",
       "      <th>50%</th>\n",
       "      <td>5.000000e+00</td>\n",
       "      <td>3.000000e+00</td>\n",
       "    </tr>\n",
       "    <tr>\n",
       "      <th>75%</th>\n",
       "      <td>1.000000e+01</td>\n",
       "      <td>7.000000e+00</td>\n",
       "    </tr>\n",
       "    <tr>\n",
       "      <th>max</th>\n",
       "      <td>1.180000e+03</td>\n",
       "      <td>2.290000e+02</td>\n",
       "    </tr>\n",
       "    <tr>\n",
       "      <th rowspan=\"8\" valign=\"top\">score</th>\n",
       "      <th>count</th>\n",
       "      <td>2.626000e+03</td>\n",
       "      <td>2.049000e+03</td>\n",
       "    </tr>\n",
       "    <tr>\n",
       "      <th>mean</th>\n",
       "      <td>1.947106e+01</td>\n",
       "      <td>1.499122e+01</td>\n",
       "    </tr>\n",
       "    <tr>\n",
       "      <th>std</th>\n",
       "      <td>4.489799e+02</td>\n",
       "      <td>5.506277e+01</td>\n",
       "    </tr>\n",
       "    <tr>\n",
       "      <th>min</th>\n",
       "      <td>0.000000e+00</td>\n",
       "      <td>0.000000e+00</td>\n",
       "    </tr>\n",
       "    <tr>\n",
       "      <th>25%</th>\n",
       "      <td>1.000000e+00</td>\n",
       "      <td>1.000000e+00</td>\n",
       "    </tr>\n",
       "    <tr>\n",
       "      <th>50%</th>\n",
       "      <td>3.000000e+00</td>\n",
       "      <td>4.000000e+00</td>\n",
       "    </tr>\n",
       "    <tr>\n",
       "      <th>75%</th>\n",
       "      <td>9.000000e+00</td>\n",
       "      <td>1.100000e+01</td>\n",
       "    </tr>\n",
       "    <tr>\n",
       "      <th>max</th>\n",
       "      <td>2.272600e+04</td>\n",
       "      <td>1.105000e+03</td>\n",
       "    </tr>\n",
       "  </tbody>\n",
       "</table>\n",
       "</div>"
      ],
      "text/plain": [
       "subreddit                      0             1\n",
       "created_utc  count  2.626000e+03  2.049000e+03\n",
       "             mean   1.434939e+09  1.444052e+09\n",
       "             std    7.360803e+07  7.385084e+07\n",
       "             min    1.295128e+09  1.295516e+09\n",
       "             25%    1.384844e+09  1.387495e+09\n",
       "             50%    1.446945e+09  1.450752e+09\n",
       "             75%    1.493682e+09  1.495985e+09\n",
       "             max    1.571512e+09  1.572741e+09\n",
       "num_comments count  2.626000e+03  2.049000e+03\n",
       "             mean   9.064356e+00  6.092240e+00\n",
       "             std    2.701304e+01  1.223009e+01\n",
       "             min    0.000000e+00  0.000000e+00\n",
       "             25%    2.000000e+00  1.000000e+00\n",
       "             50%    5.000000e+00  3.000000e+00\n",
       "             75%    1.000000e+01  7.000000e+00\n",
       "             max    1.180000e+03  2.290000e+02\n",
       "score        count  2.626000e+03  2.049000e+03\n",
       "             mean   1.947106e+01  1.499122e+01\n",
       "             std    4.489799e+02  5.506277e+01\n",
       "             min    0.000000e+00  0.000000e+00\n",
       "             25%    1.000000e+00  1.000000e+00\n",
       "             50%    3.000000e+00  4.000000e+00\n",
       "             75%    9.000000e+00  1.100000e+01\n",
       "             max    2.272600e+04  1.105000e+03"
      ]
     },
     "execution_count": 286,
     "metadata": {},
     "output_type": "execute_result"
    }
   ],
   "source": [
    "reddit.groupby('subreddit').describe().T"
   ]
  },
  {
   "cell_type": "code",
   "execution_count": 287,
   "metadata": {},
   "outputs": [
    {
     "data": {
      "text/html": [
       "<div>\n",
       "<style scoped>\n",
       "    .dataframe tbody tr th:only-of-type {\n",
       "        vertical-align: middle;\n",
       "    }\n",
       "\n",
       "    .dataframe tbody tr th {\n",
       "        vertical-align: top;\n",
       "    }\n",
       "\n",
       "    .dataframe thead th {\n",
       "        text-align: right;\n",
       "    }\n",
       "</style>\n",
       "<table border=\"1\" class=\"dataframe\">\n",
       "  <thead>\n",
       "    <tr style=\"text-align: right;\">\n",
       "      <th></th>\n",
       "      <th>title</th>\n",
       "      <th>selftext</th>\n",
       "      <th>subreddit</th>\n",
       "      <th>created_utc</th>\n",
       "      <th>author</th>\n",
       "      <th>num_comments</th>\n",
       "      <th>score</th>\n",
       "      <th>is_self</th>\n",
       "      <th>timestamp</th>\n",
       "    </tr>\n",
       "  </thead>\n",
       "  <tbody>\n",
       "    <tr>\n",
       "      <th>2373</th>\n",
       "      <td>The day they take The Office off of Netflix is...</td>\n",
       "      <td>NaN</td>\n",
       "      <td>0</td>\n",
       "      <td>1524740904</td>\n",
       "      <td>RonThunderfist</td>\n",
       "      <td>1180</td>\n",
       "      <td>22726</td>\n",
       "      <td>True</td>\n",
       "      <td>2018-04-26</td>\n",
       "    </tr>\n",
       "    <tr>\n",
       "      <th>4195</th>\n",
       "      <td>SO9EO9 \"Dwight Christmas\" Episode Discussion</td>\n",
       "      <td>From Wikipedia: \\n\\n\"When the party planning c...</td>\n",
       "      <td>0</td>\n",
       "      <td>1354841872</td>\n",
       "      <td>Prefer_an_astronaut</td>\n",
       "      <td>253</td>\n",
       "      <td>55</td>\n",
       "      <td>True</td>\n",
       "      <td>2012-12-06</td>\n",
       "    </tr>\n",
       "    <tr>\n",
       "      <th>4173</th>\n",
       "      <td>SO9EO8 \"The Target\" Discussion Thread</td>\n",
       "      <td>From Wikipedia:\\n\\n\"Angela goes to Dwight for ...</td>\n",
       "      <td>0</td>\n",
       "      <td>1354236859</td>\n",
       "      <td>Prefer_an_astronaut</td>\n",
       "      <td>236</td>\n",
       "      <td>56</td>\n",
       "      <td>True</td>\n",
       "      <td>2012-11-29</td>\n",
       "    </tr>\n",
       "    <tr>\n",
       "      <th>1521</th>\n",
       "      <td>Parks And Recreation S06E08/09 \"Fluoride\" / \"T...</td>\n",
       "      <td>####Two new episodes again tonight! \\n\\n\\n---\\...</td>\n",
       "      <td>1</td>\n",
       "      <td>1385080735</td>\n",
       "      <td>atticus138</td>\n",
       "      <td>229</td>\n",
       "      <td>111</td>\n",
       "      <td>True</td>\n",
       "      <td>2013-11-21</td>\n",
       "    </tr>\n",
       "    <tr>\n",
       "      <th>863</th>\n",
       "      <td>Has anyone found another comedy that gives the...</td>\n",
       "      <td>The only one was the office. I felt attached t...</td>\n",
       "      <td>1</td>\n",
       "      <td>1465953727</td>\n",
       "      <td>andrew9360</td>\n",
       "      <td>210</td>\n",
       "      <td>185</td>\n",
       "      <td>True</td>\n",
       "      <td>2016-06-14</td>\n",
       "    </tr>\n",
       "  </tbody>\n",
       "</table>\n",
       "</div>"
      ],
      "text/plain": [
       "                                                  title  \\\n",
       "2373  The day they take The Office off of Netflix is...   \n",
       "4195       SO9EO9 \"Dwight Christmas\" Episode Discussion   \n",
       "4173             SO9EO8 \"The Target\" Discussion Thread    \n",
       "1521  Parks And Recreation S06E08/09 \"Fluoride\" / \"T...   \n",
       "863   Has anyone found another comedy that gives the...   \n",
       "\n",
       "                                               selftext  subreddit  \\\n",
       "2373                                                NaN          0   \n",
       "4195  From Wikipedia: \\n\\n\"When the party planning c...          0   \n",
       "4173  From Wikipedia:\\n\\n\"Angela goes to Dwight for ...          0   \n",
       "1521  ####Two new episodes again tonight! \\n\\n\\n---\\...          1   \n",
       "863   The only one was the office. I felt attached t...          1   \n",
       "\n",
       "      created_utc               author  num_comments  score  is_self  \\\n",
       "2373   1524740904       RonThunderfist          1180  22726     True   \n",
       "4195   1354841872  Prefer_an_astronaut           253     55     True   \n",
       "4173   1354236859  Prefer_an_astronaut           236     56     True   \n",
       "1521   1385080735           atticus138           229    111     True   \n",
       "863    1465953727           andrew9360           210    185     True   \n",
       "\n",
       "      timestamp  \n",
       "2373 2018-04-26  \n",
       "4195 2012-12-06  \n",
       "4173 2012-11-29  \n",
       "1521 2013-11-21  \n",
       "863  2016-06-14  "
      ]
     },
     "execution_count": 287,
     "metadata": {},
     "output_type": "execute_result"
    }
   ],
   "source": [
    "reddit.sort_values('num_comments', ascending=False).head()"
   ]
  },
  {
   "cell_type": "markdown",
   "metadata": {},
   "source": [
    "After exploring the data a bit, we see there is an outlier in the `num_comments` column. We will drop the row with 1180 comments."
   ]
  },
  {
   "cell_type": "code",
   "execution_count": 288,
   "metadata": {},
   "outputs": [],
   "source": [
    "reddit.drop([2373],inplace=True)"
   ]
  },
  {
   "cell_type": "code",
   "execution_count": 289,
   "metadata": {},
   "outputs": [
    {
     "data": {
      "text/html": [
       "<div>\n",
       "<style scoped>\n",
       "    .dataframe tbody tr th:only-of-type {\n",
       "        vertical-align: middle;\n",
       "    }\n",
       "\n",
       "    .dataframe tbody tr th {\n",
       "        vertical-align: top;\n",
       "    }\n",
       "\n",
       "    .dataframe thead th {\n",
       "        text-align: right;\n",
       "    }\n",
       "</style>\n",
       "<table border=\"1\" class=\"dataframe\">\n",
       "  <thead>\n",
       "    <tr style=\"text-align: right;\">\n",
       "      <th></th>\n",
       "      <th>title</th>\n",
       "      <th>selftext</th>\n",
       "      <th>subreddit</th>\n",
       "      <th>created_utc</th>\n",
       "      <th>author</th>\n",
       "      <th>num_comments</th>\n",
       "      <th>score</th>\n",
       "      <th>is_self</th>\n",
       "      <th>timestamp</th>\n",
       "    </tr>\n",
       "  </thead>\n",
       "  <tbody>\n",
       "    <tr>\n",
       "      <th>3605</th>\n",
       "      <td>Found the best way to watch The Office</td>\n",
       "      <td>First make sure you have enough time to watch ...</td>\n",
       "      <td>0</td>\n",
       "      <td>1416432589</td>\n",
       "      <td>Dan_Ashcroft</td>\n",
       "      <td>90</td>\n",
       "      <td>2540</td>\n",
       "      <td>True</td>\n",
       "      <td>2014-11-19</td>\n",
       "    </tr>\n",
       "    <tr>\n",
       "      <th>3083</th>\n",
       "      <td>It is me, Rainn Wilson (that guy from The Offi...</td>\n",
       "      <td>At 1pm (PDT) I’ll be on the @SoulPancake snapc...</td>\n",
       "      <td>0</td>\n",
       "      <td>1463678376</td>\n",
       "      <td>IAmRainnWilson</td>\n",
       "      <td>105</td>\n",
       "      <td>2419</td>\n",
       "      <td>True</td>\n",
       "      <td>2016-05-19</td>\n",
       "    </tr>\n",
       "    <tr>\n",
       "      <th>1382</th>\n",
       "      <td>Why Jerry is without a doubt the best characte...</td>\n",
       "      <td>lol jk, you're the worst Jerry!</td>\n",
       "      <td>1</td>\n",
       "      <td>1419978101</td>\n",
       "      <td>radslacker</td>\n",
       "      <td>100</td>\n",
       "      <td>1105</td>\n",
       "      <td>True</td>\n",
       "      <td>2014-12-30</td>\n",
       "    </tr>\n",
       "    <tr>\n",
       "      <th>769</th>\n",
       "      <td>I can never, ever read \"treat yoself\" or \"trea...</td>\n",
       "      <td>And yes, I have treated myself more.</td>\n",
       "      <td>1</td>\n",
       "      <td>1482998253</td>\n",
       "      <td>geetannn</td>\n",
       "      <td>37</td>\n",
       "      <td>840</td>\n",
       "      <td>True</td>\n",
       "      <td>2016-12-29</td>\n",
       "    </tr>\n",
       "    <tr>\n",
       "      <th>964</th>\n",
       "      <td>Just realized that Leslie, Ann, &amp;amp; Tom all ...</td>\n",
       "      <td>I'm sure someone else has already pointed this...</td>\n",
       "      <td>1</td>\n",
       "      <td>1469893207</td>\n",
       "      <td>MooCow93</td>\n",
       "      <td>51</td>\n",
       "      <td>748</td>\n",
       "      <td>True</td>\n",
       "      <td>2016-07-30</td>\n",
       "    </tr>\n",
       "  </tbody>\n",
       "</table>\n",
       "</div>"
      ],
      "text/plain": [
       "                                                  title  \\\n",
       "3605             Found the best way to watch The Office   \n",
       "3083  It is me, Rainn Wilson (that guy from The Offi...   \n",
       "1382  Why Jerry is without a doubt the best characte...   \n",
       "769   I can never, ever read \"treat yoself\" or \"trea...   \n",
       "964   Just realized that Leslie, Ann, &amp; Tom all ...   \n",
       "\n",
       "                                               selftext  subreddit  \\\n",
       "3605  First make sure you have enough time to watch ...          0   \n",
       "3083  At 1pm (PDT) I’ll be on the @SoulPancake snapc...          0   \n",
       "1382                    lol jk, you're the worst Jerry!          1   \n",
       "769                And yes, I have treated myself more.          1   \n",
       "964   I'm sure someone else has already pointed this...          1   \n",
       "\n",
       "      created_utc          author  num_comments  score  is_self  timestamp  \n",
       "3605   1416432589    Dan_Ashcroft            90   2540     True 2014-11-19  \n",
       "3083   1463678376  IAmRainnWilson           105   2419     True 2016-05-19  \n",
       "1382   1419978101      radslacker           100   1105     True 2014-12-30  \n",
       "769    1482998253        geetannn            37    840     True 2016-12-29  \n",
       "964    1469893207        MooCow93            51    748     True 2016-07-30  "
      ]
     },
     "execution_count": 289,
     "metadata": {},
     "output_type": "execute_result"
    }
   ],
   "source": [
    "reddit.sort_values('score', ascending=False).head()"
   ]
  },
  {
   "cell_type": "markdown",
   "metadata": {},
   "source": [
    "After exploring the data a bit, we see there are some outliers in the `score` column. We will drop the rows with scores of more than 2000."
   ]
  },
  {
   "cell_type": "code",
   "execution_count": 290,
   "metadata": {},
   "outputs": [],
   "source": [
    "reddit = reddit[reddit['score']<2000]"
   ]
  },
  {
   "cell_type": "markdown",
   "metadata": {},
   "source": [
    "## Exploratory Data Analysis"
   ]
  },
  {
   "cell_type": "code",
   "execution_count": 291,
   "metadata": {},
   "outputs": [],
   "source": [
    "def new_boxplot(data,x,y,title,xlabel,ylabel,palette):\n",
    "    plt.figure(figsize=(7,6))\n",
    "    sns.boxplot(data=data, x=y, y=x, palette=palette)\n",
    "    plt.title(title,size=15)\n",
    "    plt.xlabel(xlabel,size=12)\n",
    "    plt.ylabel(ylabel,size=12);"
   ]
  },
  {
   "cell_type": "code",
   "execution_count": 292,
   "metadata": {},
   "outputs": [
    {
     "data": {
      "image/png": "[encoded data removed]",
      "text/plain": [
       "<Figure size 504x432 with 1 Axes>"
      ]
     },
     "metadata": {
      "needs_background": "light"
     },
     "output_type": "display_data"
    }
   ],
   "source": [
    "new_boxplot(reddit, 'num_comments','subreddit','Distribution of Number of Comments by Subreddit','Subreddit','Number of Comments','BuGn_r')"
   ]
  },
  {
   "cell_type": "markdown",
   "metadata": {},
   "source": [
    "The majority of the data for both subreddits has less than 25 comments per post. The maximum amount of comments for both subreddits reaches around 230-250. Both subreddits have similar distributions, but the quartiles and maximum for the Office subreddit are generally higher than those of the Parks and Rec subreddit. Given the similarities in the distributions, it is unclear if the Number of Comments per post will be a helpful predictive feature in our model."
   ]
  },
  {
   "cell_type": "code",
   "execution_count": 293,
   "metadata": {},
   "outputs": [
    {
     "data": {
      "image/png": "[encoded data removed]",
      "text/plain": [
       "<Figure size 504x432 with 1 Axes>"
      ]
     },
     "metadata": {
      "needs_background": "light"
     },
     "output_type": "display_data"
    }
   ],
   "source": [
    "new_boxplot(reddit, 'score','subreddit','Distribution of Score by Subreddit','Subreddit','Score','BuGn_r')"
   ]
  },
  {
   "cell_type": "markdown",
   "metadata": {},
   "source": [
    "The majority of the scores of posts for both subreddits is from 0-30. Both subreddits have scores that lay outside that range. The maximum for the Office subredit falling around 450, and the maximum for the Parks and Rec subreddit falling beyond 1000. There are many more posts with scores of 200 or more for the Parks and Rec subreddit as opposed to the Office subreddit. Looking at the Score for each post might be a helpful predictive feature in the model. "
   ]
  },
  {
   "cell_type": "code",
   "execution_count": 294,
   "metadata": {},
   "outputs": [
    {
     "data": {
      "image/png": "[encoded data removed]",
      "text/plain": [
       "<Figure size 720x360 with 2 Axes>"
      ]
     },
     "metadata": {
      "needs_background": "light"
     },
     "output_type": "display_data"
    }
   ],
   "source": [
    "# pulling list of storage space types\n",
    "cols = [0,1]\n",
    "\n",
    "fig, axes = plt.subplots(figsize = (10,5), nrows = 1, ncols = 2)\n",
    "\n",
    "fig.suptitle(\"Histograms of Post Year by Subreddit\", fontsize = 22, y = 1.04) # y is percentage of figure height for placement\n",
    "\n",
    "axes = axes.flatten()\n",
    "\n",
    "color = ['lightgreen', 'orange']\n",
    "\n",
    "for i, col in enumerate(cols):\n",
    "    ax = axes[i]\n",
    "    ax.hist(reddit[reddit['subreddit']==col]['timestamp'],color=color[i],bins=11)\n",
    "    ax.set_ylabel(\"Frequency\",size=14)\n",
    "    readable_col = ['The Office','Parks and Rec']\n",
    "    ax.set_xlabel(readable_col[i],size=14)\n",
    "    ax.set_title(f\"Distribution of Post Years:\\n{readable_col[i]}\",size=18)\n",
    "    \n",
    "plt.tight_layout();"
   ]
  },
  {
   "cell_type": "markdown",
   "metadata": {},
   "source": [
    "We pulled data from every 6 months for the past 10 years. Both of these subreddits started in January of 2011. The two subreddits have similar distributions with peaks around 2016-2017. These are years that both of the shows were already off air. Neither subreddit seems to fall below 100 posts in a specific time range. Surprisingly, the most recent time range has a similar amount of posts as the first time range."
   ]
  },
  {
   "cell_type": "code",
   "execution_count": 295,
   "metadata": {},
   "outputs": [],
   "source": [
    "# creating count vectorizer to look at frequent words\n",
    "cvec = CountVectorizer()\n",
    "X_text = reddit['title']"
   ]
  },
  {
   "cell_type": "code",
   "execution_count": 296,
   "metadata": {},
   "outputs": [],
   "source": [
    "X_text = cvec.fit_transform(X_text)\n",
    "X_text_df = pd.DataFrame(X_text.toarray(), columns = cvec.get_feature_names())"
   ]
  },
  {
   "cell_type": "code",
   "execution_count": 297,
   "metadata": {},
   "outputs": [],
   "source": [
    "# grabbing top 30 words\n",
    "top_words = X_text_df.sum().sort_values(ascending=False)[:30]"
   ]
  },
  {
   "cell_type": "code",
   "execution_count": 298,
   "metadata": {},
   "outputs": [
    {
     "data": {
      "text/plain": [
       "the        2346\n",
       "and         847\n",
       "to          838\n",
       "is          750\n",
       "of          727\n",
       "in          677\n",
       "what        496\n",
       "you         447\n",
       "season      414\n",
       "episode     412\n",
       "office      402\n",
       "for         396\n",
       "that        388\n",
       "just        370\n",
       "it          337\n",
       "on          315\n",
       "this        278\n",
       "show        274\n",
       "was         273\n",
       "anyone      271\n",
       "have        260\n",
       "michael     254\n",
       "with        231\n",
       "from        219\n",
       "my          218\n",
       "how         207\n",
       "does        205\n",
       "about       204\n",
       "do          194\n",
       "can         193\n",
       "dtype: int64"
      ]
     },
     "execution_count": 298,
     "metadata": {},
     "output_type": "execute_result"
    }
   ],
   "source": [
    "top_words"
   ]
  },
  {
   "cell_type": "code",
   "execution_count": 299,
   "metadata": {},
   "outputs": [
    {
     "data": {
      "image/png": "[encoded data removed]",
      "text/plain": [
       "<Figure size 576x576 with 1 Axes>"
      ]
     },
     "metadata": {
      "needs_background": "light"
     },
     "output_type": "display_data"
    }
   ],
   "source": [
    "plt.figure(figsize=(8,8))\n",
    "plt.barh(y=top_words.index[::-1],width=top_words[::-1],color='goldenrod')\n",
    "plt.suptitle('Most Frequent Words',size=19)\n",
    "plt.title('r/DunderMifflin & r/PandR',size=15)\n",
    "plt.xlabel('Frequency',size=13)\n",
    "plt.ylabel('Top Words',size=13)\n",
    "plt.yticks(size=11.5);"
   ]
  },
  {
   "cell_type": "markdown",
   "metadata": {},
   "source": [
    "Above are the top 30 most frequently used words found in both subreddits combined. Most of these words are general filler words that do not give us much meaning like `the`, `of`, and `with`. Some of them make sense given that our two subreddits are focused on television shows, like `episode`, `show`, and `season`. Only two of these words stick out to us as being possibly important words that could help determine which subreddit a post is from and those are `office` and `michael`. The reason for that is because the r/DunderMifflin subreddit is about the show _The Office_ and the main character of that show is Michael Scott. Given these facts it is expected that the words `office` and `michael` would show up frequently in the posts of that subreddit. "
   ]
  },
  {
   "cell_type": "code",
   "execution_count": 300,
   "metadata": {},
   "outputs": [],
   "source": [
    "poss_stopwords = list(top_words.index)"
   ]
  },
  {
   "cell_type": "code",
   "execution_count": 301,
   "metadata": {},
   "outputs": [],
   "source": [
    "poss_stopwords.remove('michael')"
   ]
  },
  {
   "cell_type": "code",
   "execution_count": 302,
   "metadata": {},
   "outputs": [],
   "source": [
    "poss_stopwords.remove('office')"
   ]
  },
  {
   "cell_type": "code",
   "execution_count": 303,
   "metadata": {},
   "outputs": [
    {
     "name": "stdout",
     "output_type": "stream",
     "text": [
      "28\n"
     ]
    },
    {
     "data": {
      "text/plain": [
       "['the',\n",
       " 'and',\n",
       " 'to',\n",
       " 'is',\n",
       " 'of',\n",
       " 'in',\n",
       " 'what',\n",
       " 'you',\n",
       " 'season',\n",
       " 'episode',\n",
       " 'for',\n",
       " 'that',\n",
       " 'just',\n",
       " 'it',\n",
       " 'on',\n",
       " 'this',\n",
       " 'show',\n",
       " 'was',\n",
       " 'anyone',\n",
       " 'have',\n",
       " 'with',\n",
       " 'from',\n",
       " 'my',\n",
       " 'how',\n",
       " 'does',\n",
       " 'about',\n",
       " 'do',\n",
       " 'can']"
      ]
     },
     "execution_count": 303,
     "metadata": {},
     "output_type": "execute_result"
    }
   ],
   "source": [
    "print(len(poss_stopwords))\n",
    "poss_stopwords"
   ]
  },
  {
   "cell_type": "markdown",
   "metadata": {},
   "source": [
    "We have taken the list of the top 30 most frequent words from above, removed `michael` and `office`, and kept it as a list of possible stop words. When creating our model later, we will want to focus on the most frequently used words. If the majority of our most frequently used words are words like `the`, `for`, and `can`, our model will not be great at classifiying the posts into the correct subreddit. Thus, we will test the use of this list as our list of stop words in our models later. "
   ]
  },
  {
   "cell_type": "code",
   "execution_count": 304,
   "metadata": {},
   "outputs": [],
   "source": [
    "# get text from just the office subreddit\n",
    "off_text = reddit[reddit['subreddit']==0]['title']"
   ]
  },
  {
   "cell_type": "code",
   "execution_count": 306,
   "metadata": {},
   "outputs": [],
   "source": [
    "# count vectorize office text\n",
    "cvec = CountVectorizer()\n",
    "off_text = cvec.fit_transform(off_text)\n",
    "off_text_df = pd.DataFrame(off_text.toarray(), columns = cvec.get_feature_names())"
   ]
  },
  {
   "cell_type": "code",
   "execution_count": 309,
   "metadata": {},
   "outputs": [],
   "source": [
    "# get text from just parks and rec subreddit\n",
    "parks_text = reddit[reddit['subreddit']==1]['title']"
   ]
  },
  {
   "cell_type": "code",
   "execution_count": 310,
   "metadata": {},
   "outputs": [],
   "source": [
    "# count vectorize parks and rec subreddit \n",
    "cvec = CountVectorizer()\n",
    "parks_text = cvec.fit_transform(parks_text)\n",
    "parks_text_df = pd.DataFrame(parks_text.toarray(), columns = cvec.get_feature_names())"
   ]
  },
  {
   "cell_type": "code",
   "execution_count": 311,
   "metadata": {},
   "outputs": [],
   "source": [
    "# top 30 most frequent words in office subreddit\n",
    "off_top = off_text_df.sum().sort_values(ascending=False)[:30]"
   ]
  },
  {
   "cell_type": "code",
   "execution_count": 312,
   "metadata": {},
   "outputs": [],
   "source": [
    "# top 30 most frequent words in parks and rec subreddit\n",
    "parks_top = parks_text_df.sum().sort_values(ascending=False)[:30]"
   ]
  },
  {
   "cell_type": "code",
   "execution_count": 313,
   "metadata": {},
   "outputs": [
    {
     "name": "stdout",
     "output_type": "stream",
     "text": [
      "21\n"
     ]
    },
    {
     "data": {
      "text/plain": [
       "{'and',\n",
       " 'anyone',\n",
       " 'episode',\n",
       " 'for',\n",
       " 'have',\n",
       " 'in',\n",
       " 'is',\n",
       " 'it',\n",
       " 'just',\n",
       " 'of',\n",
       " 'on',\n",
       " 'season',\n",
       " 'show',\n",
       " 'that',\n",
       " 'the',\n",
       " 'this',\n",
       " 'to',\n",
       " 'was',\n",
       " 'what',\n",
       " 'with',\n",
       " 'you'}"
      ]
     },
     "execution_count": 313,
     "metadata": {},
     "output_type": "execute_result"
    }
   ],
   "source": [
    "# looking at the overlap in the top 30 of each individual subreddit \n",
    "overlap = set(off_top.index).intersection(set(parks_top.index))\n",
    "print(len(overlap))\n",
    "overlap"
   ]
  },
  {
   "cell_type": "markdown",
   "metadata": {},
   "source": [
    "We looked at the top 30 most frequently occurring words in the titles of posts of both subreddits individually. After looking at the intersection of those two sets of words, it was found that 21 words were shared by both subreddits. Most of these words are 'filler' words like `for`, `just`, `and`, `that`, and `the` which don't give us much information. Words that make sense for these subreddits are `show`, `epsiode` and `season`, but because both subreddits are focused on television shows, they don't help to distinguish between the two.  \n",
    "\n",
    "????We tried to use this list of words as stop words for our model, but it was not as helpful for the model as the normal `english` stop words list was. ????"
   ]
  },
  {
   "cell_type": "code",
   "execution_count": 314,
   "metadata": {},
   "outputs": [
    {
     "data": {
      "text/plain": [
       "{'can', 'does', 'how', 'leslie', 'me', 'my', 'parks', 'rec', 'ron'}"
      ]
     },
     "execution_count": 314,
     "metadata": {},
     "output_type": "execute_result"
    }
   ],
   "source": [
    "# fidning words that are only in the parks top 30\n",
    "parks_only = set(parks_top.index) - set(off_top.index)\n",
    "parks_only"
   ]
  },
  {
   "cell_type": "code",
   "execution_count": 315,
   "metadata": {},
   "outputs": [
    {
     "data": {
      "text/plain": [
       "{'about', 'do', 'dwight', 'from', 'jim', 'michael', 'office', 'pam', 'your'}"
      ]
     },
     "execution_count": 315,
     "metadata": {},
     "output_type": "execute_result"
    }
   ],
   "source": [
    "# finding words that are only in the office top 30\n",
    "off_only = set(off_top.index) - set(parks_top.index)\n",
    "off_only"
   ]
  },
  {
   "cell_type": "code",
   "execution_count": 316,
   "metadata": {},
   "outputs": [],
   "source": [
    "# getting frequency for just the unique office words\n",
    "off_top_words = off_text_df[off_only].sum().sort_values(ascending=False)[:30]"
   ]
  },
  {
   "cell_type": "code",
   "execution_count": 317,
   "metadata": {},
   "outputs": [],
   "source": [
    "# # getting frequency for just the unique parks and rec words\n",
    "parks_top_words = parks_text_df[parks_only].sum().sort_values(ascending=False)[:30]"
   ]
  },
  {
   "cell_type": "code",
   "execution_count": 318,
   "metadata": {},
   "outputs": [
    {
     "data": {
      "image/png": "[encoded data removed]",
      "text/plain": [
       "<Figure size 864x432 with 2 Axes>"
      ]
     },
     "metadata": {
      "needs_background": "light"
     },
     "output_type": "display_data"
    }
   ],
   "source": [
    "fig, (ax1, ax2) = plt.subplots(1,2, figsize = (12,6), sharex=True)\n",
    "# add title to entire figure\n",
    "fig.suptitle(\"Unique Words from Top 30\", fontsize = 19, y = 1.03) # y is percentage of figure height for placement\n",
    "\n",
    "ax1.barh(y=off_top_words.index,width=off_top_words,color='salmon') # ax=axes[0,1]\n",
    "ax2.barh(y=parks_top_words.index,width=parks_top_words,color='skyblue')\n",
    "ax1.set_title('Top Words from The Office Subreddit\\nr/DunderMifflin',size=14)\n",
    "ax2.set_title('Top Words from Parks and Recreation Subreddit\\nr/PandR',size=14)\n",
    "ax1.set_xlabel('Frequency',size=12)\n",
    "ax2.set_xlabel('Frequency',size=12)\n",
    "ax1.set_ylabel('Unique Words in Top 30', size=11)\n",
    "ax2.set_ylabel('Unique Words in Top 30', size=11);"
   ]
  },
  {
   "cell_type": "markdown",
   "metadata": {},
   "source": [
    "We looked at the top 30 most frequently occurring words in the title of both subreddits. After looking at the intersection of those two sets of words, it was found that 21 of those words were shared by both subreddits. \n",
    "\n",
    "We separated out the **unique** words for each subreddit's top 30 and plotted their frequencies above. Still there are some words that don't give us much information such as `your`, `do`, `from`, `my`, `can`, and `how`, but we also notice some other words that stand out. For the _The Office_ subreddit some of the top words include `office`, `michael`, `pam`, `jim`, and `dwight`. While `office` may seem like a mundane word, it is very important for the r/DunderMifflin subreddit because it is the name of the show that the subreddit is focused on, _The Office_! Additionally, four of the main characters of the show are Jim, Michael, Pam, and Dwight, so these are definitely bound to pop up in r/DunderMifflin posts more often than the other subreddit.  \n",
    "\n",
    "Similarly, for r/PandR, which focuses on the show _Parks and Recreation_ (often abbreviated as _Parks and Rec_), two of the most popular words are `parks` and `rec`. The second and third most popular unique words are `ron` and `leslie`, which are two main characters of the TV show. It makes sense that these two words would show up often in posts from r/PandR. "
   ]
  },
  {
   "cell_type": "markdown",
   "metadata": {},
   "source": [
    "### Looking at Top 100 Words Overlap to Create Stop Words"
   ]
  },
  {
   "cell_type": "code",
   "execution_count": 357,
   "metadata": {},
   "outputs": [],
   "source": [
    "off_top_100 = off_text_df.sum().sort_values(ascending=False)[:100]"
   ]
  },
  {
   "cell_type": "code",
   "execution_count": 362,
   "metadata": {},
   "outputs": [],
   "source": [
    "parks_top_100 = parks_text_df.sum().sort_values(ascending=False)[:100]"
   ]
  },
  {
   "cell_type": "code",
   "execution_count": 367,
   "metadata": {},
   "outputs": [],
   "source": [
    "overlap_100 = list(set(parks_top_100.index).intersection(set(off_top_100.index)))"
   ]
  },
  {
   "cell_type": "code",
   "execution_count": 368,
   "metadata": {},
   "outputs": [
    {
     "data": {
      "text/plain": [
       "77"
      ]
     },
     "execution_count": 368,
     "metadata": {},
     "output_type": "execute_result"
    }
   ],
   "source": [
    "len(overlap_100)"
   ]
  },
  {
   "cell_type": "markdown",
   "metadata": {},
   "source": [
    "We looked at the top 100 words for both individual subreddits and then looked at just the overlap between the two lists of top words. There were 77 words in both lists. After looking through this list, there are some words that can be helpful in determining which subreddit the post belongs to. The word `andy` is interesting because there is a character named Andy in both _The Office_ and _Parks and Recreation_. We will keep this word in our model because it's association with other words could help the model classify the posts. The word `office` comes up again and like we stated above, this word will be kept because it is in the title of one of the shows we are discussing. The rest of the words have no true association with either one of the shows so they will be included in our stop words list."
   ]
  },
  {
   "cell_type": "code",
   "execution_count": 374,
   "metadata": {},
   "outputs": [],
   "source": [
    "poss_stopwords = overlap_100"
   ]
  },
  {
   "cell_type": "code",
   "execution_count": 376,
   "metadata": {},
   "outputs": [],
   "source": [
    "poss_stopwords.remove('office')"
   ]
  },
  {
   "cell_type": "code",
   "execution_count": 377,
   "metadata": {},
   "outputs": [],
   "source": [
    "poss_stopwords.remove('andy')"
   ]
  },
  {
   "cell_type": "markdown",
   "metadata": {},
   "source": [
    "## Modeling"
   ]
  },
  {
   "cell_type": "markdown",
   "metadata": {},
   "source": [
    "### Preprocessing & Model Preparation"
   ]
  },
  {
   "cell_type": "code",
   "execution_count": 344,
   "metadata": {},
   "outputs": [],
   "source": [
    "# setting X & y, train test split\n",
    "#features = ['title','num_comments','score']\n",
    "X = reddit['title']\n",
    "y = reddit['subreddit']\n",
    "\n",
    "X_train, X_test, y_train, y_test = train_test_split(X, y, random_state = 42, stratify = y)"
   ]
  },
  {
   "cell_type": "code",
   "execution_count": 334,
   "metadata": {},
   "outputs": [],
   "source": [
    "# adapted from code from 5.03 NLP I global lesson\n",
    "\n",
    "def title_to_words(title):\n",
    "    # Remove non-letters.\n",
    "    letters_only = re.sub(\"[^a-zA-Z]\", \" \", title)\n",
    "    \n",
    "    # Convert to lower case, split into individual words.\n",
    "    words = letters_only.lower().split()\n",
    "    \n",
    "    # Instantiate stemmer.\n",
    "    p_stemmer = PorterStemmer()\n",
    "    \n",
    "    # Stem words.\n",
    "    stemmed_words = [p_stemmer.stem(i) for i in words]\n",
    "    \n",
    "    # In Python, searching a set is much faster than searching\n",
    "    # a list, so convert the stopwords to a set.\n",
    "    stops = set(stopwords.words('english'))\n",
    "    \n",
    "    # Remove stopwords.\n",
    "    meaningful_words = [w for w in stemmed_words if w not in stops]\n",
    "    \n",
    "    # Join the words back into one string separated by space, \n",
    "    # and return the result.\n",
    "    return(\" \".join(meaningful_words))"
   ]
  },
  {
   "cell_type": "code",
   "execution_count": 335,
   "metadata": {},
   "outputs": [
    {
     "name": "stdout",
     "output_type": "stream",
     "text": [
      "There are 4672 titles.\n"
     ]
    }
   ],
   "source": [
    "total_titles = reddit.shape[0]\n",
    "print(f'There are {total_titles} titles.')"
   ]
  },
  {
   "cell_type": "code",
   "execution_count": 336,
   "metadata": {},
   "outputs": [
    {
     "name": "stdout",
     "output_type": "stream",
     "text": [
      "Cleaning and parsing the training set titles...\n",
      "Review 1000 of 4672.\n",
      "Review 2000 of 4672.\n",
      "Review 3000 of 4672.\n",
      "Cleaning and parsing the testing set titles...\n",
      "Review 4000 of 4672.\n"
     ]
    }
   ],
   "source": [
    "# adapted from code from 5.03 NLP I global lesson\n",
    "\n",
    "\n",
    "# Initialize an empty list to hold the clean reviews.\n",
    "clean_X_train = []\n",
    "clean_X_test = []\n",
    "\n",
    "print(\"Cleaning and parsing the training set titles...\")\n",
    "\n",
    "# Instantiate counter.\n",
    "j = 0\n",
    "\n",
    "# For every review in our training set...\n",
    "for train_title in X_train:\n",
    "    \n",
    "    # Convert review to words, then append to clean_train_reviews.\n",
    "    clean_X_train.append(title_to_words(train_title))\n",
    "    \n",
    "    # If the index is divisible by 1000, print a message.\n",
    "    if (j + 1) % 1000 == 0:\n",
    "        print(f'Review {j + 1} of {total_titles}.')\n",
    "    \n",
    "    j += 1\n",
    "\n",
    "# Let's do the same for our testing set.\n",
    "print(\"Cleaning and parsing the testing set titles...\")\n",
    "\n",
    "# For every review in our testing set...\n",
    "for test_title in X_test:\n",
    "    \n",
    "    # Convert review to words, then append to clean_train_reviews.\n",
    "    clean_X_test.append(title_to_words(test_title))\n",
    "    \n",
    "    # If the index is divisible by 1000, print a message.\n",
    "    if (j + 1) % 1000 == 0:\n",
    "        print(f'Review {j + 1} of {total_titles}.')\n",
    "        \n",
    "    j += 1"
   ]
  },
  {
   "cell_type": "code",
   "execution_count": 338,
   "metadata": {},
   "outputs": [
    {
     "data": {
      "text/plain": [
       "['finish watch final',\n",
       " 'watch goodby tobi netflix',\n",
       " 'whi michael call corpor lead',\n",
       " 'heard joke today',\n",
       " 'talk amaz season set whole run show discuss amongst yourselv']"
      ]
     },
     "execution_count": 338,
     "metadata": {},
     "output_type": "execute_result"
    }
   ],
   "source": [
    "clean_X_test[:5]"
   ]
  },
  {
   "cell_type": "markdown",
   "metadata": {},
   "source": [
    "Using a stemmer did not improve the performance of the model, so we chose to forgo using one. "
   ]
  },
  {
   "cell_type": "markdown",
   "metadata": {},
   "source": [
    "### Baseline Model"
   ]
  },
  {
   "cell_type": "code",
   "execution_count": 245,
   "metadata": {},
   "outputs": [
    {
     "data": {
      "text/plain": [
       "0    0.561644\n",
       "1    0.438356\n",
       "Name: subreddit, dtype: float64"
      ]
     },
     "execution_count": 245,
     "metadata": {},
     "output_type": "execute_result"
    }
   ],
   "source": [
    "y_test.value_counts(normalize=True)"
   ]
  },
  {
   "cell_type": "markdown",
   "metadata": {},
   "source": [
    "Our baseline model would be one that predicts the majority class for every entry. If we did this, the model would perform with 56.1% accuracy, correctly predicting all of the entries from The Office subreddit (r/DunderMifflin). We are looking to make a model that performs better than the baseline."
   ]
  },
  {
   "cell_type": "markdown",
   "metadata": {},
   "source": [
    "### Natural Language Processing & Logistic Regression"
   ]
  },
  {
   "cell_type": "code",
   "execution_count": 479,
   "metadata": {},
   "outputs": [],
   "source": [
    "# define pipeline\n",
    "pipe = Pipeline([\n",
    "    ('vec', CountVectorizer()),\n",
    "    ('tfidf', TfidfTransformer()),\n",
    "    ('lr', LogisticRegression(C=5))])\n",
    "\n",
    "# construct paramters\n",
    "params = {'vec__max_features':[800, 1000],\n",
    "         'vec__ngram_range'  :[(1,1),(1,2)],\n",
    "         'vec__min_df'       :[1,2,3],\n",
    "         'vec__max_df'       :[.90],\n",
    "          'vec__stop_words'  :[None, 'english', poss_stopwords],\n",
    "          'tfidf__use_idf'   :[True,False]}\n",
    "\n",
    " # Perform Grid Search\n",
    "gs = GridSearchCV(pipe, # pipeline object replaces what we usually had as empty model class\n",
    "                 param_grid=params,\n",
    "                 cv = 4,\n",
    "                 scoring = 'accuracy')\n",
    "logreg = gs.fit(X_train, y_train)"
   ]
  },
  {
   "cell_type": "code",
   "execution_count": 480,
   "metadata": {},
   "outputs": [
    {
     "data": {
      "text/plain": [
       "0.7936643835616438"
      ]
     },
     "execution_count": 480,
     "metadata": {},
     "output_type": "execute_result"
    }
   ],
   "source": [
    "logreg.best_score_"
   ]
  },
  {
   "cell_type": "code",
   "execution_count": 481,
   "metadata": {},
   "outputs": [
    {
     "data": {
      "text/plain": [
       "{'tfidf__use_idf': False,\n",
       " 'vec__max_df': 0.9,\n",
       " 'vec__max_features': 1000,\n",
       " 'vec__min_df': 1,\n",
       " 'vec__ngram_range': (1, 1),\n",
       " 'vec__stop_words': 'english'}"
      ]
     },
     "execution_count": 481,
     "metadata": {},
     "output_type": "execute_result"
    }
   ],
   "source": [
    "logreg.best_params_"
   ]
  },
  {
   "cell_type": "code",
   "execution_count": 482,
   "metadata": {},
   "outputs": [
    {
     "data": {
      "text/plain": [
       "0.8961187214611872"
      ]
     },
     "execution_count": 482,
     "metadata": {},
     "output_type": "execute_result"
    }
   ],
   "source": [
    "logreg_train = logreg.score(X_train, y_train)\n",
    "logreg_train"
   ]
  },
  {
   "cell_type": "code",
   "execution_count": 483,
   "metadata": {},
   "outputs": [
    {
     "data": {
      "text/plain": [
       "0.7945205479452054"
      ]
     },
     "execution_count": 483,
     "metadata": {},
     "output_type": "execute_result"
    }
   ],
   "source": [
    "logreg_test = logreg.score(X_test, y_test)\n",
    "logreg_test"
   ]
  },
  {
   "cell_type": "code",
   "execution_count": 485,
   "metadata": {},
   "outputs": [
    {
     "name": "stdout",
     "output_type": "stream",
     "text": [
      "Logistic Regression:\n",
      "Train Accuracy: 0.8961187214611872\n",
      "Test Accuracy: 0.7945205479452054\n",
      "Cross Val Accuracy: 0.7936643835616438\n",
      "Difference (Train - Test): 0.10159817351598177\n"
     ]
    }
   ],
   "source": [
    "print(f'Logistic Regression:')\n",
    "print(f'Train Accuracy: {logreg_train}')\n",
    "print(f'Test Accuracy: {logreg_test}')\n",
    "print(f'Cross Val Accuracy: {logreg.best_score_}')\n",
    "print(f'Difference (Train - Test): {logreg_train - logreg_test}')"
   ]
  },
  {
   "cell_type": "code",
   "execution_count": 331,
   "metadata": {},
   "outputs": [
    {
     "data": {
      "text/plain": [
       "LogisticRegression(C=5, class_weight=None, dual=False, fit_intercept=True,\n",
       "                   intercept_scaling=1, l1_ratio=None, max_iter=100,\n",
       "                   multi_class='auto', n_jobs=None, penalty='l1',\n",
       "                   random_state=None, solver='liblinear', tol=0.0001, verbose=0,\n",
       "                   warm_start=False)"
      ]
     },
     "execution_count": 331,
     "metadata": {},
     "output_type": "execute_result"
    }
   ],
   "source": [
    "results.best_estimator_.steps[2][1]"
   ]
  },
  {
   "cell_type": "code",
   "execution_count": 353,
   "metadata": {},
   "outputs": [],
   "source": [
    "coefs = results.best_estimator_.steps[2][1].coef_"
   ]
  },
  {
   "cell_type": "code",
   "execution_count": 354,
   "metadata": {},
   "outputs": [],
   "source": [
    "cols = results.best_estimator_.steps[0][1].get_feature_names()"
   ]
  },
  {
   "cell_type": "code",
   "execution_count": 347,
   "metadata": {},
   "outputs": [],
   "source": [
    "#results.best_estimator_.steps[0][1].vocabulary_.keys()"
   ]
  },
  {
   "cell_type": "code",
   "execution_count": 329,
   "metadata": {},
   "outputs": [],
   "source": []
  },
  {
   "cell_type": "code",
   "execution_count": 348,
   "metadata": {},
   "outputs": [],
   "source": [
    "cols = pd.Series(cols)"
   ]
  },
  {
   "cell_type": "code",
   "execution_count": 349,
   "metadata": {},
   "outputs": [
    {
     "data": {
      "text/plain": [
       "(500,)"
      ]
     },
     "execution_count": 349,
     "metadata": {},
     "output_type": "execute_result"
    }
   ],
   "source": [
    "cols.shape"
   ]
  },
  {
   "cell_type": "code",
   "execution_count": 341,
   "metadata": {},
   "outputs": [],
   "source": [
    "#coefs[0]"
   ]
  },
  {
   "cell_type": "code",
   "execution_count": 357,
   "metadata": {},
   "outputs": [],
   "source": [
    "coefs = coefs[0]"
   ]
  },
  {
   "cell_type": "code",
   "execution_count": null,
   "metadata": {},
   "outputs": [],
   "source": []
  },
  {
   "cell_type": "code",
   "execution_count": 358,
   "metadata": {},
   "outputs": [],
   "source": [
    "feature_coefs = pd.DataFrame(coefs, index=cols)"
   ]
  },
  {
   "cell_type": "code",
   "execution_count": 361,
   "metadata": {},
   "outputs": [
    {
     "data": {
      "text/html": [
       "<div>\n",
       "<style scoped>\n",
       "    .dataframe tbody tr th:only-of-type {\n",
       "        vertical-align: middle;\n",
       "    }\n",
       "\n",
       "    .dataframe tbody tr th {\n",
       "        vertical-align: top;\n",
       "    }\n",
       "\n",
       "    .dataframe thead th {\n",
       "        text-align: right;\n",
       "    }\n",
       "</style>\n",
       "<table border=\"1\" class=\"dataframe\">\n",
       "  <thead>\n",
       "    <tr style=\"text-align: right;\">\n",
       "      <th></th>\n",
       "      <th>0</th>\n",
       "    </tr>\n",
       "  </thead>\n",
       "  <tbody>\n",
       "    <tr>\n",
       "      <th>ron</th>\n",
       "      <td>13.900652</td>\n",
       "    </tr>\n",
       "    <tr>\n",
       "      <th>april</th>\n",
       "      <td>13.191169</td>\n",
       "    </tr>\n",
       "    <tr>\n",
       "      <th>leslie</th>\n",
       "      <td>11.179019</td>\n",
       "    </tr>\n",
       "    <tr>\n",
       "      <th>ben</th>\n",
       "      <td>11.002233</td>\n",
       "    </tr>\n",
       "    <tr>\n",
       "      <th>ann</th>\n",
       "      <td>10.757901</td>\n",
       "    </tr>\n",
       "    <tr>\n",
       "      <th>jerry</th>\n",
       "      <td>10.405358</td>\n",
       "    </tr>\n",
       "    <tr>\n",
       "      <th>pawnee</th>\n",
       "      <td>9.049651</td>\n",
       "    </tr>\n",
       "    <tr>\n",
       "      <th>parks</th>\n",
       "      <td>8.708102</td>\n",
       "    </tr>\n",
       "    <tr>\n",
       "      <th>pandr</th>\n",
       "      <td>8.394421</td>\n",
       "    </tr>\n",
       "    <tr>\n",
       "      <th>karate</th>\n",
       "      <td>6.768944</td>\n",
       "    </tr>\n",
       "    <tr>\n",
       "      <th>amp</th>\n",
       "      <td>6.714690</td>\n",
       "    </tr>\n",
       "    <tr>\n",
       "      <th>ralphio</th>\n",
       "      <td>6.482324</td>\n",
       "    </tr>\n",
       "    <tr>\n",
       "      <th>chris</th>\n",
       "      <td>6.370068</td>\n",
       "    </tr>\n",
       "    <tr>\n",
       "      <th>donna</th>\n",
       "      <td>6.261672</td>\n",
       "    </tr>\n",
       "    <tr>\n",
       "      <th>tammy</th>\n",
       "      <td>5.926513</td>\n",
       "    </tr>\n",
       "  </tbody>\n",
       "</table>\n",
       "</div>"
      ],
      "text/plain": [
       "                 0\n",
       "ron      13.900652\n",
       "april    13.191169\n",
       "leslie   11.179019\n",
       "ben      11.002233\n",
       "ann      10.757901\n",
       "jerry    10.405358\n",
       "pawnee    9.049651\n",
       "parks     8.708102\n",
       "pandr     8.394421\n",
       "karate    6.768944\n",
       "amp       6.714690\n",
       "ralphio   6.482324\n",
       "chris     6.370068\n",
       "donna     6.261672\n",
       "tammy     5.926513"
      ]
     },
     "execution_count": 361,
     "metadata": {},
     "output_type": "execute_result"
    }
   ],
   "source": [
    "feature_coefs.sort_values(0,ascending=False).head(15)"
   ]
  },
  {
   "cell_type": "markdown",
   "metadata": {},
   "source": [
    "### Multinomial Naive Bayes"
   ]
  },
  {
   "cell_type": "code",
   "execution_count": 486,
   "metadata": {},
   "outputs": [],
   "source": [
    "# define pipeline\n",
    "pipe = Pipeline([\n",
    "    ('vec', CountVectorizer(max_df=.9)),\n",
    "    ('tfidf', TfidfTransformer()),\n",
    "    ('mnb', MultinomialNB())])\n",
    "\n",
    "# construct paramters\n",
    "params = {'vec__max_features':[800, 1000],\n",
    "         'vec__ngram_range'  :[(1,1),(1,2)],\n",
    "         'vec__min_df'       :[1,2],\n",
    "          'vec__stop_words'  :[None, 'english', poss_stopwords],\n",
    "          'tfidf__use_idf'   :[True,False]}\n",
    "\n",
    " # Perform Grid Search\n",
    "gs = GridSearchCV(pipe, # pipeline object replaces what we usually had as empty model class\n",
    "                 param_grid=params,\n",
    "                 cv = 4,\n",
    "                 scoring = 'accuracy')\n",
    "mnb = gs.fit(X_train, y_train)"
   ]
  },
  {
   "cell_type": "code",
   "execution_count": 487,
   "metadata": {},
   "outputs": [
    {
     "data": {
      "text/plain": [
       "0.7902397260273972"
      ]
     },
     "execution_count": 487,
     "metadata": {},
     "output_type": "execute_result"
    }
   ],
   "source": [
    "mnb.best_score_"
   ]
  },
  {
   "cell_type": "code",
   "execution_count": 488,
   "metadata": {},
   "outputs": [
    {
     "data": {
      "text/plain": [
       "{'tfidf__use_idf': False,\n",
       " 'vec__max_features': 1000,\n",
       " 'vec__min_df': 2,\n",
       " 'vec__ngram_range': (1, 1),\n",
       " 'vec__stop_words': 'english'}"
      ]
     },
     "execution_count": 488,
     "metadata": {},
     "output_type": "execute_result"
    }
   ],
   "source": [
    "mnb.best_params_"
   ]
  },
  {
   "cell_type": "code",
   "execution_count": 491,
   "metadata": {},
   "outputs": [
    {
     "data": {
      "text/plain": [
       "0.8547374429223744"
      ]
     },
     "execution_count": 491,
     "metadata": {},
     "output_type": "execute_result"
    }
   ],
   "source": [
    "mnb_train = mnb.score(X_train, y_train)\n",
    "mnb_train"
   ]
  },
  {
   "cell_type": "code",
   "execution_count": 492,
   "metadata": {},
   "outputs": [
    {
     "data": {
      "text/plain": [
       "0.7902397260273972"
      ]
     },
     "execution_count": 492,
     "metadata": {},
     "output_type": "execute_result"
    }
   ],
   "source": [
    "mnb_test = mnb.score(X_test, y_test)\n",
    "mnb_test"
   ]
  },
  {
   "cell_type": "code",
   "execution_count": 493,
   "metadata": {},
   "outputs": [
    {
     "name": "stdout",
     "output_type": "stream",
     "text": [
      "Multinomial Naive Bayes:\n",
      "Train Accuracy: 0.8547374429223744\n",
      "Test Accuracy: 0.7902397260273972\n",
      "Cross Val Accuracy: 0.7902397260273972\n",
      "Difference (Train - Test): 0.06449771689497719\n"
     ]
    }
   ],
   "source": [
    "print(f'Multinomial Naive Bayes:')\n",
    "print(f'Train Accuracy: {mnb_train}')\n",
    "print(f'Test Accuracy: {mnb_test}')\n",
    "print(f'Cross Val Accuracy: {mnb.best_score_}')\n",
    "print(f'Difference (Train - Test): {mnb_train - mnb_test}')"
   ]
  },
  {
   "cell_type": "markdown",
   "metadata": {},
   "source": [
    "### _k_-Nearest Neighbors"
   ]
  },
  {
   "cell_type": "code",
   "execution_count": 494,
   "metadata": {},
   "outputs": [],
   "source": [
    "# define pipeline\n",
    "pipe = Pipeline([\n",
    "    ('vec', CountVectorizer(max_df=.9, stop_words='english')),\n",
    "    ('tfidf', TfidfTransformer()),\n",
    "    ('knn', KNeighborsClassifier())])\n",
    "\n",
    "# construct paramters\n",
    "params = {'vec__max_features':[150, 300, 500],\n",
    "         'vec__ngram_range'  :[(1,1),(1,2)],\n",
    "         'vec__min_df'       :[1,2, 3],\n",
    "          'tfidf__use_idf'   :[True,False],\n",
    "         'knn__n_neighbors'  :[5, 7, 10]}\n",
    "\n",
    " # Perform Grid Search\n",
    "gs = GridSearchCV(pipe, # pipeline object replaces what we usually had as empty model class\n",
    "                 param_grid=params,\n",
    "                 cv = 4,\n",
    "                 scoring = 'accuracy')\n",
    "knn = gs.fit(X_train, y_train)"
   ]
  },
  {
   "cell_type": "code",
   "execution_count": 495,
   "metadata": {},
   "outputs": [
    {
     "data": {
      "text/plain": [
       "0.7231735159817352"
      ]
     },
     "execution_count": 495,
     "metadata": {},
     "output_type": "execute_result"
    }
   ],
   "source": [
    "knn.best_score_"
   ]
  },
  {
   "cell_type": "code",
   "execution_count": 496,
   "metadata": {},
   "outputs": [
    {
     "data": {
      "text/plain": [
       "{'knn__n_neighbors': 10,\n",
       " 'tfidf__use_idf': False,\n",
       " 'vec__max_features': 300,\n",
       " 'vec__min_df': 2,\n",
       " 'vec__ngram_range': (1, 2)}"
      ]
     },
     "execution_count": 496,
     "metadata": {},
     "output_type": "execute_result"
    }
   ],
   "source": [
    "knn.best_params_"
   ]
  },
  {
   "cell_type": "code",
   "execution_count": 497,
   "metadata": {},
   "outputs": [
    {
     "data": {
      "text/plain": [
       "0.7745433789954338"
      ]
     },
     "execution_count": 497,
     "metadata": {},
     "output_type": "execute_result"
    }
   ],
   "source": [
    "knn_train = knn.score(X_train, y_train)\n",
    "knn_train"
   ]
  },
  {
   "cell_type": "code",
   "execution_count": 498,
   "metadata": {},
   "outputs": [
    {
     "data": {
      "text/plain": [
       "0.7157534246575342"
      ]
     },
     "execution_count": 498,
     "metadata": {},
     "output_type": "execute_result"
    }
   ],
   "source": [
    "knn_test = knn.score(X_test, y_test)\n",
    "knn_test"
   ]
  },
  {
   "cell_type": "code",
   "execution_count": 499,
   "metadata": {},
   "outputs": [
    {
     "name": "stdout",
     "output_type": "stream",
     "text": [
      "k-Nearest Neighbors:\n",
      "Train Accuracy: 0.7745433789954338\n",
      "Test Accuracy: 0.7157534246575342\n",
      "Cross Val Accuracy: 0.7231735159817352\n",
      "Difference (Train - Test): 0.058789954337899575\n"
     ]
    }
   ],
   "source": [
    "print(f'k-Nearest Neighbors:')\n",
    "print(f'Train Accuracy: {knn_train}')\n",
    "print(f'Test Accuracy: {knn_test}')\n",
    "print(f'Cross Val Accuracy: {knn.best_score_}')\n",
    "print(f'Difference (Train - Test): {knn_train - knn_test}')"
   ]
  },
  {
   "cell_type": "markdown",
   "metadata": {},
   "source": [
    "### Decision Tree"
   ]
  },
  {
   "cell_type": "code",
   "execution_count": 432,
   "metadata": {},
   "outputs": [],
   "source": [
    "tree = DecisionTreeClassifier(random_state=42)\n"
   ]
  },
  {
   "cell_type": "code",
   "execution_count": 500,
   "metadata": {},
   "outputs": [],
   "source": [
    "# define pipeline\n",
    "pipe = Pipeline([\n",
    "    ('vec', CountVectorizer(max_df=.9)),\n",
    "    ('tfidf', TfidfTransformer()),\n",
    "    ('tree', DecisionTreeClassifier(random_state=42))])\n",
    "\n",
    "# construct paramters\n",
    "params = {'vec__max_features':[250, 300],\n",
    "         'vec__ngram_range'  :[(1,1),(1,2)],\n",
    "         'vec__min_df'       :[1,2],\n",
    "          'vec__stop_words'  :['english', poss_stopwords],\n",
    "          'tfidf__use_idf'   :[True,False],\n",
    "         'tree__max_depth'   :[70,80,100],\n",
    "         'tree__max_features':['auto']}\n",
    "\n",
    " # Perform Grid Search\n",
    "gs = GridSearchCV(pipe, # pipeline object replaces what we usually had as empty model class\n",
    "                 param_grid=params,\n",
    "                 cv = 4,\n",
    "                 scoring = 'accuracy')\n",
    "tree = gs.fit(X_train, y_train)"
   ]
  },
  {
   "cell_type": "code",
   "execution_count": 501,
   "metadata": {},
   "outputs": [
    {
     "data": {
      "text/plain": [
       "0.7654109589041097"
      ]
     },
     "execution_count": 501,
     "metadata": {},
     "output_type": "execute_result"
    }
   ],
   "source": [
    "tree.best_score_"
   ]
  },
  {
   "cell_type": "code",
   "execution_count": 502,
   "metadata": {},
   "outputs": [
    {
     "data": {
      "text/plain": [
       "{'tfidf__use_idf': True,\n",
       " 'tree__max_depth': 80,\n",
       " 'tree__max_features': 'auto',\n",
       " 'vec__max_features': 300,\n",
       " 'vec__min_df': 1,\n",
       " 'vec__ngram_range': (1, 1),\n",
       " 'vec__stop_words': 'english'}"
      ]
     },
     "execution_count": 502,
     "metadata": {},
     "output_type": "execute_result"
    }
   ],
   "source": [
    "tree.best_params_"
   ]
  },
  {
   "cell_type": "code",
   "execution_count": 505,
   "metadata": {},
   "outputs": [
    {
     "data": {
      "text/plain": [
       "0.8344748858447488"
      ]
     },
     "execution_count": 505,
     "metadata": {},
     "output_type": "execute_result"
    }
   ],
   "source": [
    "tree_train = tree.score(X_train, y_train)\n",
    "tree_train"
   ]
  },
  {
   "cell_type": "code",
   "execution_count": 506,
   "metadata": {},
   "outputs": [
    {
     "data": {
      "text/plain": [
       "0.7551369863013698"
      ]
     },
     "execution_count": 506,
     "metadata": {},
     "output_type": "execute_result"
    }
   ],
   "source": [
    "tree_test = tree.score(X_test, y_test)\n",
    "tree_test"
   ]
  },
  {
   "cell_type": "code",
   "execution_count": 507,
   "metadata": {},
   "outputs": [
    {
     "name": "stdout",
     "output_type": "stream",
     "text": [
      "Decision Tree:\n",
      "Train Accuracy: 0.8344748858447488\n",
      "Test Accuracy: 0.7551369863013698\n",
      "Cross Val Accuracy: 0.7654109589041097\n",
      "Difference (Train - Test): 0.079337899543379\n"
     ]
    }
   ],
   "source": [
    "print(f'Decision Tree:')\n",
    "print(f'Train Accuracy: {tree_train}')\n",
    "print(f'Test Accuracy: {tree_test}')\n",
    "print(f'Cross Val Accuracy: {tree.best_score_}')\n",
    "print(f'Difference (Train - Test): {tree_train - tree_test}')"
   ]
  },
  {
   "cell_type": "markdown",
   "metadata": {},
   "source": [
    "### References\n",
    "\n",
    "https://www.reddit.com/r/DunderMifflin/  \n",
    "https://www.reddit.com/r/PandR/"
   ]
  },
  {
   "cell_type": "code",
   "execution_count": null,
   "metadata": {},
   "outputs": [],
   "source": []
  }
 ],
 "metadata": {
  "kernelspec": {
   "display_name": "Python 3",
   "language": "python",
   "name": "python3"
  },
  "language_info": {
   "codemirror_mode": {
    "name": "ipython",
    "version": 3
   },
   "file_extension": ".py",
   "mimetype": "text/x-python",
   "name": "python",
   "nbconvert_exporter": "python",
   "pygments_lexer": "ipython3",
   "version": "3.7.6"
  }
 },
 "nbformat": 4,
 "nbformat_minor": 4
}

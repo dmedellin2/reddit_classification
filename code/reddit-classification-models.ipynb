{
 "cells": [
  {
   "cell_type": "markdown",
   "metadata": {},
   "source": [
    "# Subreddit Classification Using Web APIs & NLP\n",
    "### By: Danielle Medellin [GitHub](https://github.com/dmedellin2)"
   ]
  },
  {
   "cell_type": "markdown",
   "metadata": {},
   "source": [
    "## Table of Contents:\n",
    "- [Problem Statement](#Problem-Statement)  \n",
    "- [Executive Summary](#Executive-Summary)  \n",
    "    - [Data Dictionary](#Data-Dictionary)\n",
    "- [Data Import](#Data-Import)  \n",
    "- [Data Cleaning](#Data-Cleaning)  \n",
    "- [Exploratory Data Analysis](#Exploratory-Data-Analysis)\n",
    "    - [Stop Words](#Looking-at-Top-100-Words-Overlap-to-Create-Stop-Words)\n",
    "- [Modeling](#Modeling)\n",
    "    - [Model Preparation](#Model-Preparation)\n",
    "    - [Baseline Model](#Baseline-Model)\n",
    "    - [Logistic Regression](#Logistic-Regression)\n",
    "    - [Multinomial Naive Bayes](#Multinomial-Naive-Bayes)\n",
    "    - [k-Nearest Neighbors](#k-Nearest-Neighbors)\n",
    "    - [Decision Tree](#Decision-Tree-(CART))\n",
    "    - [Bagging Classifier](#Bagging-Classifier-(Bootstrap-Aggregating))\n",
    "    - [Random Forest](#Random-Forest)\n",
    "    - [Support Vector Machine](#Support-Vector-Machine)\n",
    "- [Model Selection](#Model-Selection)\n",
    "- [Model Evaluation](#Model-Evaluation)\n",
    "    - [Predictive Model](#Predictive-Model---Multinomial-Naive-Bayes)\n",
    "    - [Interpretable Model](#Interpretable-Model---Logistic-Regression)\n",
    "- [Conclusions and Recommendations](#Conclusions-&-Recommendations)\n",
    "- [References](#References)"
   ]
  },
  {
   "cell_type": "markdown",
   "metadata": {},
   "source": [
    "## Problem Statement \n",
    "[Top](#Table-of-Contents:)\n",
    "\n",
    "NBC is looking to see how people engage with some of their most famous sitcoms on social media. An intern at NBC was tasked with gathering as many posts as he could for NBC sitcoms like _Will & Grace, The Office, Parks and Recreation, Brooklyn 99_, and _The Good Place_. Unfortunately, this intern was terrible at organization and dumped all of the posts he found into one general folder. NBC needs help identifying which show these posts belong to and have asked for our help, specifically with their difficulty classifying two shows: _The Office_ and _Parks and Recreation._\n",
    "\n",
    "It is so difficult to separate the posts between these two shows because they share a lot of similarities. For starters, they share some of the same creators including Greg Daniels and Michael Schur. Both shows are considered workplace comedies as they take place at either a paper company or a government office. While both shows started and ended in different years, they had many years of overlap where both were actively on the air. Additionally, the two shows share some character names and even an actor! For example, both shows include a character named 'Andy' and Rashida Jones played a consistent role in both TV shows. Looking at crossover between character names and actor names, we get even more commonalities, for example the character 'Michael Scott' from _The Office_ and the actor Adam Scott, who plays a main role in _Parks and Recreation_.  \n",
    "\n",
    "Due to the many similarities between these two shows, NBC came to us to help them sort through the posts they gathered. We will use the related subreddits for each of these shows to help us build a model that can classify the posts correctly. The two subreddits we will use are: **r/DunderMifflin** -- _The Office_, and **r/PandR** -- _Parks and Recreation_ .  \n",
    "\n",
    "Additionally, NBC is also interested in what content helped made it possible to differentiate between the two shows and what Reddit users are talking about the most in each of the subreddits. \n",
    "\n",
    "We will build a classification model that will help to sort each post to its appropriate subreddit. Our model's success will be measured with an accuracy score."
   ]
  },
  {
   "cell_type": "markdown",
   "metadata": {},
   "source": [
    "## Executive Summary\n",
    "[Top](#Table-of-Contents:)\n",
    "\n",
    "Our goal was to build a model that could classify reddit submissions into their appropriate subreddits, which were based on two TV shows that share a lot of similarities. We wanted to find the best indicators that could help predict which subreddit a submission would fall into. \n",
    "\n",
    "We collected our data using the Pushshift Reddit API. The work for this can be found in the `data_gathering` notebook. We collected submissions from both subreddits in 6 month intervals over the past 10 years. Both shows have been off the air for quite some time so we had to dig a little deeper to find posts that were submitted when the shows were still on. _The Office_ aired from 2005-2013 and _Parks and Recreation_ aired from 2009-2015. Both subreddits were first created in January 2011. \n",
    "\n",
    "The data we collected included the submissions to the individual subreddits and information about those submissions including: titles, number of comments, authors, and scores. A full data dictionary can be found below. \n",
    "\n",
    "### Data Dictionary\n",
    "\n",
    "\n",
    "|Feature|Type|Description|\n",
    "|:---|:---:|:---|\n",
    "|title|object|The title of the Reddit submission|\n",
    "|selftext|object|Additional text about the post (optional)|\n",
    "|subreddit|int|A 0 indicates r/DunderMiffilin, a 1 indicates r/PandR|\n",
    "|author|object|Username of submission author|\n",
    "|num_comments|int|Number of comments on that submission|\n",
    "|score|int|A submission's score is the number of upvotes minus the number of downvotes|\n",
    "|timestamp|datetime|The date of submission|\n",
    "\n",
    "\n",
    "Once we had our data, we did some data cleaning and began to look at the possible features that could help predict which subreddit a post was from. Each submission has a title and we beleived that looking at the contents of these titles would be a good indicator of subreddit page. Many of the submissions had additional text(self text), but not all submissions did. This could have added information to our model, but was determined to not be a useful feature because we were missing a good portion of that data, and for many of the posts on these subreddits, there was very little additional text. Most posts included images or videos. We explored other features such as number of comments on a post and a submission score, but ultimately found that there was not enough difference in these features for each of the subreddits to help our predictions. \n",
    "\n",
    "Our main feature to load into our model would be the titles of the submissions. In order to be useful, we had to turn this data into numeric data and did so using a Count Vectorizer or TF-IDF Vectorizer, which looked at the frequencies of the words in each title. We explored the most frequently seen words and created a list of stop words that we felt were not useful in identifying an individual subreddit and thus would not include them in the modeling process. This was an iterative process, as the two shows shared a lot, and thus there was a lot of overlap in the top most used words in submission titles. \n",
    "\n",
    "We then explored many different classification models, taking time to tune each one in an effort to get a high accuracy score, and a model that was not too overfit. We evaluated our models and from them made conclusions and recommendations for NBC and how they could move forward with their sorting problem. "
   ]
  },
  {
   "cell_type": "markdown",
   "metadata": {},
   "source": [
    "## Data Import\n",
    "[Top](#Table-of-Contents:)  \n",
    "In the _data_gathering_ notebook, one can view the process for using the Pushsihift Reddit API to collect posts from the r/DunderMifflin and r/PandR subreddits over the course of the past 10 years."
   ]
  },
  {
   "cell_type": "markdown",
   "metadata": {},
   "source": [
    "### Importing Libraries\n",
    "[Top](#Table-of-Contents:)"
   ]
  },
  {
   "cell_type": "code",
   "execution_count": 213,
   "metadata": {},
   "outputs": [],
   "source": [
    "import pandas as pd\n",
    "import numpy as np\n",
    "import matplotlib.pyplot as plt\n",
    "import seaborn as sns\n",
    "from sklearn.model_selection import train_test_split, GridSearchCV, cross_val_score\n",
    "from sklearn.pipeline import Pipeline\n",
    "from sklearn.linear_model import LogisticRegression\n",
    "from sklearn.feature_extraction.text import CountVectorizer, TfidfVectorizer, TfidfTransformer, ENGLISH_STOP_WORDS as stopwords\n",
    "from sklearn.naive_bayes import MultinomialNB, GaussianNB, BernoulliNB\n",
    "from sklearn.base import TransformerMixin\n",
    "from sklearn.neighbors import KNeighborsClassifier\n",
    "from sklearn.preprocessing import StandardScaler\n",
    "from sklearn.feature_selection import SelectKBest, chi2\n",
    "from nltk.stem import WordNetLemmatizer\n",
    "from nltk.tokenize import RegexpTokenizer\n",
    "import regex as re\n",
    "from nltk.stem.porter import PorterStemmer\n",
    "from nltk.corpus import stopwords\n",
    "from sklearn.ensemble import BaggingClassifier, RandomForestClassifier\n",
    "from sklearn.tree import DecisionTreeClassifier, plot_tree, export_text\n",
    "from sklearn.metrics import accuracy_score, confusion_matrix\n",
    "from sklearn.compose import make_column_transformer\n",
    "from sklearn.base import BaseEstimator, TransformerMixin \n",
    "from sklearn.svm import SVC\n",
    "\n",
    "\n",
    "#import warnings\n",
    "# warnings.filterwarnings(\"ignore\") "
   ]
  },
  {
   "cell_type": "code",
   "execution_count": 2,
   "metadata": {},
   "outputs": [],
   "source": [
    "# read in the data\n",
    "reddit = pd.read_csv('../data/reddit.csv')\n",
    "reddit.drop(columns=['created_utc','is_self'],inplace=True) # drop unnecessary columns "
   ]
  },
  {
   "cell_type": "code",
   "execution_count": 3,
   "metadata": {},
   "outputs": [
    {
     "data": {
      "text/html": [
       "<div>\n",
       "<style scoped>\n",
       "    .dataframe tbody tr th:only-of-type {\n",
       "        vertical-align: middle;\n",
       "    }\n",
       "\n",
       "    .dataframe tbody tr th {\n",
       "        vertical-align: top;\n",
       "    }\n",
       "\n",
       "    .dataframe thead th {\n",
       "        text-align: right;\n",
       "    }\n",
       "</style>\n",
       "<table border=\"1\" class=\"dataframe\">\n",
       "  <thead>\n",
       "    <tr style=\"text-align: right;\">\n",
       "      <th></th>\n",
       "      <th>title</th>\n",
       "      <th>selftext</th>\n",
       "      <th>subreddit</th>\n",
       "      <th>author</th>\n",
       "      <th>num_comments</th>\n",
       "      <th>score</th>\n",
       "      <th>timestamp</th>\n",
       "    </tr>\n",
       "  </thead>\n",
       "  <tbody>\n",
       "    <tr>\n",
       "      <th>0</th>\n",
       "      <td>Letter to Brendanawicz</td>\n",
       "      <td>This guy had no chance. He started out being c...</td>\n",
       "      <td>PandR</td>\n",
       "      <td>RandySwango</td>\n",
       "      <td>4</td>\n",
       "      <td>18</td>\n",
       "      <td>2019-10-17</td>\n",
       "    </tr>\n",
       "    <tr>\n",
       "      <th>1</th>\n",
       "      <td>Just started watching the show on Amazon Prime...</td>\n",
       "      <td>At least on season two as I've noticed the sub...</td>\n",
       "      <td>PandR</td>\n",
       "      <td>Oo00oOo00oOO</td>\n",
       "      <td>0</td>\n",
       "      <td>1</td>\n",
       "      <td>2019-10-17</td>\n",
       "    </tr>\n",
       "  </tbody>\n",
       "</table>\n",
       "</div>"
      ],
      "text/plain": [
       "                                               title  \\\n",
       "0                             Letter to Brendanawicz   \n",
       "1  Just started watching the show on Amazon Prime...   \n",
       "\n",
       "                                            selftext subreddit        author  \\\n",
       "0  This guy had no chance. He started out being c...     PandR   RandySwango   \n",
       "1  At least on season two as I've noticed the sub...     PandR  Oo00oOo00oOO   \n",
       "\n",
       "   num_comments  score   timestamp  \n",
       "0             4     18  2019-10-17  \n",
       "1             0      1  2019-10-17  "
      ]
     },
     "execution_count": 3,
     "metadata": {},
     "output_type": "execute_result"
    }
   ],
   "source": [
    "# check dataframe\n",
    "reddit.head(2)"
   ]
  },
  {
   "cell_type": "markdown",
   "metadata": {},
   "source": [
    "Refer to the [data dictonary](#Data-Dictionary) for more information on the features of this data. "
   ]
  },
  {
   "cell_type": "markdown",
   "metadata": {},
   "source": [
    "## Data Cleaning\n",
    "[Top](#Table-of-Contents:)"
   ]
  },
  {
   "cell_type": "code",
   "execution_count": 4,
   "metadata": {},
   "outputs": [
    {
     "data": {
      "text/plain": [
       "(4675, 7)"
      ]
     },
     "execution_count": 4,
     "metadata": {},
     "output_type": "execute_result"
    }
   ],
   "source": [
    "# check the shape of the data\n",
    "reddit.shape"
   ]
  },
  {
   "cell_type": "markdown",
   "metadata": {},
   "source": [
    "Our `reddit` dataframe includes 4675 reddit posts, each with 7 features."
   ]
  },
  {
   "cell_type": "code",
   "execution_count": 5,
   "metadata": {},
   "outputs": [
    {
     "data": {
      "text/plain": [
       "title             0\n",
       "selftext        570\n",
       "subreddit         0\n",
       "author            0\n",
       "num_comments      0\n",
       "score             0\n",
       "timestamp         0\n",
       "dtype: int64"
      ]
     },
     "execution_count": 5,
     "metadata": {},
     "output_type": "execute_result"
    }
   ],
   "source": [
    "# checking for null values\n",
    "reddit.isnull().sum()"
   ]
  },
  {
   "cell_type": "markdown",
   "metadata": {},
   "source": [
    "The only column with null values is the `selftext` column, which we will not be using in analysis. For text analysis, we will focus on the title column only. This was decided because of the amount of missing data for the `selftext` column and because of the nature of the subreddits we are looking at. Many of the submissions for these subreddits simply include images or videos and not a lot of text besides the title. Additionally, many were simply links or deleted altogether. We decided that this column would not be helpful in creating an accurate preditction."
   ]
  },
  {
   "cell_type": "code",
   "execution_count": 6,
   "metadata": {},
   "outputs": [
    {
     "data": {
      "text/plain": [
       "title           object\n",
       "selftext        object\n",
       "subreddit       object\n",
       "author          object\n",
       "num_comments     int64\n",
       "score            int64\n",
       "timestamp       object\n",
       "dtype: object"
      ]
     },
     "execution_count": 6,
     "metadata": {},
     "output_type": "execute_result"
    }
   ],
   "source": [
    "reddit.dtypes"
   ]
  },
  {
   "cell_type": "markdown",
   "metadata": {},
   "source": [
    "Being most of our data in the dataframe is text, most data types should be 'object'. We will convert the `timestamp` column into datetime. Currently, the `subreddit` column has the name of the subreddit the submission came from, but we will turn that into a binary classification where 0 means r/DunderMifflin (_The Office_) and 1 means r/PandR (_Parks and Recreation_)."
   ]
  },
  {
   "cell_type": "code",
   "execution_count": 7,
   "metadata": {},
   "outputs": [
    {
     "data": {
      "text/plain": [
       "DunderMifflin    2626\n",
       "PandR            2049\n",
       "Name: subreddit, dtype: int64"
      ]
     },
     "execution_count": 7,
     "metadata": {},
     "output_type": "execute_result"
    }
   ],
   "source": [
    "reddit['subreddit'].value_counts()"
   ]
  },
  {
   "cell_type": "code",
   "execution_count": 8,
   "metadata": {},
   "outputs": [],
   "source": [
    "# casting subreddit as 0,1 0 = Office, 1 = P and R\n",
    "reddit['subreddit'] = [1 if entry == 'PandR' else 0 for entry in reddit['subreddit']]"
   ]
  },
  {
   "cell_type": "code",
   "execution_count": 9,
   "metadata": {},
   "outputs": [
    {
     "data": {
      "text/plain": [
       "0    2626\n",
       "1    2049\n",
       "Name: subreddit, dtype: int64"
      ]
     },
     "execution_count": 9,
     "metadata": {},
     "output_type": "execute_result"
    }
   ],
   "source": [
    "# confirming value counts\n",
    "reddit['subreddit'].value_counts()"
   ]
  },
  {
   "cell_type": "code",
   "execution_count": 10,
   "metadata": {},
   "outputs": [],
   "source": [
    "# changing timestamp to a datetime object\n",
    "reddit['timestamp'] = pd.to_datetime(reddit['timestamp'])"
   ]
  },
  {
   "cell_type": "code",
   "execution_count": 11,
   "metadata": {},
   "outputs": [
    {
     "data": {
      "text/plain": [
       "title                   object\n",
       "selftext                object\n",
       "subreddit                int64\n",
       "author                  object\n",
       "num_comments             int64\n",
       "score                    int64\n",
       "timestamp       datetime64[ns]\n",
       "dtype: object"
      ]
     },
     "execution_count": 11,
     "metadata": {},
     "output_type": "execute_result"
    }
   ],
   "source": [
    "reddit.dtypes"
   ]
  },
  {
   "cell_type": "code",
   "execution_count": 12,
   "metadata": {},
   "outputs": [
    {
     "data": {
      "text/html": [
       "<div>\n",
       "<style scoped>\n",
       "    .dataframe tbody tr th:only-of-type {\n",
       "        vertical-align: middle;\n",
       "    }\n",
       "\n",
       "    .dataframe tbody tr th {\n",
       "        vertical-align: top;\n",
       "    }\n",
       "\n",
       "    .dataframe thead th {\n",
       "        text-align: right;\n",
       "    }\n",
       "</style>\n",
       "<table border=\"1\" class=\"dataframe\">\n",
       "  <thead>\n",
       "    <tr style=\"text-align: right;\">\n",
       "      <th></th>\n",
       "      <th>subreddit</th>\n",
       "      <th>num_comments</th>\n",
       "      <th>score</th>\n",
       "    </tr>\n",
       "  </thead>\n",
       "  <tbody>\n",
       "    <tr>\n",
       "      <th>count</th>\n",
       "      <td>4675.000000</td>\n",
       "      <td>4675.000000</td>\n",
       "      <td>4675.000000</td>\n",
       "    </tr>\n",
       "    <tr>\n",
       "      <th>mean</th>\n",
       "      <td>0.438289</td>\n",
       "      <td>7.761711</td>\n",
       "      <td>17.507594</td>\n",
       "    </tr>\n",
       "    <tr>\n",
       "      <th>std</th>\n",
       "      <td>0.496230</td>\n",
       "      <td>21.852437</td>\n",
       "      <td>338.446323</td>\n",
       "    </tr>\n",
       "    <tr>\n",
       "      <th>min</th>\n",
       "      <td>0.000000</td>\n",
       "      <td>0.000000</td>\n",
       "      <td>0.000000</td>\n",
       "    </tr>\n",
       "    <tr>\n",
       "      <th>25%</th>\n",
       "      <td>0.000000</td>\n",
       "      <td>1.000000</td>\n",
       "      <td>1.000000</td>\n",
       "    </tr>\n",
       "    <tr>\n",
       "      <th>50%</th>\n",
       "      <td>0.000000</td>\n",
       "      <td>4.000000</td>\n",
       "      <td>4.000000</td>\n",
       "    </tr>\n",
       "    <tr>\n",
       "      <th>75%</th>\n",
       "      <td>1.000000</td>\n",
       "      <td>9.000000</td>\n",
       "      <td>10.000000</td>\n",
       "    </tr>\n",
       "    <tr>\n",
       "      <th>max</th>\n",
       "      <td>1.000000</td>\n",
       "      <td>1180.000000</td>\n",
       "      <td>22726.000000</td>\n",
       "    </tr>\n",
       "  </tbody>\n",
       "</table>\n",
       "</div>"
      ],
      "text/plain": [
       "         subreddit  num_comments         score\n",
       "count  4675.000000   4675.000000   4675.000000\n",
       "mean      0.438289      7.761711     17.507594\n",
       "std       0.496230     21.852437    338.446323\n",
       "min       0.000000      0.000000      0.000000\n",
       "25%       0.000000      1.000000      1.000000\n",
       "50%       0.000000      4.000000      4.000000\n",
       "75%       1.000000      9.000000     10.000000\n",
       "max       1.000000   1180.000000  22726.000000"
      ]
     },
     "execution_count": 12,
     "metadata": {},
     "output_type": "execute_result"
    }
   ],
   "source": [
    "reddit.describe()"
   ]
  },
  {
   "cell_type": "markdown",
   "metadata": {},
   "source": [
    "Statistics for the `subreddit` column make sense as the maximum is 1 and the minimum is 0. Looking at the quartlies and maximum for the `num_comments` column, it appears that there may be outliers in the data since the maximum is so far from the 75th percentile. Similarly, for the `score` column, the range from the minimum to the 75th percentile is 0 - 10, but the jump from the 75th percentile to the maximum is much greater with a maximum of 22726. Again, this shows that there may be outliers in the data. "
   ]
  },
  {
   "cell_type": "code",
   "execution_count": 13,
   "metadata": {},
   "outputs": [
    {
     "data": {
      "text/html": [
       "<div>\n",
       "<style scoped>\n",
       "    .dataframe tbody tr th:only-of-type {\n",
       "        vertical-align: middle;\n",
       "    }\n",
       "\n",
       "    .dataframe tbody tr th {\n",
       "        vertical-align: top;\n",
       "    }\n",
       "\n",
       "    .dataframe thead th {\n",
       "        text-align: right;\n",
       "    }\n",
       "</style>\n",
       "<table border=\"1\" class=\"dataframe\">\n",
       "  <thead>\n",
       "    <tr style=\"text-align: right;\">\n",
       "      <th></th>\n",
       "      <th>subreddit</th>\n",
       "      <th>0</th>\n",
       "      <th>1</th>\n",
       "    </tr>\n",
       "  </thead>\n",
       "  <tbody>\n",
       "    <tr>\n",
       "      <th rowspan=\"8\" valign=\"top\">num_comments</th>\n",
       "      <th>count</th>\n",
       "      <td>2626.000000</td>\n",
       "      <td>2049.000000</td>\n",
       "    </tr>\n",
       "    <tr>\n",
       "      <th>mean</th>\n",
       "      <td>9.064356</td>\n",
       "      <td>6.092240</td>\n",
       "    </tr>\n",
       "    <tr>\n",
       "      <th>std</th>\n",
       "      <td>27.013042</td>\n",
       "      <td>12.230085</td>\n",
       "    </tr>\n",
       "    <tr>\n",
       "      <th>min</th>\n",
       "      <td>0.000000</td>\n",
       "      <td>0.000000</td>\n",
       "    </tr>\n",
       "    <tr>\n",
       "      <th>25%</th>\n",
       "      <td>2.000000</td>\n",
       "      <td>1.000000</td>\n",
       "    </tr>\n",
       "    <tr>\n",
       "      <th>50%</th>\n",
       "      <td>5.000000</td>\n",
       "      <td>3.000000</td>\n",
       "    </tr>\n",
       "    <tr>\n",
       "      <th>75%</th>\n",
       "      <td>10.000000</td>\n",
       "      <td>7.000000</td>\n",
       "    </tr>\n",
       "    <tr>\n",
       "      <th>max</th>\n",
       "      <td>1180.000000</td>\n",
       "      <td>229.000000</td>\n",
       "    </tr>\n",
       "    <tr>\n",
       "      <th rowspan=\"8\" valign=\"top\">score</th>\n",
       "      <th>count</th>\n",
       "      <td>2626.000000</td>\n",
       "      <td>2049.000000</td>\n",
       "    </tr>\n",
       "    <tr>\n",
       "      <th>mean</th>\n",
       "      <td>19.471059</td>\n",
       "      <td>14.991215</td>\n",
       "    </tr>\n",
       "    <tr>\n",
       "      <th>std</th>\n",
       "      <td>448.979861</td>\n",
       "      <td>55.062774</td>\n",
       "    </tr>\n",
       "    <tr>\n",
       "      <th>min</th>\n",
       "      <td>0.000000</td>\n",
       "      <td>0.000000</td>\n",
       "    </tr>\n",
       "    <tr>\n",
       "      <th>25%</th>\n",
       "      <td>1.000000</td>\n",
       "      <td>1.000000</td>\n",
       "    </tr>\n",
       "    <tr>\n",
       "      <th>50%</th>\n",
       "      <td>3.000000</td>\n",
       "      <td>4.000000</td>\n",
       "    </tr>\n",
       "    <tr>\n",
       "      <th>75%</th>\n",
       "      <td>9.000000</td>\n",
       "      <td>11.000000</td>\n",
       "    </tr>\n",
       "    <tr>\n",
       "      <th>max</th>\n",
       "      <td>22726.000000</td>\n",
       "      <td>1105.000000</td>\n",
       "    </tr>\n",
       "  </tbody>\n",
       "</table>\n",
       "</div>"
      ],
      "text/plain": [
       "subreddit                      0            1\n",
       "num_comments count   2626.000000  2049.000000\n",
       "             mean       9.064356     6.092240\n",
       "             std       27.013042    12.230085\n",
       "             min        0.000000     0.000000\n",
       "             25%        2.000000     1.000000\n",
       "             50%        5.000000     3.000000\n",
       "             75%       10.000000     7.000000\n",
       "             max     1180.000000   229.000000\n",
       "score        count   2626.000000  2049.000000\n",
       "             mean      19.471059    14.991215\n",
       "             std      448.979861    55.062774\n",
       "             min        0.000000     0.000000\n",
       "             25%        1.000000     1.000000\n",
       "             50%        3.000000     4.000000\n",
       "             75%        9.000000    11.000000\n",
       "             max    22726.000000  1105.000000"
      ]
     },
     "execution_count": 13,
     "metadata": {},
     "output_type": "execute_result"
    }
   ],
   "source": [
    "reddit.groupby('subreddit').describe().T"
   ]
  },
  {
   "cell_type": "markdown",
   "metadata": {},
   "source": [
    "Separating the data by subreddit, we can see that the r/DunderMifflin subreddit has higher maximums for both the `score` and `num_comments` columns. "
   ]
  },
  {
   "cell_type": "code",
   "execution_count": 14,
   "metadata": {},
   "outputs": [
    {
     "data": {
      "text/html": [
       "<div>\n",
       "<style scoped>\n",
       "    .dataframe tbody tr th:only-of-type {\n",
       "        vertical-align: middle;\n",
       "    }\n",
       "\n",
       "    .dataframe tbody tr th {\n",
       "        vertical-align: top;\n",
       "    }\n",
       "\n",
       "    .dataframe thead th {\n",
       "        text-align: right;\n",
       "    }\n",
       "</style>\n",
       "<table border=\"1\" class=\"dataframe\">\n",
       "  <thead>\n",
       "    <tr style=\"text-align: right;\">\n",
       "      <th></th>\n",
       "      <th>title</th>\n",
       "      <th>selftext</th>\n",
       "      <th>subreddit</th>\n",
       "      <th>author</th>\n",
       "      <th>num_comments</th>\n",
       "      <th>score</th>\n",
       "      <th>timestamp</th>\n",
       "    </tr>\n",
       "  </thead>\n",
       "  <tbody>\n",
       "    <tr>\n",
       "      <th>2373</th>\n",
       "      <td>The day they take The Office off of Netflix is...</td>\n",
       "      <td>NaN</td>\n",
       "      <td>0</td>\n",
       "      <td>RonThunderfist</td>\n",
       "      <td>1180</td>\n",
       "      <td>22726</td>\n",
       "      <td>2018-04-26</td>\n",
       "    </tr>\n",
       "    <tr>\n",
       "      <th>4195</th>\n",
       "      <td>SO9EO9 \"Dwight Christmas\" Episode Discussion</td>\n",
       "      <td>From Wikipedia: \\n\\n\"When the party planning c...</td>\n",
       "      <td>0</td>\n",
       "      <td>Prefer_an_astronaut</td>\n",
       "      <td>253</td>\n",
       "      <td>55</td>\n",
       "      <td>2012-12-06</td>\n",
       "    </tr>\n",
       "    <tr>\n",
       "      <th>4173</th>\n",
       "      <td>SO9EO8 \"The Target\" Discussion Thread</td>\n",
       "      <td>From Wikipedia:\\n\\n\"Angela goes to Dwight for ...</td>\n",
       "      <td>0</td>\n",
       "      <td>Prefer_an_astronaut</td>\n",
       "      <td>236</td>\n",
       "      <td>56</td>\n",
       "      <td>2012-11-29</td>\n",
       "    </tr>\n",
       "    <tr>\n",
       "      <th>1521</th>\n",
       "      <td>Parks And Recreation S06E08/09 \"Fluoride\" / \"T...</td>\n",
       "      <td>####Two new episodes again tonight! \\n\\n\\n---\\...</td>\n",
       "      <td>1</td>\n",
       "      <td>atticus138</td>\n",
       "      <td>229</td>\n",
       "      <td>111</td>\n",
       "      <td>2013-11-21</td>\n",
       "    </tr>\n",
       "    <tr>\n",
       "      <th>863</th>\n",
       "      <td>Has anyone found another comedy that gives the...</td>\n",
       "      <td>The only one was the office. I felt attached t...</td>\n",
       "      <td>1</td>\n",
       "      <td>andrew9360</td>\n",
       "      <td>210</td>\n",
       "      <td>185</td>\n",
       "      <td>2016-06-14</td>\n",
       "    </tr>\n",
       "  </tbody>\n",
       "</table>\n",
       "</div>"
      ],
      "text/plain": [
       "                                                  title  \\\n",
       "2373  The day they take The Office off of Netflix is...   \n",
       "4195       SO9EO9 \"Dwight Christmas\" Episode Discussion   \n",
       "4173             SO9EO8 \"The Target\" Discussion Thread    \n",
       "1521  Parks And Recreation S06E08/09 \"Fluoride\" / \"T...   \n",
       "863   Has anyone found another comedy that gives the...   \n",
       "\n",
       "                                               selftext  subreddit  \\\n",
       "2373                                                NaN          0   \n",
       "4195  From Wikipedia: \\n\\n\"When the party planning c...          0   \n",
       "4173  From Wikipedia:\\n\\n\"Angela goes to Dwight for ...          0   \n",
       "1521  ####Two new episodes again tonight! \\n\\n\\n---\\...          1   \n",
       "863   The only one was the office. I felt attached t...          1   \n",
       "\n",
       "                   author  num_comments  score  timestamp  \n",
       "2373       RonThunderfist          1180  22726 2018-04-26  \n",
       "4195  Prefer_an_astronaut           253     55 2012-12-06  \n",
       "4173  Prefer_an_astronaut           236     56 2012-11-29  \n",
       "1521           atticus138           229    111 2013-11-21  \n",
       "863            andrew9360           210    185 2016-06-14  "
      ]
     },
     "execution_count": 14,
     "metadata": {},
     "output_type": "execute_result"
    }
   ],
   "source": [
    "# sorting df by `num_comments`\n",
    "reddit.sort_values('num_comments', ascending=False).head()"
   ]
  },
  {
   "cell_type": "markdown",
   "metadata": {},
   "source": [
    "After visually exploring the data and looking at the distributions, we see there is an outlier in the `num_comments` column. We will drop the row with 1180 comments."
   ]
  },
  {
   "cell_type": "code",
   "execution_count": 15,
   "metadata": {},
   "outputs": [],
   "source": [
    "reddit.drop([2373],inplace=True)"
   ]
  },
  {
   "cell_type": "code",
   "execution_count": 16,
   "metadata": {},
   "outputs": [
    {
     "data": {
      "text/html": [
       "<div>\n",
       "<style scoped>\n",
       "    .dataframe tbody tr th:only-of-type {\n",
       "        vertical-align: middle;\n",
       "    }\n",
       "\n",
       "    .dataframe tbody tr th {\n",
       "        vertical-align: top;\n",
       "    }\n",
       "\n",
       "    .dataframe thead th {\n",
       "        text-align: right;\n",
       "    }\n",
       "</style>\n",
       "<table border=\"1\" class=\"dataframe\">\n",
       "  <thead>\n",
       "    <tr style=\"text-align: right;\">\n",
       "      <th></th>\n",
       "      <th>title</th>\n",
       "      <th>selftext</th>\n",
       "      <th>subreddit</th>\n",
       "      <th>author</th>\n",
       "      <th>num_comments</th>\n",
       "      <th>score</th>\n",
       "      <th>timestamp</th>\n",
       "    </tr>\n",
       "  </thead>\n",
       "  <tbody>\n",
       "    <tr>\n",
       "      <th>3605</th>\n",
       "      <td>Found the best way to watch The Office</td>\n",
       "      <td>First make sure you have enough time to watch ...</td>\n",
       "      <td>0</td>\n",
       "      <td>Dan_Ashcroft</td>\n",
       "      <td>90</td>\n",
       "      <td>2540</td>\n",
       "      <td>2014-11-19</td>\n",
       "    </tr>\n",
       "    <tr>\n",
       "      <th>3083</th>\n",
       "      <td>It is me, Rainn Wilson (that guy from The Offi...</td>\n",
       "      <td>At 1pm (PDT) I’ll be on the @SoulPancake snapc...</td>\n",
       "      <td>0</td>\n",
       "      <td>IAmRainnWilson</td>\n",
       "      <td>105</td>\n",
       "      <td>2419</td>\n",
       "      <td>2016-05-19</td>\n",
       "    </tr>\n",
       "    <tr>\n",
       "      <th>1382</th>\n",
       "      <td>Why Jerry is without a doubt the best characte...</td>\n",
       "      <td>lol jk, you're the worst Jerry!</td>\n",
       "      <td>1</td>\n",
       "      <td>radslacker</td>\n",
       "      <td>100</td>\n",
       "      <td>1105</td>\n",
       "      <td>2014-12-30</td>\n",
       "    </tr>\n",
       "    <tr>\n",
       "      <th>769</th>\n",
       "      <td>I can never, ever read \"treat yoself\" or \"trea...</td>\n",
       "      <td>And yes, I have treated myself more.</td>\n",
       "      <td>1</td>\n",
       "      <td>geetannn</td>\n",
       "      <td>37</td>\n",
       "      <td>840</td>\n",
       "      <td>2016-12-29</td>\n",
       "    </tr>\n",
       "    <tr>\n",
       "      <th>964</th>\n",
       "      <td>Just realized that Leslie, Ann, &amp;amp; Tom all ...</td>\n",
       "      <td>I'm sure someone else has already pointed this...</td>\n",
       "      <td>1</td>\n",
       "      <td>MooCow93</td>\n",
       "      <td>51</td>\n",
       "      <td>748</td>\n",
       "      <td>2016-07-30</td>\n",
       "    </tr>\n",
       "  </tbody>\n",
       "</table>\n",
       "</div>"
      ],
      "text/plain": [
       "                                                  title  \\\n",
       "3605             Found the best way to watch The Office   \n",
       "3083  It is me, Rainn Wilson (that guy from The Offi...   \n",
       "1382  Why Jerry is without a doubt the best characte...   \n",
       "769   I can never, ever read \"treat yoself\" or \"trea...   \n",
       "964   Just realized that Leslie, Ann, &amp; Tom all ...   \n",
       "\n",
       "                                               selftext  subreddit  \\\n",
       "3605  First make sure you have enough time to watch ...          0   \n",
       "3083  At 1pm (PDT) I’ll be on the @SoulPancake snapc...          0   \n",
       "1382                    lol jk, you're the worst Jerry!          1   \n",
       "769                And yes, I have treated myself more.          1   \n",
       "964   I'm sure someone else has already pointed this...          1   \n",
       "\n",
       "              author  num_comments  score  timestamp  \n",
       "3605    Dan_Ashcroft            90   2540 2014-11-19  \n",
       "3083  IAmRainnWilson           105   2419 2016-05-19  \n",
       "1382      radslacker           100   1105 2014-12-30  \n",
       "769         geetannn            37    840 2016-12-29  \n",
       "964         MooCow93            51    748 2016-07-30  "
      ]
     },
     "execution_count": 16,
     "metadata": {},
     "output_type": "execute_result"
    }
   ],
   "source": [
    "# sorting df by `score`\n",
    "reddit.sort_values('score', ascending=False).head()"
   ]
  },
  {
   "cell_type": "markdown",
   "metadata": {},
   "source": [
    "After visually exploring the data and looking at the distributions, we see there are some outliers in the `score` column. We will drop the rows with scores of more than 2000."
   ]
  },
  {
   "cell_type": "code",
   "execution_count": 17,
   "metadata": {},
   "outputs": [],
   "source": [
    "reddit = reddit[reddit['score']<2000]"
   ]
  },
  {
   "cell_type": "markdown",
   "metadata": {},
   "source": [
    "## Exploratory Data Analysis\n",
    "[Top](#Table-of-Contents:)"
   ]
  },
  {
   "cell_type": "code",
   "execution_count": 18,
   "metadata": {},
   "outputs": [],
   "source": [
    "# function for creating boxplots\n",
    "def new_boxplot(data,x,y,title,xlabel,ylabel,palette):\n",
    "    plt.figure(figsize=(7,6))\n",
    "    sns.boxplot(data=data, x=y, y=x, palette=palette)\n",
    "    plt.title(title,size=15)\n",
    "    plt.xlabel(xlabel,size=12)\n",
    "    plt.ylabel(ylabel,size=12);"
   ]
  },
  {
   "cell_type": "code",
   "execution_count": 19,
   "metadata": {},
   "outputs": [
    {
     "data": {
      "image/png": "[encoded data removed]",
      "text/plain": [
       "<Figure size 504x432 with 1 Axes>"
      ]
     },
     "metadata": {
      "needs_background": "light"
     },
     "output_type": "display_data"
    }
   ],
   "source": [
    "new_boxplot(reddit, 'num_comments','subreddit','Distribution of Number of Comments by Subreddit','Subreddit','Number of Comments','BuGn_r')"
   ]
  },
  {
   "cell_type": "markdown",
   "metadata": {},
   "source": [
    "The majority of the data for both subreddits has less than 25 comments per post. The maximum amount of comments for both subreddits reaches around 230-250. Both subreddits have similar distributions, but the quartiles and maximum for _The Office_ (0) subreddit are generally higher than those of the _Parks and Recreation_ (1) subreddit. Given the similarities in the distributions, it is unclear if the number of comments per post will be a helpful predictive feature in our model."
   ]
  },
  {
   "cell_type": "code",
   "execution_count": 20,
   "metadata": {},
   "outputs": [
    {
     "data": {
      "image/png": "[encoded data removed]",
      "text/plain": [
       "<Figure size 504x432 with 1 Axes>"
      ]
     },
     "metadata": {
      "needs_background": "light"
     },
     "output_type": "display_data"
    }
   ],
   "source": [
    "new_boxplot(reddit, 'score','subreddit','Distribution of Score by Subreddit','Subreddit','Score','BuGn_r')"
   ]
  },
  {
   "cell_type": "markdown",
   "metadata": {},
   "source": [
    "The majority of the scores of posts for both subreddits is from 0-30. Both subreddits have scores that fall outside that range. The maximum for _The Office_ (0) subreddit falling around 450, and the maximum for the _Parks and Recretaion_ (1) subreddit falling beyond 1000. There are many more posts with scores of 200 or more for the _Parks and Recreation_ subreddit as opposed to _The Office_ subreddit. Looking at the Score for each post might be a helpful predictive feature in the model. "
   ]
  },
  {
   "cell_type": "code",
   "execution_count": 21,
   "metadata": {},
   "outputs": [
    {
     "data": {
      "image/png": "[encoded data removed]",
      "text/plain": [
       "<Figure size 720x360 with 2 Axes>"
      ]
     },
     "metadata": {
      "needs_background": "light"
     },
     "output_type": "display_data"
    }
   ],
   "source": [
    "cols = [0,1] # diff subreddits \n",
    "\n",
    "fig, axes = plt.subplots(figsize = (10,5), nrows = 1, ncols = 2)\n",
    "\n",
    "fig.suptitle(\"Histograms of Post Year by Subreddit\", fontsize = 22, y = 1.04)\n",
    "\n",
    "axes = axes.flatten()\n",
    "\n",
    "color = ['lightgreen', 'orange']\n",
    "\n",
    "for i, col in enumerate(cols):\n",
    "    ax = axes[i]\n",
    "    ax.hist(reddit[reddit['subreddit']==col]['timestamp'],color=color[i],bins=11)\n",
    "    ax.set_ylabel(\"Frequency\",size=14)\n",
    "    readable_col = ['The Office','Parks and Recreation']\n",
    "    ax.set_xlabel('Submission Dates',size=14)\n",
    "    ax.set_title(f\"Distribution of Submission Dates:\\n{readable_col[i]}\",size=18)\n",
    "    \n",
    "plt.tight_layout();"
   ]
  },
  {
   "cell_type": "markdown",
   "metadata": {},
   "source": [
    "We pulled data in intervals of every 6 months for the past 10 years from both subreddits. Both of these subreddits began in January of 2011. The two subreddits have similar distributions with peaks around 2016-2017. These are years that both of the shows were already off air. Neither subreddit seems to fall below 100 posts in a specific time range. Surprisingly, the most recent time range has a similar amount of posts as the first time range. Both subreddits show a similar distribution meaning using the `timestamp` feature might not be useful for our model. "
   ]
  },
  {
   "cell_type": "code",
   "execution_count": 22,
   "metadata": {},
   "outputs": [],
   "source": [
    "# creating count vectorizer to look at frequent words\n",
    "cvec = CountVectorizer()\n",
    "X_text = reddit['title'] # grabbing just the titles "
   ]
  },
  {
   "cell_type": "code",
   "execution_count": 23,
   "metadata": {},
   "outputs": [],
   "source": [
    "# count vectorizing and put in dataframe\n",
    "X_text = cvec.fit_transform(X_text)\n",
    "X_text_df = pd.DataFrame(X_text.toarray(), columns = cvec.get_feature_names())"
   ]
  },
  {
   "cell_type": "code",
   "execution_count": 24,
   "metadata": {},
   "outputs": [],
   "source": [
    "# grabbing top 30 most common words\n",
    "top_words = X_text_df.sum().sort_values(ascending=False)[:30]"
   ]
  },
  {
   "cell_type": "code",
   "execution_count": 25,
   "metadata": {},
   "outputs": [
    {
     "data": {
      "text/plain": [
       "the        2346\n",
       "and         847\n",
       "to          838\n",
       "is          750\n",
       "of          727\n",
       "in          677\n",
       "what        496\n",
       "you         447\n",
       "season      414\n",
       "episode     412\n",
       "office      402\n",
       "for         396\n",
       "that        388\n",
       "just        370\n",
       "it          337\n",
       "on          315\n",
       "this        278\n",
       "show        274\n",
       "was         273\n",
       "anyone      271\n",
       "have        260\n",
       "michael     254\n",
       "with        231\n",
       "from        219\n",
       "my          218\n",
       "how         207\n",
       "does        205\n",
       "about       204\n",
       "do          194\n",
       "can         193\n",
       "dtype: int64"
      ]
     },
     "execution_count": 25,
     "metadata": {},
     "output_type": "execute_result"
    }
   ],
   "source": [
    "top_words"
   ]
  },
  {
   "cell_type": "code",
   "execution_count": 445,
   "metadata": {},
   "outputs": [
    {
     "data": {
      "image/png": "[encoded data removed]",
      "text/plain": [
       "<Figure size 576x576 with 1 Axes>"
      ]
     },
     "metadata": {
      "needs_background": "light"
     },
     "output_type": "display_data"
    }
   ],
   "source": [
    "plt.figure(figsize=(8,8))\n",
    "plt.barh(y=top_words.index[::-1],width=top_words[::-1],color='goldenrod')\n",
    "plt.suptitle('Most Frequently Used Words in Submission Title',size=19)\n",
    "plt.title('r/DunderMifflin & r/PandR',size=15)\n",
    "plt.xlabel('Frequency',size=13)\n",
    "plt.ylabel('Top Words',size=13)\n",
    "plt.yticks(size=11.5);"
   ]
  },
  {
   "cell_type": "markdown",
   "metadata": {},
   "source": [
    "Above are the top 30 most frequently used words found in submission titles from both subreddits combined. Most of these words are general filler words that do not give us much meaning like `the`, `of`, and `with`. Some of them make sense given that our two subreddits are focused on television shows, like `episode`, `show`, and `season`. Only two of these words stick out to us as being possibly important words that could help determine which subreddit a post is from: `office` and `michael`. The reason for that is because the r/DunderMifflin subreddit is about the show _The Office_ and the main character of that show is Michael Scott. Given these facts it is expected that the words `office` and `michael` would show up frequently in the posts of that subreddit. "
   ]
  },
  {
   "cell_type": "code",
   "execution_count": 27,
   "metadata": {},
   "outputs": [],
   "source": [
    "# creating list of possible stop words\n",
    "poss_stopwords = list(top_words.index)"
   ]
  },
  {
   "cell_type": "code",
   "execution_count": 28,
   "metadata": {},
   "outputs": [],
   "source": [
    "poss_stopwords.remove('michael')"
   ]
  },
  {
   "cell_type": "code",
   "execution_count": 29,
   "metadata": {},
   "outputs": [],
   "source": [
    "poss_stopwords.remove('office')"
   ]
  },
  {
   "cell_type": "code",
   "execution_count": 30,
   "metadata": {},
   "outputs": [
    {
     "name": "stdout",
     "output_type": "stream",
     "text": [
      "28\n"
     ]
    },
    {
     "data": {
      "text/plain": [
       "['the',\n",
       " 'and',\n",
       " 'to',\n",
       " 'is',\n",
       " 'of',\n",
       " 'in',\n",
       " 'what',\n",
       " 'you',\n",
       " 'season',\n",
       " 'episode',\n",
       " 'for',\n",
       " 'that',\n",
       " 'just',\n",
       " 'it',\n",
       " 'on',\n",
       " 'this',\n",
       " 'show',\n",
       " 'was',\n",
       " 'anyone',\n",
       " 'have',\n",
       " 'with',\n",
       " 'from',\n",
       " 'my',\n",
       " 'how',\n",
       " 'does',\n",
       " 'about',\n",
       " 'do',\n",
       " 'can']"
      ]
     },
     "execution_count": 30,
     "metadata": {},
     "output_type": "execute_result"
    }
   ],
   "source": [
    "print(len(poss_stopwords))\n",
    "poss_stopwords"
   ]
  },
  {
   "cell_type": "markdown",
   "metadata": {},
   "source": [
    "We have taken the list of the top 30 most frequent words from above, removed `michael` and `office`, and kept it as a list of possible stop words. When creating our model later, we will want to focus on the most frequently used words. If the majority of our most frequently used words are words like `the`, `for`, and `can`, our model will not be great at classifiying the posts into the correct subreddit. Thus, we will test the use of this list as our list of stop words in our models later. "
   ]
  },
  {
   "cell_type": "code",
   "execution_count": 31,
   "metadata": {},
   "outputs": [],
   "source": [
    "# get text from just the office subreddit\n",
    "off_text = reddit[reddit['subreddit']==0]['title']"
   ]
  },
  {
   "cell_type": "code",
   "execution_count": 32,
   "metadata": {},
   "outputs": [],
   "source": [
    "# count vectorize office text\n",
    "cvec = CountVectorizer()\n",
    "off_text = cvec.fit_transform(off_text)\n",
    "off_text_df = pd.DataFrame(off_text.toarray(), columns = cvec.get_feature_names())"
   ]
  },
  {
   "cell_type": "code",
   "execution_count": 35,
   "metadata": {},
   "outputs": [],
   "source": [
    "# top 30 most frequent words in office subreddit\n",
    "off_top = off_text_df.sum().sort_values(ascending=False)[:30]"
   ]
  },
  {
   "cell_type": "code",
   "execution_count": 33,
   "metadata": {},
   "outputs": [],
   "source": [
    "# get text from just parks and rec subreddit\n",
    "parks_text = reddit[reddit['subreddit']==1]['title']"
   ]
  },
  {
   "cell_type": "code",
   "execution_count": 34,
   "metadata": {},
   "outputs": [],
   "source": [
    "# count vectorize parks and rec subreddit \n",
    "cvec = CountVectorizer()\n",
    "parks_text = cvec.fit_transform(parks_text)\n",
    "parks_text_df = pd.DataFrame(parks_text.toarray(), columns = cvec.get_feature_names())"
   ]
  },
  {
   "cell_type": "code",
   "execution_count": 36,
   "metadata": {},
   "outputs": [],
   "source": [
    "# top 30 most frequent words in parks and rec subreddit\n",
    "parks_top = parks_text_df.sum().sort_values(ascending=False)[:30]"
   ]
  },
  {
   "cell_type": "code",
   "execution_count": 37,
   "metadata": {},
   "outputs": [
    {
     "name": "stdout",
     "output_type": "stream",
     "text": [
      "21\n"
     ]
    },
    {
     "data": {
      "text/plain": [
       "{'and',\n",
       " 'anyone',\n",
       " 'episode',\n",
       " 'for',\n",
       " 'have',\n",
       " 'in',\n",
       " 'is',\n",
       " 'it',\n",
       " 'just',\n",
       " 'of',\n",
       " 'on',\n",
       " 'season',\n",
       " 'show',\n",
       " 'that',\n",
       " 'the',\n",
       " 'this',\n",
       " 'to',\n",
       " 'was',\n",
       " 'what',\n",
       " 'with',\n",
       " 'you'}"
      ]
     },
     "execution_count": 37,
     "metadata": {},
     "output_type": "execute_result"
    }
   ],
   "source": [
    "# looking at the overlap in the top 30 of each individual subreddit \n",
    "overlap = set(off_top.index).intersection(set(parks_top.index))\n",
    "print(len(overlap))\n",
    "overlap"
   ]
  },
  {
   "cell_type": "markdown",
   "metadata": {},
   "source": [
    "We looked at the top 30 most frequently occurring words in the titles of submissions from each subreddits individually. After looking at the intersection of those two sets of words, it was found that 21 words were shared by both subreddits. Most of these words are 'filler' words like `for`, `just`, `and`, `that`, and `the` which don't give us much information. Words that make sense for these subreddits are `show`, `epsiode` and `season`, but because both subreddits are focused on television shows, they don't help to distinguish between the two.  \n"
   ]
  },
  {
   "cell_type": "code",
   "execution_count": 38,
   "metadata": {},
   "outputs": [
    {
     "data": {
      "text/plain": [
       "{'can', 'does', 'how', 'leslie', 'me', 'my', 'parks', 'rec', 'ron'}"
      ]
     },
     "execution_count": 38,
     "metadata": {},
     "output_type": "execute_result"
    }
   ],
   "source": [
    "# finding words that are only in the parks top 30\n",
    "parks_only = set(parks_top.index) - set(off_top.index)\n",
    "parks_only"
   ]
  },
  {
   "cell_type": "code",
   "execution_count": 39,
   "metadata": {},
   "outputs": [
    {
     "data": {
      "text/plain": [
       "{'about', 'do', 'dwight', 'from', 'jim', 'michael', 'office', 'pam', 'your'}"
      ]
     },
     "execution_count": 39,
     "metadata": {},
     "output_type": "execute_result"
    }
   ],
   "source": [
    "# finding words that are only in the office top 30\n",
    "off_only = set(off_top.index) - set(parks_top.index)\n",
    "off_only"
   ]
  },
  {
   "cell_type": "code",
   "execution_count": 40,
   "metadata": {},
   "outputs": [],
   "source": [
    "# getting frequency for just the unique office words\n",
    "off_top_words = off_text_df[off_only].sum().sort_values(ascending=False)[:30]"
   ]
  },
  {
   "cell_type": "code",
   "execution_count": 41,
   "metadata": {},
   "outputs": [],
   "source": [
    "# # getting frequency for just the unique parks and rec words\n",
    "parks_top_words = parks_text_df[parks_only].sum().sort_values(ascending=False)[:30]"
   ]
  },
  {
   "cell_type": "code",
   "execution_count": 42,
   "metadata": {},
   "outputs": [
    {
     "data": {
      "image/png": "[encoded data removed]",
      "text/plain": [
       "<Figure size 864x432 with 2 Axes>"
      ]
     },
     "metadata": {
      "needs_background": "light"
     },
     "output_type": "display_data"
    }
   ],
   "source": [
    "fig, (ax1, ax2) = plt.subplots(1,2, figsize = (12,6), sharex=True) # unpack graphs\n",
    "# add title to entire figure\n",
    "fig.suptitle(\"Unique Words from Most Common Top 30\", fontsize = 19, y = 1.03) \n",
    "\n",
    "ax1.barh(y=off_top_words.index,width=off_top_words,color='salmon') \n",
    "ax2.barh(y=parks_top_words.index,width=parks_top_words,color='skyblue')\n",
    "ax1.set_title('Top Words from The Office Subreddit\\nr/DunderMifflin',size=14)\n",
    "ax2.set_title('Top Words from Parks and Recreation Subreddit\\nr/PandR',size=14)\n",
    "ax1.set_xlabel('Frequency',size=12)\n",
    "ax2.set_xlabel('Frequency',size=12)\n",
    "ax1.set_ylabel('Unique Words in Top 30', size=11)\n",
    "ax2.set_ylabel('Unique Words in Top 30', size=11);"
   ]
  },
  {
   "cell_type": "markdown",
   "metadata": {},
   "source": [
    "We looked at the top 30 most frequently occurring words in the titles of both subreddits. After looking at the intersection of those two sets of words, it was found that 21 of those words were shared by both subreddits. \n",
    "\n",
    "We separated out the **unique** words for each subreddit's top 30 and plotted their frequencies above. Still there are some words that don't give us much information such as `your`, `do`, `from`, `my`, `can`, and `how`, but we also notice some other words that stand out. For the _The Office_ subreddit some of the top words include `office`, `michael`, `pam`, `jim`, and `dwight`. While `office` may seem like a mundane word, it is very important for the r/DunderMifflin subreddit because it is the name of the show that the subreddit is focused on, _The Office_! Additionally, four of the main characters of the show are Jim, Michael, Pam, and Dwight, so these are definitely bound to pop up in r/DunderMifflin posts more often than the other subreddit.  \n",
    "\n",
    "Similarly, for r/PandR, which focuses on the show _Parks and Recreation_ (often abbreviated as _Parks and Rec_), two of the most popular words are `parks` and `rec`. The second and third most popular unique words are `ron` and `leslie`, which are two main characters of the TV show. It makes sense that these two words would show up often in posts from r/PandR. "
   ]
  },
  {
   "cell_type": "markdown",
   "metadata": {},
   "source": [
    "### Looking at Top 100 Words Overlap to Create Stop Words\n",
    "[Top](#Table-of-Contents:)"
   ]
  },
  {
   "cell_type": "code",
   "execution_count": 43,
   "metadata": {},
   "outputs": [],
   "source": [
    "# top 100 words in office subreddit\n",
    "off_top_100 = off_text_df.sum().sort_values(ascending=False)[:100]"
   ]
  },
  {
   "cell_type": "code",
   "execution_count": 44,
   "metadata": {},
   "outputs": [],
   "source": [
    "# top 100 words in parks and rec subreddit\n",
    "parks_top_100 = parks_text_df.sum().sort_values(ascending=False)[:100]"
   ]
  },
  {
   "cell_type": "code",
   "execution_count": 45,
   "metadata": {},
   "outputs": [],
   "source": [
    "# overlap of top 100 from both\n",
    "overlap_100 = list(set(parks_top_100.index).intersection(set(off_top_100.index)))"
   ]
  },
  {
   "cell_type": "code",
   "execution_count": 46,
   "metadata": {},
   "outputs": [
    {
     "data": {
      "text/plain": [
       "['they',\n",
       " 'question',\n",
       " 'get',\n",
       " 'when',\n",
       " 'in',\n",
       " 'watching',\n",
       " 'have',\n",
       " 'why',\n",
       " 'it',\n",
       " 'the',\n",
       " 'on',\n",
       " 'help',\n",
       " 'think',\n",
       " 'season',\n",
       " 'andy',\n",
       " 'how',\n",
       " 'an',\n",
       " 'know',\n",
       " 'about',\n",
       " 'not',\n",
       " 'favorite',\n",
       " 'be',\n",
       " 'with',\n",
       " 'first',\n",
       " 'did',\n",
       " 'like',\n",
       " 'really',\n",
       " 'episodes',\n",
       " 'this',\n",
       " 'show',\n",
       " 'series',\n",
       " 'was',\n",
       " 'there',\n",
       " 'me',\n",
       " 'at',\n",
       " 'my',\n",
       " 'watch',\n",
       " 'something',\n",
       " 'character',\n",
       " 'finished',\n",
       " 'that',\n",
       " 'from',\n",
       " 'to',\n",
       " 'do',\n",
       " 'for',\n",
       " 'who',\n",
       " 'out',\n",
       " 'anyone',\n",
       " 'of',\n",
       " 'and',\n",
       " 'are',\n",
       " 'where',\n",
       " 'as',\n",
       " 'after',\n",
       " 'one',\n",
       " 'best',\n",
       " 'or',\n",
       " 'can',\n",
       " 'does',\n",
       " 'but',\n",
       " 'up',\n",
       " 'time',\n",
       " 'you',\n",
       " 'else',\n",
       " 'would',\n",
       " 'is',\n",
       " 'office',\n",
       " 'what',\n",
       " 'we',\n",
       " 'episode',\n",
       " 'if',\n",
       " 'your',\n",
       " 'just',\n",
       " 'he',\n",
       " 'all',\n",
       " 'has',\n",
       " 'so']"
      ]
     },
     "execution_count": 46,
     "metadata": {},
     "output_type": "execute_result"
    }
   ],
   "source": [
    "# how many in overlap?\n",
    "len(overlap_100)\n",
    "overlap_100"
   ]
  },
  {
   "cell_type": "markdown",
   "metadata": {},
   "source": [
    "We looked at the top 100 words for both individual subreddits and then looked at just the overlap between the two lists of top words. There were 77 words in both lists. After looking through this list, there are some words that can be helpful in determining which subreddit the post belongs to. The word `andy` is interesting because there is a character named Andy in both _The Office_ and _Parks and Recreation_. We will keep this word in our model because it's association with other words could help the model classify the posts. The word `office` comes up again and, like we stated above, this word will be kept because it is in the title of one of the shows we are discussing. The rest of the words have no true association with either one of the shows so they will be included in our stop words list."
   ]
  },
  {
   "cell_type": "code",
   "execution_count": 47,
   "metadata": {},
   "outputs": [],
   "source": [
    "poss_stopwords = overlap_100"
   ]
  },
  {
   "cell_type": "code",
   "execution_count": 48,
   "metadata": {},
   "outputs": [],
   "source": [
    "poss_stopwords.remove('office')"
   ]
  },
  {
   "cell_type": "code",
   "execution_count": 49,
   "metadata": {},
   "outputs": [],
   "source": [
    "poss_stopwords.remove('andy')"
   ]
  },
  {
   "cell_type": "markdown",
   "metadata": {},
   "source": [
    "We have updated our list of stop words from this overlap. Below in our models, we will test this list of stop words to see if removing these words from the model helps to classify our posts correctly. First, we will investigate more thoroughly to add more stop words to the list."
   ]
  },
  {
   "cell_type": "code",
   "execution_count": 97,
   "metadata": {},
   "outputs": [],
   "source": [
    "# creating count vectorizer to look at frequent words while using stopwords\n",
    "cvec_stop = CountVectorizer(stop_words='english')\n",
    "X_text_stop = reddit['title'] # grabbing just the titles "
   ]
  },
  {
   "cell_type": "code",
   "execution_count": 99,
   "metadata": {},
   "outputs": [],
   "source": [
    "# count vectorizing and put in dataframe\n",
    "X_text_stop = cvec_stop.fit_transform(X_text_stop)\n",
    "X_text_df_stop = pd.DataFrame(X_text_stop.toarray(), columns = cvec_stop.get_feature_names())"
   ]
  },
  {
   "cell_type": "code",
   "execution_count": 124,
   "metadata": {},
   "outputs": [
    {
     "data": {
      "text/plain": [
       "seasons       57\n",
       "song          55\n",
       "tom           55\n",
       "don           55\n",
       "quote         54\n",
       "jerry         54\n",
       "little        51\n",
       "want          51\n",
       "creed         50\n",
       "people        50\n",
       "characters    50\n",
       "say           50\n",
       "feel          50\n",
       "guys          49\n",
       "discussion    49\n",
       "good          48\n",
       "day           48\n",
       "ann           48\n",
       "scranton      48\n",
       "ryan          47\n",
       "got           45\n",
       "pawnee        45\n",
       "started       43\n",
       "end           43\n",
       "happened      42\n",
       "life          42\n",
       "said          40\n",
       "anybody       40\n",
       "favourite     39\n",
       "going         39\n",
       "thing         39\n",
       "didn          39\n",
       "actually      39\n",
       "recreation    38\n",
       "night         38\n",
       "pandr         38\n",
       "thread        36\n",
       "clip          36\n",
       "mark          36\n",
       "real          36\n",
       "better        35\n",
       "angela        35\n",
       "dunder        35\n",
       "video         35\n",
       "christmas     34\n",
       "thought       34\n",
       "moments       34\n",
       "request       33\n",
       "way           33\n",
       "post          33\n",
       "dtype: int64"
      ]
     },
     "execution_count": 124,
     "metadata": {},
     "output_type": "execute_result"
    }
   ],
   "source": [
    "top_words_stop_100 = X_text_df_stop.sum().sort_values(ascending=False)[50:100]\n",
    "top_words_stop_100"
   ]
  },
  {
   "cell_type": "code",
   "execution_count": 125,
   "metadata": {},
   "outputs": [
    {
     "data": {
      "text/plain": [
       "{'actually',\n",
       " 'angela',\n",
       " 'ann',\n",
       " 'anybody',\n",
       " 'better',\n",
       " 'characters',\n",
       " 'christmas',\n",
       " 'clip',\n",
       " 'creed',\n",
       " 'day',\n",
       " 'didn',\n",
       " 'discussion',\n",
       " 'don',\n",
       " 'dunder',\n",
       " 'end',\n",
       " 'favourite',\n",
       " 'feel',\n",
       " 'going',\n",
       " 'good',\n",
       " 'got',\n",
       " 'guys',\n",
       " 'happened',\n",
       " 'jerry',\n",
       " 'life',\n",
       " 'little',\n",
       " 'mark',\n",
       " 'moments',\n",
       " 'night',\n",
       " 'pandr',\n",
       " 'pawnee',\n",
       " 'people',\n",
       " 'post',\n",
       " 'quote',\n",
       " 'real',\n",
       " 'recreation',\n",
       " 'request',\n",
       " 'ryan',\n",
       " 'said',\n",
       " 'say',\n",
       " 'scranton',\n",
       " 'seasons',\n",
       " 'song',\n",
       " 'started',\n",
       " 'thing',\n",
       " 'thought',\n",
       " 'thread',\n",
       " 'tom',\n",
       " 'video',\n",
       " 'want',\n",
       " 'way'}"
      ]
     },
     "execution_count": 125,
     "metadata": {},
     "output_type": "execute_result"
    }
   ],
   "source": [
    "set(top_words_stop_100.index) - set(poss_stopwords)"
   ]
  },
  {
   "cell_type": "code",
   "execution_count": 126,
   "metadata": {},
   "outputs": [],
   "source": [
    "new_stops = ['amp','finale','looking','love','make','moment','need','netflix','new','noticed','scene','spoilers','ve','watched','actually','anybody','better','characters','clip','didn','discussion','don','end','favourite','feel','going','good','got','guys','happened','moments','post','quote','real','request','said','say','seasons','started','thing','thought','thread','video','want','way']"
   ]
  },
  {
   "cell_type": "code",
   "execution_count": 127,
   "metadata": {},
   "outputs": [
    {
     "data": {
      "text/plain": [
       "45"
      ]
     },
     "execution_count": 127,
     "metadata": {},
     "output_type": "execute_result"
    }
   ],
   "source": [
    "len(new_stops)"
   ]
  },
  {
   "cell_type": "markdown",
   "metadata": {},
   "source": [
    "We ran a CountVectorizer with the 'english' stop words library used by `sklearn`. We then looked at the new top 100 words in both subreddits combined. We combed through these words and took out any words that didn't seem to have an association with either show. Many of the words that remained were names of characters or locations where the shows take place. Some additional words that were kept despite seeming random were `christmas`, `little`, and `day`. The reasons for these are because in _The Office_ they have a lot of Christmas episodes that are pretty notorious in the fandom. _The Office_ also has an entire episode focused on 'Pretzel Day', so this might be discussed in the r/DunderMifflin subreddit. Lastly, `little` was kept because there is a character in _Parks and Recreation_ who is a small horse and his name is Little (Li'l) Sebastian. Any mention of Little Sebastian in a submission is likely to be a part of the r/PandR subreddit. "
   ]
  },
  {
   "cell_type": "code",
   "execution_count": 179,
   "metadata": {},
   "outputs": [],
   "source": [
    "# loading in CountVec stop words\n",
    "stopwords_eng = stopwords.words('english')"
   ]
  },
  {
   "cell_type": "code",
   "execution_count": 180,
   "metadata": {},
   "outputs": [
    {
     "data": {
      "text/plain": [
       "179"
      ]
     },
     "execution_count": 180,
     "metadata": {},
     "output_type": "execute_result"
    }
   ],
   "source": [
    "len(stopwords_eng)"
   ]
  },
  {
   "cell_type": "code",
   "execution_count": 190,
   "metadata": {},
   "outputs": [
    {
     "data": {
      "text/plain": [
       "246"
      ]
     },
     "execution_count": 190,
     "metadata": {},
     "output_type": "execute_result"
    }
   ],
   "source": [
    "# combining two stop words lists \n",
    "cust_stopwords = set(poss_stopwords).union(set(new_stops))\n",
    "cust_stopwords = cust_stopwords.union(set(stopwords_eng))\n",
    "cust_stopwords = list(cust_stopwords)\n",
    "len(cust_stopwords)"
   ]
  },
  {
   "cell_type": "markdown",
   "metadata": {},
   "source": [
    "We created a custom list of stop words including the original 'english' stop words list from `sklearn`, the overlapping irrelevant words from the top 100 of both subreddits, and additional words from the top 100 words overall of the whole data set with stopwords removed. This list, `cust_stopwords`, was pushed through the model as an option for a stop words list. In all of our models, though, the regular `english` stop words list was preferred."
   ]
  },
  {
   "cell_type": "markdown",
   "metadata": {},
   "source": [
    "## Modeling\n",
    "[Top](#Table-of-Contents:)"
   ]
  },
  {
   "cell_type": "markdown",
   "metadata": {},
   "source": [
    "For our models, the features we will be using are the text (words) of the titles of the submissions from the subreddits. We will use a Count Vectorizer or TF-IDF Vectorizer to count the frequencies of these words in each submission title. We tested out using additional features such as `score` and `num_comments`, but those models were not as successful at classifying the data as the models below with strictly text data.  "
   ]
  },
  {
   "cell_type": "markdown",
   "metadata": {},
   "source": [
    "### Model Preparation"
   ]
  },
  {
   "cell_type": "code",
   "execution_count": 196,
   "metadata": {},
   "outputs": [],
   "source": [
    "# setting X & y, train test split\n",
    "X = reddit['title']\n",
    "y = reddit['subreddit']\n",
    "\n",
    "X_train, X_test, y_train, y_test = train_test_split(X, y, random_state = 42, stratify = y)"
   ]
  },
  {
   "cell_type": "markdown",
   "metadata": {},
   "source": [
    "We tested out using `PorterStemmer()` on our text data in an attempt to find more matches of words within the data. Our models using the stemmer were not as successful at classifying the data as the models below that did not use the stemmer."
   ]
  },
  {
   "cell_type": "markdown",
   "metadata": {},
   "source": [
    "### Baseline Model\n",
    "[Top](#Table-of-Contents:)"
   ]
  },
  {
   "cell_type": "code",
   "execution_count": 197,
   "metadata": {},
   "outputs": [
    {
     "data": {
      "text/plain": [
       "0    0.561358\n",
       "1    0.438642\n",
       "Name: subreddit, dtype: float64"
      ]
     },
     "execution_count": 197,
     "metadata": {},
     "output_type": "execute_result"
    }
   ],
   "source": [
    "# find proportion of y train\n",
    "y_train.value_counts(normalize=True)"
   ]
  },
  {
   "cell_type": "code",
   "execution_count": 198,
   "metadata": {},
   "outputs": [
    {
     "data": {
      "text/plain": [
       "0    0.561644\n",
       "1    0.438356\n",
       "Name: subreddit, dtype: float64"
      ]
     },
     "execution_count": 198,
     "metadata": {},
     "output_type": "execute_result"
    }
   ],
   "source": [
    "# find proportion of y test\n",
    "y_test.value_counts(normalize=True)"
   ]
  },
  {
   "cell_type": "markdown",
   "metadata": {},
   "source": [
    "Our baseline model would be one that predicts the majority class for every entry. If we did this, the model would perform with 56.2% accuracy, correctly predicting all of the entries from _The Office_ subreddit (r/DunderMifflin). We are looking to make a model that performs better than the baseline model."
   ]
  },
  {
   "cell_type": "markdown",
   "metadata": {},
   "source": [
    "### Logistic Regression\n",
    "[Top](#Table-of-Contents:)"
   ]
  },
  {
   "cell_type": "code",
   "execution_count": 199,
   "metadata": {},
   "outputs": [],
   "source": [
    "# define pipeline\n",
    "pipe = Pipeline([\n",
    "    ('vec', CountVectorizer()),\n",
    "    ('tfidf', TfidfTransformer()),\n",
    "    ('lr', LogisticRegression(C=5))])\n",
    "\n",
    "# construct paramters\n",
    "params = {'vec__max_features':[800, 1000],\n",
    "         'vec__ngram_range'  :[(1,1),(1,2)],\n",
    "         'vec__min_df'       :[1,2,3],\n",
    "         'vec__max_df'       :[.90],\n",
    "          'vec__stop_words'  :[None, 'english', cust_stopwords],\n",
    "          'tfidf__use_idf'   :[True,False]}\n",
    "\n",
    " # Perform Grid Search\n",
    "gs = GridSearchCV(pipe, \n",
    "                 param_grid=params,\n",
    "                 cv = 5,\n",
    "                 scoring = 'accuracy')\n",
    "logreg = gs.fit(X_train, y_train)"
   ]
  },
  {
   "cell_type": "code",
   "execution_count": 200,
   "metadata": {},
   "outputs": [
    {
     "data": {
      "text/plain": [
       "{'tfidf__use_idf': True,\n",
       " 'vec__max_df': 0.9,\n",
       " 'vec__max_features': 1000,\n",
       " 'vec__min_df': 1,\n",
       " 'vec__ngram_range': (1, 2),\n",
       " 'vec__stop_words': 'english'}"
      ]
     },
     "execution_count": 200,
     "metadata": {},
     "output_type": "execute_result"
    }
   ],
   "source": [
    "logreg_train = logreg.score(X_train, y_train)\n",
    "logreg_test = logreg.score(X_test, y_test)\n",
    "logreg_cv = cross_val_score(logreg.best_estimator_, X, y).mean()\n",
    "logreg.best_params_"
   ]
  },
  {
   "cell_type": "code",
   "execution_count": 201,
   "metadata": {},
   "outputs": [
    {
     "name": "stdout",
     "output_type": "stream",
     "text": [
      "Logistic Regression:\n",
      "Train Accuracy: 0.896689497716895\n",
      "Test Accuracy: 0.7988013698630136\n",
      "Cross Val Accuracy: 0.7945259879306988\n",
      "Difference (Train - Test): 0.09788812785388135\n"
     ]
    }
   ],
   "source": [
    "print(f'Logistic Regression:')\n",
    "print(f'Train Accuracy: {logreg_train}')\n",
    "print(f'Test Accuracy: {logreg_test}')\n",
    "print(f'Cross Val Accuracy: {logreg_cv}')\n",
    "print(f'Difference (Train - Test): {logreg_train - logreg_test}')"
   ]
  },
  {
   "cell_type": "markdown",
   "metadata": {},
   "source": [
    "Our logistic regression model is performing with a train accuracy score of 89.7% and a test accuracy score of 79.9%. The higher train score indicates that there is some overfitting in the model, but the model is still performing decently on unseen data. After a lot of exploration, it was found that the logistic regression model works best when using TF-IDF and using the given 'english' stop words list. "
   ]
  },
  {
   "cell_type": "markdown",
   "metadata": {},
   "source": [
    "### Multinomial Naive Bayes\n",
    "[Top](#Table-of-Contents:)"
   ]
  },
  {
   "cell_type": "code",
   "execution_count": 202,
   "metadata": {},
   "outputs": [],
   "source": [
    "# define pipeline\n",
    "pipe = Pipeline([\n",
    "    ('vec', CountVectorizer(max_df=.9)),\n",
    "    ('tfidf', TfidfTransformer()),\n",
    "    ('mnb', MultinomialNB())])\n",
    "\n",
    "# construct paramters\n",
    "params = {'vec__max_features':[800, 1000],\n",
    "         'vec__ngram_range'  :[(1,1),(1,2)],\n",
    "         'vec__min_df'       :[1,2],\n",
    "          'vec__stop_words'  :[None, 'english', cust_stopwords],\n",
    "          'tfidf__use_idf'   :[True,False]}\n",
    "\n",
    " # Perform Grid Search\n",
    "gs = GridSearchCV(pipe, \n",
    "                 param_grid=params,\n",
    "                 cv = 5,\n",
    "                 scoring = 'accuracy')\n",
    "mnb = gs.fit(X_train, y_train)"
   ]
  },
  {
   "cell_type": "code",
   "execution_count": 203,
   "metadata": {},
   "outputs": [
    {
     "data": {
      "text/plain": [
       "{'tfidf__use_idf': False,\n",
       " 'vec__max_features': 1000,\n",
       " 'vec__min_df': 2,\n",
       " 'vec__ngram_range': (1, 1),\n",
       " 'vec__stop_words': 'english'}"
      ]
     },
     "execution_count": 203,
     "metadata": {},
     "output_type": "execute_result"
    }
   ],
   "source": [
    "mnb_train = mnb.score(X_train, y_train)\n",
    "mnb_test = mnb.score(X_test, y_test)\n",
    "mnb_cv = cross_val_score(mnb.best_estimator_, X, y).mean()\n",
    "mnb.best_params_"
   ]
  },
  {
   "cell_type": "code",
   "execution_count": 204,
   "metadata": {},
   "outputs": [
    {
     "name": "stdout",
     "output_type": "stream",
     "text": [
      "Multinomial Naive Bayes:\n",
      "Train Accuracy: 0.8547374429223744\n",
      "Test Accuracy: 0.7902397260273972\n",
      "Cross Val Accuracy: 0.7917431780966231\n",
      "Difference (Train - Test): 0.06449771689497719\n"
     ]
    }
   ],
   "source": [
    "print(f'Multinomial Naive Bayes:')\n",
    "print(f'Train Accuracy: {mnb_train}')\n",
    "print(f'Test Accuracy: {mnb_test}')\n",
    "print(f'Cross Val Accuracy: {mnb_cv}')\n",
    "print(f'Difference (Train - Test): {mnb_train - mnb_test}')"
   ]
  },
  {
   "cell_type": "markdown",
   "metadata": {},
   "source": [
    "Naive Bayes is a classification technique that relies on probability to classify observations. It is based on the probability rule _Bayes' Theorem_.  \n",
    "\n",
    "$$\n",
    "\\begin{eqnarray*}\n",
    "\\text{Bayes' Theorem: } P(A|B) &=& \\frac{P(B|A)P(A)}{P(B)}\n",
    "\\end{eqnarray*}\n",
    "$$\n",
    "\n",
    "In our model, we are calculating the probability of a submission coming from one of two subreddits, given the words found in the title of that submission. Specifically, Multinomial Naive Bayes works well with integers, but can also work with fractions (like data from TF-IDF).  \n",
    "Our best Multinomial Naive Bayes model did not use TF-IDF and looked at only words of n-gram = 1 (one word at a time). Its training accuracy score is 85.5% and its testing accuracy score is 79%. While the testing score of this model is slightly lower than that of the Logistic Regression model (79.9%), the difference between the training and testing scores in this model is smaller, indicating there is less overfitting in this model. \n"
   ]
  },
  {
   "cell_type": "markdown",
   "metadata": {},
   "source": [
    "### _k_-Nearest Neighbors\n",
    "[Top](#Table-of-Contents:)"
   ]
  },
  {
   "cell_type": "code",
   "execution_count": 65,
   "metadata": {},
   "outputs": [],
   "source": [
    "# define pipeline\n",
    "pipe = Pipeline([\n",
    "    ('vec', CountVectorizer(max_df=.9, stop_words='english')),\n",
    "    ('tfidf', TfidfTransformer()),\n",
    "    ('knn', KNeighborsClassifier())])\n",
    "\n",
    "# construct paramters\n",
    "params = {'vec__max_features':[200, 300, 400],\n",
    "         'vec__ngram_range'  :[(1,1),(1,2), (2,2)],\n",
    "         'vec__min_df'       :[2, 3],\n",
    "          'tfidf__use_idf'   :[True,False],\n",
    "         'knn__n_neighbors'  :[4, 5, 6]}\n",
    "\n",
    " # Perform Grid Search\n",
    "gs = GridSearchCV(pipe, \n",
    "                 param_grid=params,\n",
    "                 cv = 5,\n",
    "                 scoring = 'accuracy')\n",
    "knn = gs.fit(X_train, y_train)"
   ]
  },
  {
   "cell_type": "code",
   "execution_count": 142,
   "metadata": {},
   "outputs": [
    {
     "data": {
      "text/plain": [
       "{'knn__n_neighbors': 6,\n",
       " 'tfidf__use_idf': False,\n",
       " 'vec__max_features': 300,\n",
       " 'vec__min_df': 2,\n",
       " 'vec__ngram_range': (1, 2)}"
      ]
     },
     "execution_count": 142,
     "metadata": {},
     "output_type": "execute_result"
    }
   ],
   "source": [
    "knn_train = knn.score(X_train, y_train)\n",
    "knn_test = knn.score(X_test, y_test)\n",
    "knn_cv = cross_val_score(knn.best_estimator_, X, y).mean()\n",
    "knn.best_params_"
   ]
  },
  {
   "cell_type": "code",
   "execution_count": 145,
   "metadata": {},
   "outputs": [
    {
     "name": "stdout",
     "output_type": "stream",
     "text": [
      "k-Nearest Neighbors:\n",
      "Train Accuracy: 0.7856735159817352\n",
      "Test Accuracy: 0.7157534246575342\n",
      "Cross Val Accuracy: 0.6885749292903846\n",
      "Difference (Train - Test): 0.06992009132420096\n"
     ]
    }
   ],
   "source": [
    "print(f'k-Nearest Neighbors:')\n",
    "print(f'Train Accuracy: {knn_train}')\n",
    "print(f'Test Accuracy: {knn_test}')\n",
    "print(f'Cross Val Accuracy: {knn_cv}')\n",
    "print(f'Difference (Train - Test): {knn_train - knn_test}')"
   ]
  },
  {
   "cell_type": "markdown",
   "metadata": {},
   "source": [
    "The k-Nearest Neighbors model finds the _k_ closest neighbors to the data point and classifies that entry as whatever the majority class of the neighbors is. It is interesting to note that our kNN model preferred much less features than the two previous models (Logistic Regression & Multinomial Naive Bayes). The training accuracy score for the kNN model is 78.6% and the testing accuracy score is 71.6%. While the difference between these two scores falls between our Logistic Regression & Multinomial Naive Bayes models, the testing score is much lower than both of the previously mentioned models. "
   ]
  },
  {
   "cell_type": "markdown",
   "metadata": {},
   "source": [
    "### Decision Tree (CART)\n",
    "[Top](#Table-of-Contents:)"
   ]
  },
  {
   "cell_type": "code",
   "execution_count": 71,
   "metadata": {},
   "outputs": [],
   "source": [
    "tree = DecisionTreeClassifier(random_state=42)\n"
   ]
  },
  {
   "cell_type": "code",
   "execution_count": 205,
   "metadata": {},
   "outputs": [
    {
     "name": "stdout",
     "output_type": "stream",
     "text": [
      "CPU times: user 2min 24s, sys: 808 ms, total: 2min 25s\n",
      "Wall time: 2min 27s\n"
     ]
    }
   ],
   "source": [
    "# takes awhile to run \n",
    "# define pipeline\n",
    "pipe = Pipeline([\n",
    "    ('vec', CountVectorizer(max_df=.9)),\n",
    "    ('tfidf', TfidfTransformer()),\n",
    "    ('tree', DecisionTreeClassifier(random_state=42))])\n",
    "\n",
    "# construct paramters\n",
    "params = {'vec__max_features':[300, 400, 500],\n",
    "         'vec__ngram_range'  :[(1,1),(1,2)],\n",
    "         'vec__min_df'       :[1,2],\n",
    "          'vec__stop_words'  :['english', cust_stopwords],\n",
    "          'tfidf__use_idf'   :[True,False],\n",
    "         'tree__max_depth'   :[70,80,100],\n",
    "         'tree__max_features':['auto', 50, 60]}\n",
    "\n",
    " # Perform Grid Search\n",
    "gs = GridSearchCV(pipe, \n",
    "                 param_grid=params,\n",
    "                 cv = 5,\n",
    "                 scoring = 'accuracy')\n",
    "tree = gs.fit(X_train, y_train)"
   ]
  },
  {
   "cell_type": "code",
   "execution_count": 206,
   "metadata": {},
   "outputs": [
    {
     "data": {
      "text/plain": [
       "{'tfidf__use_idf': False,\n",
       " 'tree__max_depth': 100,\n",
       " 'tree__max_features': 60,\n",
       " 'vec__max_features': 500,\n",
       " 'vec__min_df': 1,\n",
       " 'vec__ngram_range': (1, 1),\n",
       " 'vec__stop_words': 'english'}"
      ]
     },
     "execution_count": 206,
     "metadata": {},
     "output_type": "execute_result"
    }
   ],
   "source": [
    "tree_train = tree.score(X_train, y_train)\n",
    "tree_test = tree.score(X_test, y_test)\n",
    "tree_cv = cross_val_score(tree.best_estimator_, X, y).mean()\n",
    "tree.best_params_"
   ]
  },
  {
   "cell_type": "code",
   "execution_count": 207,
   "metadata": {},
   "outputs": [
    {
     "name": "stdout",
     "output_type": "stream",
     "text": [
      "Decision Tree:\n",
      "Train Accuracy: 0.8590182648401826\n",
      "Test Accuracy: 0.7722602739726028\n",
      "Cross Val Accuracy: 0.7622075141132957\n",
      "Difference (Train - Test): 0.08675799086757985\n"
     ]
    }
   ],
   "source": [
    "print(f'Decision Tree:')\n",
    "print(f'Train Accuracy: {tree_train}')\n",
    "print(f'Test Accuracy: {tree_test}')\n",
    "print(f'Cross Val Accuracy: {tree_cv}')\n",
    "print(f'Difference (Train - Test): {tree_train - tree_test}')"
   ]
  },
  {
   "cell_type": "markdown",
   "metadata": {},
   "source": [
    "A decision tree classifies our submissions by splitting the data into subsets based on their values for specific features. The decision tree will try to find the \"best\" way to split the data, looking for maximum information gain with each split. Our Decision Tree classifier has a training accuracy score of 85.9% and a testing accuracy score of 77.2%. This model is performing okay compared to the other models we've looked at, but there is still overfitting as the train score is larger than the test score. In an effort to decrease the amount of overfitting, we will trade some variance for bias and move onto the next classifier: bagging."
   ]
  },
  {
   "cell_type": "markdown",
   "metadata": {},
   "source": [
    "### Bagging Classifier (Bootstrap Aggregating)\n",
    "[Top](#Table-of-Contents:)"
   ]
  },
  {
   "cell_type": "code",
   "execution_count": 208,
   "metadata": {},
   "outputs": [],
   "source": [
    "# this one takes forever to run ... \n",
    "\n",
    "\n",
    "# define pipeline\n",
    "pipe = Pipeline([\n",
    "    ('vec', CountVectorizer(max_df=.9)),\n",
    "    ('tfidf', TfidfTransformer()),\n",
    "    ('bag', BaggingClassifier(random_state=42))])\n",
    "\n",
    "# construct paramters\n",
    "params = {'vec__max_features':[100, 200, 300],\n",
    "         'vec__ngram_range'  :[(1,1),(1,2)],\n",
    "         'vec__min_df'       :[1,2],\n",
    "          'vec__stop_words'  :['english', cust_stopwords],\n",
    "          'tfidf__use_idf'   :[True,False],\n",
    "         'bag__max_features':[65, 70, 75],\n",
    "          'bag__n_estimators' :[25]} # [25, 30, 35]\n",
    "\n",
    " # Perform Grid Search\n",
    "gs = GridSearchCV(pipe, \n",
    "                 param_grid=params,\n",
    "                 cv = 5,\n",
    "                 scoring = 'accuracy')\n",
    "bag = gs.fit(X_train, y_train)"
   ]
  },
  {
   "cell_type": "code",
   "execution_count": 209,
   "metadata": {},
   "outputs": [
    {
     "data": {
      "text/plain": [
       "{'bag__max_features': 70,\n",
       " 'bag__n_estimators': 25,\n",
       " 'tfidf__use_idf': False,\n",
       " 'vec__max_features': 200,\n",
       " 'vec__min_df': 1,\n",
       " 'vec__ngram_range': (1, 1),\n",
       " 'vec__stop_words': 'english'}"
      ]
     },
     "execution_count": 209,
     "metadata": {},
     "output_type": "execute_result"
    }
   ],
   "source": [
    "bag_train = bag.score(X_train, y_train)\n",
    "bag_test = bag.score(X_test, y_test)\n",
    "bag_cv = cross_val_score(bag.best_estimator_, X, y).mean()\n",
    "bag.best_params_"
   ]
  },
  {
   "cell_type": "code",
   "execution_count": 210,
   "metadata": {},
   "outputs": [
    {
     "name": "stdout",
     "output_type": "stream",
     "text": [
      "Bagging:\n",
      "Train Accuracy: 0.8567351598173516\n",
      "Test Accuracy: 0.7491438356164384\n",
      "Cross Val Accuracy: 0.7463660410631062\n",
      "Difference (Train - Test): 0.10759132420091322\n"
     ]
    }
   ],
   "source": [
    "print(f'Bagging:')\n",
    "print(f'Train Accuracy: {bag_train}')\n",
    "print(f'Test Accuracy: {bag_test}')\n",
    "print(f'Cross Val Accuracy: {bag_cv}')\n",
    "print(f'Difference (Train - Test): {bag_train - bag_test}')"
   ]
  },
  {
   "cell_type": "markdown",
   "metadata": {},
   "source": [
    "The bagging classifier works similarly to the decision tree, but instead of just looking at one set of data and one tree, it _bootstraps_ the data, creating many data sets from the original and running many decision trees simultaneously. It then _aggregates_ the outcomes from these trees to make its predictions. Due to the added randomness, it is expected to reduce overfitting. The training accuracy score for this model is 85.7% while the testing accuracy score is 74.9%. The difference in these scores is actually larger than the scores from the decision tree, and the model is performing worse on testing data. Our model is still overfit, so will we move onto the next classifier: Random Forest. "
   ]
  },
  {
   "cell_type": "markdown",
   "metadata": {},
   "source": [
    "### Random Forest\n",
    "[Top](#Table-of-Contents:)  \n"
   ]
  },
  {
   "cell_type": "code",
   "execution_count": 211,
   "metadata": {},
   "outputs": [],
   "source": [
    "# this one takes forever to run ... \n",
    "\n",
    "\n",
    "# define pipeline\n",
    "pipe = Pipeline([\n",
    "    ('vec', CountVectorizer(max_df=.9)),\n",
    "    ('tfidf', TfidfTransformer()),\n",
    "    ('rf', RandomForestClassifier())])\n",
    "\n",
    "# construct paramters\n",
    "params = {'vec__max_features':[150, 200], #[100, 200, 300]\n",
    "         'vec__ngram_range'  :[(1,1),(1,2)],\n",
    "         'vec__min_df'       :[1,2],\n",
    "          'vec__stop_words'  :['english', cust_stopwords],\n",
    "         # 'tfidf__use_idf'   :[True,False], #this parameter continued to come up False, so we excluded it for tuning\n",
    "         'rf__max_features'  :['auto'], # 'auto', \n",
    "          'rf__n_estimators' :[100, 150],\n",
    "         'rf__max_depth'     :[None, 40]} \n",
    "\n",
    " # Perform Grid Search\n",
    "gs = GridSearchCV(pipe, \n",
    "                 param_grid=params,\n",
    "                 cv = 5,\n",
    "                 scoring = 'accuracy')\n",
    "rf = gs.fit(X_train, y_train)"
   ]
  },
  {
   "cell_type": "code",
   "execution_count": 214,
   "metadata": {},
   "outputs": [
    {
     "data": {
      "text/plain": [
       "{'rf__max_depth': 40,\n",
       " 'rf__max_features': 'auto',\n",
       " 'rf__n_estimators': 100,\n",
       " 'vec__max_features': 200,\n",
       " 'vec__min_df': 2,\n",
       " 'vec__ngram_range': (1, 1),\n",
       " 'vec__stop_words': 'english'}"
      ]
     },
     "execution_count": 214,
     "metadata": {},
     "output_type": "execute_result"
    }
   ],
   "source": [
    "rf_train = rf.score(X_train, y_train)\n",
    "rf_test = rf.score(X_test, y_test)\n",
    "rf_cv = cross_val_score(rf.best_estimator_, X, y).mean()\n",
    "rf.best_params_"
   ]
  },
  {
   "cell_type": "code",
   "execution_count": 215,
   "metadata": {},
   "outputs": [
    {
     "name": "stdout",
     "output_type": "stream",
     "text": [
      "Random Forest:\n",
      "Train Accuracy: 0.8193493150684932\n",
      "Test Accuracy: 0.7508561643835616\n",
      "Cross Val Accuracy: 0.7574961353044235\n",
      "Difference (Train - Test): 0.06849315068493156\n"
     ]
    }
   ],
   "source": [
    "print(f'Random Forest:')\n",
    "print(f'Train Accuracy: {rf_train}')\n",
    "print(f'Test Accuracy: {rf_test}')\n",
    "print(f'Cross Val Accuracy: {rf_cv}')\n",
    "print(f'Difference (Train - Test): {rf_train - rf_test}')"
   ]
  },
  {
   "cell_type": "markdown",
   "metadata": {},
   "source": [
    "Using a random forest adds another level of randomness to the model as it will not look at all of the available features at each split, but a random subset of features instead and split on the best feature from that subset. This seemed to help our model as the difference between training and testing score is less than both the decision tree model and the bagging model. The training accuracy score is 81.9% while the training score is 75.1%. The testing score of this model is performing at a similar level (slightly lower) to the decision tree model, but with less overfitting. "
   ]
  },
  {
   "cell_type": "markdown",
   "metadata": {},
   "source": [
    "### Support Vector Machine\n",
    "[Top](#Table-of-Contents:)  \n"
   ]
  },
  {
   "cell_type": "code",
   "execution_count": 226,
   "metadata": {},
   "outputs": [],
   "source": [
    "# define pipeline\n",
    "pipe = Pipeline([\n",
    "    ('vec', CountVectorizer(max_df=.9, stop_words='english')),\n",
    "    ('tfidf', TfidfTransformer()),\n",
    "    ('svc', SVC())])\n",
    "\n",
    "# construct paramters\n",
    "params = {'vec__max_features':[500, 600, 700],\n",
    "         'vec__ngram_range'  :[(1,1),(1,2)],\n",
    "         'vec__min_df'       :[1,2, 3],\n",
    "         'tfidf__use_idf'   :[True,False],\n",
    "         'svc__kernel' : ['linear'], # we tested other kernels as well, linear continued to do the best \n",
    "         #'svc__degree': [2,3],\n",
    "         'svc__C' : [.1, 1, 5]}\n",
    "\n",
    " # Perform Grid Search\n",
    "gs = GridSearchCV(pipe, # pipeline object replaces what we usually had as empty model class\n",
    "                 param_grid=params,\n",
    "                 cv = 5,\n",
    "                 scoring = 'accuracy')\n",
    "svm3 = gs.fit(X_train, y_train)"
   ]
  },
  {
   "cell_type": "code",
   "execution_count": 227,
   "metadata": {},
   "outputs": [
    {
     "data": {
      "text/plain": [
       "{'svc__C': 1,\n",
       " 'svc__kernel': 'linear',\n",
       " 'tfidf__use_idf': True,\n",
       " 'vec__max_features': 700,\n",
       " 'vec__min_df': 1,\n",
       " 'vec__ngram_range': (1, 2)}"
      ]
     },
     "execution_count": 227,
     "metadata": {},
     "output_type": "execute_result"
    }
   ],
   "source": [
    "svm3_train = svm3.score(X_train,  y_train)\n",
    "svm3_test = svm3.score(X_test, y_test)\n",
    "svm3_cv = cross_val_score(svm3.best_estimator_, X, y).mean()\n",
    "svm3.best_params_"
   ]
  },
  {
   "cell_type": "code",
   "execution_count": 228,
   "metadata": {},
   "outputs": [
    {
     "name": "stdout",
     "output_type": "stream",
     "text": [
      "Support Vector Machine:\n",
      "Train Accuracy: 0.8553082191780822\n",
      "Test Accuracy: 0.7842465753424658\n",
      "Cross Val Accuracy: 0.7786842858615122\n",
      "Difference (Train - Test): 0.07106164383561642\n"
     ]
    }
   ],
   "source": [
    "print(f'Support Vector Machine:')\n",
    "print(f'Train Accuracy: {svm3_train}')\n",
    "print(f'Test Accuracy: {svm3_test}')\n",
    "print(f'Cross Val Accuracy: {svm3_cv}')\n",
    "print(f'Difference (Train - Test): {svm3_train - svm3_test}')"
   ]
  },
  {
   "cell_type": "markdown",
   "metadata": {},
   "source": [
    "Using a support vector machine plots our data and finds the hyperplane that best separates the classes of data. Using the kernel trick, support vector machines add dimensions to the model to account for data with many features that cannot be split simply using a line. In our SVM model, the best kernel is the linear kernel. The model's training accuracy score is 85.5% and its testing accuracy score is 78.4%. The testing score and difference in scores for this model are performing similarly to the top models thus far. "
   ]
  },
  {
   "cell_type": "markdown",
   "metadata": {},
   "source": [
    "## Model Selection\n",
    "[top](#Table-of-Contents:)  \n",
    "Below the models are listed in descending order of testing accuracy scores. "
   ]
  },
  {
   "cell_type": "markdown",
   "metadata": {},
   "source": [
    "|Model|Training Accuracy|Testing Accuracy|Difference (Train - Test)|\n",
    "|:---|:---:|:---:|:---:|\n",
    "|Logistic Regression|89.7%|79.9%|9.79%|\n",
    "|Multinomial Naive Bayes|85.5%|79%|6.45%|\n",
    "|Support Vector Machine|85.5%|78.4%|7.11%|\n",
    "|Decision Tree|85.9%|77.2%|8.68%|\n",
    "|Random Forest|81.9%|75.1%|6.85%|\n",
    "|Bagging|85.7%|74.9%|10.76%|\n",
    "|k-Nearest Neighbors|78.6%|71.6%|7.0%|\n",
    "|Baseline|56.1%|56.2%| - .1%|"
   ]
  },
  {
   "cell_type": "markdown",
   "metadata": {},
   "source": [
    "Looking at the training and testing accuracy scores as well as the differences between those scores for all of our models helps us determine which model to use. Looking at strictly accuracy of the testing score, the Logistic Regression, Multinomial Naive Bayes, and Support Vector Machine models are performing the best, all with a score above 78%. It is important to consider the difference between the training and testing scores, though, for these models. The Logistic Regression model, despite showing the best testing score, also has the largest difference in scores of the top 3. The Support Vector Machine model has a smaller difference than the Logistic Regression model. The model with the smallest difference between training and testing scores, though, is the Multinomial Naive Bayes model. It also happens to be our second best performing model on the test data. For this reason, **we will choose the Multinomial Naive Bayes model as our best model for making predictions.**   \n",
    "\n",
    "It is also important to consider a model to help interpret our model and predictions. The **best model for interpretation in this situation is the Logistic Regression model**, as it has coefficients we can fairly easily make sense of, and it has decent scores as mentioned above. "
   ]
  },
  {
   "cell_type": "markdown",
   "metadata": {},
   "source": [
    "## Model Evaluation\n",
    "### Predictive Model - _Multinomial Naive Bayes_\n",
    "[top](#Table-of-Contents:)"
   ]
  },
  {
   "cell_type": "markdown",
   "metadata": {},
   "source": [
    "#### Confusion Matrix"
   ]
  },
  {
   "cell_type": "code",
   "execution_count": 282,
   "metadata": {},
   "outputs": [
    {
     "data": {
      "image/png": "[encoded data removed]",
      "text/plain": [
       "<Figure size 432x288 with 2 Axes>"
      ]
     },
     "metadata": {
      "needs_background": "light"
     },
     "output_type": "display_data"
    }
   ],
   "source": [
    "# get predictions for test set \n",
    "ppreds = mnb.predict(X_test)\n",
    "tn, fp, fn, tp = confusion_matrix(y_test, ppreds).ravel()\n",
    "pcm = confusion_matrix(y_test, ppreds)\n",
    "\n",
    "sns.heatmap(pcm, cmap='BuGn',fmt='g',annot=True,xticklabels=['0 (r/DunderMifflin)','1 (r/PandR)'],yticklabels=['0 (r/DunderMifflin)','1 (r/PandR)'], annot_kws={\"size\": 15})\n",
    "plt.title(\"Confusion Matrix for Multinomial Naive Bayes\",size=15)\n",
    "plt.xlabel('Predicted',size=13)\n",
    "plt.ylabel('Actual',size=13)\n",
    "plt.yticks([0,1],('0 (r/DunderMifflin)','1 (r/PandR)'), fontsize=\"10\", va=\"center_baseline\");"
   ]
  },
  {
   "cell_type": "code",
   "execution_count": 283,
   "metadata": {},
   "outputs": [
    {
     "name": "stdout",
     "output_type": "stream",
     "text": [
      "Accuracy: 0.79\n",
      "Misclassification Rate: 0.21\n",
      "Sensitivity: 0.63\n",
      "Specificity: 0.92\n",
      "Precision: 0.85\n"
     ]
    }
   ],
   "source": [
    "acc = round((tp + tn)/ (tp + tn + fp + fn), 2)\n",
    "miss = round(1 - acc, 2)\n",
    "sens = round(tp / (tp + fn),2)\n",
    "spec = round(tn / (tn + fp),2)\n",
    "prec = round(tp / (tp + fp),2)\n",
    "print(f'Accuracy: {acc}')\n",
    "print(f'Misclassification Rate: {miss}')\n",
    "print(f'Sensitivity: {sens}')\n",
    "print(f'Specificity: {spec}')\n",
    "print(f'Precision: {prec}')"
   ]
  },
  {
   "cell_type": "markdown",
   "metadata": {},
   "source": [
    "Our Multinomial Naive Bayes model performed with 79% accuracy. Remember that a 0 in our model indicates being from the r/DunderMifflin subreddit and a 1 indicates being from the r/PandR subreddit. The sensitivity is 63% and specificity is 92% meaning that the model correctly identified a higher proportion of posts to the r/DunderMifflin subreddit than to the r/PandR subreddit.  "
   ]
  },
  {
   "cell_type": "markdown",
   "metadata": {},
   "source": [
    "#### Misclassified Submissions"
   ]
  },
  {
   "cell_type": "code",
   "execution_count": 330,
   "metadata": {},
   "outputs": [],
   "source": [
    "X_test_df = reddit.iloc[X_test.index] # get index from X_test\n",
    "X_test_df = X_test_df.drop(columns = ['selftext','author','num_comments','score','timestamp']) # drop unnecessary rows\n",
    "X_test_df.insert(1,'pred',ppreds) # add predictions"
   ]
  },
  {
   "cell_type": "code",
   "execution_count": 365,
   "metadata": {},
   "outputs": [
    {
     "data": {
      "text/html": [
       "<div>\n",
       "<style scoped>\n",
       "    .dataframe tbody tr th:only-of-type {\n",
       "        vertical-align: middle;\n",
       "    }\n",
       "\n",
       "    .dataframe tbody tr th {\n",
       "        vertical-align: top;\n",
       "    }\n",
       "\n",
       "    .dataframe thead th {\n",
       "        text-align: right;\n",
       "    }\n",
       "</style>\n",
       "<table border=\"1\" class=\"dataframe\">\n",
       "  <thead>\n",
       "    <tr style=\"text-align: right;\">\n",
       "      <th></th>\n",
       "      <th>title</th>\n",
       "      <th>pred</th>\n",
       "      <th>subreddit</th>\n",
       "    </tr>\n",
       "  </thead>\n",
       "  <tbody>\n",
       "    <tr>\n",
       "      <th>280</th>\n",
       "      <td>Can we talk about how amazing season 2 is? It ...</td>\n",
       "      <td>0</td>\n",
       "      <td>1</td>\n",
       "    </tr>\n",
       "    <tr>\n",
       "      <th>197</th>\n",
       "      <td>Missing Couples Costumes</td>\n",
       "      <td>0</td>\n",
       "      <td>1</td>\n",
       "    </tr>\n",
       "    <tr>\n",
       "      <th>1542</th>\n",
       "      <td>DAE think that Season 6 is becoming one of, if...</td>\n",
       "      <td>0</td>\n",
       "      <td>1</td>\n",
       "    </tr>\n",
       "    <tr>\n",
       "      <th>4340</th>\n",
       "      <td>Question about a song that was playing?</td>\n",
       "      <td>1</td>\n",
       "      <td>0</td>\n",
       "    </tr>\n",
       "    <tr>\n",
       "      <th>2865</th>\n",
       "      <td>Andy said that his parents got his name out of...</td>\n",
       "      <td>1</td>\n",
       "      <td>0</td>\n",
       "    </tr>\n",
       "  </tbody>\n",
       "</table>\n",
       "</div>"
      ],
      "text/plain": [
       "                                                  title  pred  subreddit\n",
       "280   Can we talk about how amazing season 2 is? It ...     0          1\n",
       "197                            Missing Couples Costumes     0          1\n",
       "1542  DAE think that Season 6 is becoming one of, if...     0          1\n",
       "4340            Question about a song that was playing?     1          0\n",
       "2865  Andy said that his parents got his name out of...     1          0"
      ]
     },
     "execution_count": 365,
     "metadata": {},
     "output_type": "execute_result"
    }
   ],
   "source": [
    "# get misclassified posts \n",
    "misclass_mnb = X_test_df[X_test_df['pred'] != X_test_df['subreddit']] \n",
    "misclass_mnb.head()"
   ]
  },
  {
   "cell_type": "code",
   "execution_count": 357,
   "metadata": {},
   "outputs": [
    {
     "data": {
      "text/plain": [
       "\"Had great fun with this over at r/DunderMifflin yesterday, thought I would try over here- I'm nursing some broken bones for the next little while, what are some great injury-themed P/R episodes?\""
      ]
     },
     "execution_count": 357,
     "metadata": {},
     "output_type": "execute_result"
    }
   ],
   "source": [
    "misclass_mnb.loc[773, 'title']"
   ]
  },
  {
   "cell_type": "markdown",
   "metadata": {},
   "source": [
    "Predicted: r/DunderMifflin  \n",
    "Actual: r/PandR  \n",
    "\n",
    "The model classified the post with the above title _\"Had great fun with this over at r/DunderMifflin yesterday, thought I would try over here- I'm nursing some broken bones for the next little while, what are some great injury-themed P/R episodes?\"_ as being part of the r/DunderMifflin subreddit, which makes perfect sense given that r/DunderMifflin is literally in the title. Unfortunately, this post actually came from r/PandR and the user was discussing their experience on the other subreddit. "
   ]
  },
  {
   "cell_type": "code",
   "execution_count": 363,
   "metadata": {},
   "outputs": [
    {
     "data": {
      "text/plain": [
       "'I\\'m on season 4. Is there any \"The Office\" cross over or easter eggs?'"
      ]
     },
     "execution_count": 363,
     "metadata": {},
     "output_type": "execute_result"
    }
   ],
   "source": [
    "misclass_mnb.loc[424, 'title']"
   ]
  },
  {
   "cell_type": "markdown",
   "metadata": {},
   "source": [
    "Predicted: r/DunderMifflin  \n",
    "Actual: r/PandR  \n",
    "\n",
    "Similar to the case above, this is a submission title that includes the words \"The Office.\" Because of this, our model classified it as belonging to the r/DunderMifflin subreddit. In reality, it is a submission from the r/PandR subreddit that mentions _The Office_. "
   ]
  },
  {
   "cell_type": "code",
   "execution_count": 354,
   "metadata": {},
   "outputs": [
    {
     "data": {
      "text/plain": [
       "['Andy said that his parents got his name out of a baby name book...',\n",
       " 'How did Andy get the goldfish in the boot? S3.E3',\n",
       " \"Andy's neighbor Lawrence got sweet sweet karma in Jurassic world after stealing Andy's boom box.\",\n",
       " 'DAE think that Andy is a 20-something Michael Scott?',\n",
       " 'Does anybody else think that when Andy becomes manager, the writers just wrote his lines as though he was Michael Scott?',\n",
       " \"Andy's brothers\",\n",
       " 'How did Andy escape budget cuts?',\n",
       " 'I like Andy but I still think that Will Arnett would have been an awesome fit as boss.',\n",
       " 'Andy is peter quill']"
      ]
     },
     "execution_count": 354,
     "metadata": {},
     "output_type": "execute_result"
    }
   ],
   "source": [
    "[text for text in misclass_mnb['title'] if 'Andy' in text]"
   ]
  },
  {
   "cell_type": "markdown",
   "metadata": {},
   "source": [
    "Above are all of the titles of misclassified posts that have 'Andy' in the title. We assumed 'Andy' would be in some of the misclassified posts because both shows, _The Office_ and _Parks and Recreation_, have a character named Andy. Many of the above posts mention Andy and no other identifying characters or features of the show, which is why the model had trouble determining its appropriate subreddit. One title that doesn't quite fit this logic is the one that reads _'Does anybody else think that when Andy becomes manager, the writers just wrote his lines as though he was Michael Scott?'_ Michael Scott is the main character of _The Office_ so we would assume this combination would have helped the model to determine the appropriate subreddit, but alas it did not. "
   ]
  },
  {
   "cell_type": "code",
   "execution_count": 364,
   "metadata": {},
   "outputs": [
    {
     "data": {
      "text/plain": [
       "['Adam Scott AMA - Jun 23, 5pm EDT in r/IAmA',\n",
       " 'DAE think that Andy is a 20-something Michael Scott?',\n",
       " 'Does anybody else think that when Andy becomes manager, the writers just wrote his lines as though he was Michael Scott?',\n",
       " 'Can someone make me a .gif of Adam Scott winking?',\n",
       " \"Anyone else glad that Adam Scott's character is getting more attention lately?\"]"
      ]
     },
     "execution_count": 364,
     "metadata": {},
     "output_type": "execute_result"
    }
   ],
   "source": [
    "[text for text in misclass_mnb['title'] if 'Scott' in text]"
   ]
  },
  {
   "cell_type": "markdown",
   "metadata": {},
   "source": [
    "Similar to the above case, the last name Scott gave the model issues. The main character of _The Office_ is Michael Scott, but one of the main characters of _Parks and Recreation_ is played by Adam Scott. Thus, anytime the model came across the word `scott`, it had difficulty placing it in the proper subreddit. "
   ]
  },
  {
   "cell_type": "markdown",
   "metadata": {},
   "source": [
    "Lastly, many of the misclassified submissions were likely due to the generality of the titles. For example, one of the titles was _'Question about a song that was playing?'_. This title has no identifying words that would indicate it belonged to r/DunderMifflin or r/PandR. "
   ]
  },
  {
   "cell_type": "markdown",
   "metadata": {},
   "source": [
    "### Interpretable Model - _Logistic Regression_\n",
    "[top](#Table-of-Contents:)"
   ]
  },
  {
   "cell_type": "markdown",
   "metadata": {},
   "source": [
    "#### Confusion Matrix"
   ]
  },
  {
   "cell_type": "code",
   "execution_count": 284,
   "metadata": {},
   "outputs": [
    {
     "data": {
      "image/png": "[encoded data removed]",
      "text/plain": [
       "<Figure size 432x288 with 2 Axes>"
      ]
     },
     "metadata": {
      "needs_background": "light"
     },
     "output_type": "display_data"
    }
   ],
   "source": [
    "# get predictions for test set \n",
    "ipreds = logreg.predict(X_test)\n",
    "tn, fp, fn, tp = confusion_matrix(y_test, ipreds).ravel()\n",
    "icm = confusion_matrix(y_test, ipreds)\n",
    "\n",
    "sns.heatmap(icm, cmap='BuPu',annot=True,fmt='g',xticklabels=['0 (r/DunderMifflin)','1 (r/PandR)'],yticklabels=['0 (r/DunderMifflin)','1 (r/PandR)'], annot_kws={\"size\": 15})\n",
    "plt.title(\"Confusion Matrix for Logistic Regression\",size=15)\n",
    "plt.xlabel('Predicted',size=13)\n",
    "plt.ylabel('Actual',size=13)\n",
    "plt.yticks([0,1],('0 (r/DunderMifflin)','1 (r/PandR)'), fontsize=\"10\", va=\"center_baseline\");"
   ]
  },
  {
   "cell_type": "code",
   "execution_count": 285,
   "metadata": {},
   "outputs": [
    {
     "name": "stdout",
     "output_type": "stream",
     "text": [
      "Accuracy: 0.8\n",
      "Misclassification Rate: 0.2\n",
      "Sensitivity: 0.71\n",
      "Specificity: 0.86\n",
      "Precision: 0.8\n"
     ]
    }
   ],
   "source": [
    "acc = round((tp + tn)/ (tp + tn + fp + fn), 2)\n",
    "miss = round(1 - acc, 2)\n",
    "sens = round(tp / (tp + fn),2)\n",
    "spec = round(tn / (tn + fp),2)\n",
    "prec = round(tp / (tp + fp),2)\n",
    "print(f'Accuracy: {acc}')\n",
    "print(f'Misclassification Rate: {miss}')\n",
    "print(f'Sensitivity: {sens}')\n",
    "print(f'Specificity: {spec}')\n",
    "print(f'Precision: {prec}')"
   ]
  },
  {
   "cell_type": "markdown",
   "metadata": {},
   "source": [
    "Our Logistic Regression model performed with 80% accuracy. The sensitivity is 71% and specificity is 86% meaning that the model correctly identified a higher proportion of posts to the r/DunderMifflin subreddit than to the r/PandR subreddit, as did the Multinomial Naive Bayes model. The difference in sensitivity and specificity is smaller for this model, though.  "
   ]
  },
  {
   "cell_type": "markdown",
   "metadata": {},
   "source": [
    "#### Misclassified Submissions"
   ]
  },
  {
   "cell_type": "code",
   "execution_count": 366,
   "metadata": {},
   "outputs": [],
   "source": [
    "X_test_df = reddit.iloc[X_test.index] # get index from X_test\n",
    "X_test_df = X_test_df.drop(columns = ['selftext','author','num_comments','score','timestamp']) # drop unnecessary rows\n",
    "X_test_df.insert(1,'pred',ipreds) # add predictions"
   ]
  },
  {
   "cell_type": "code",
   "execution_count": 394,
   "metadata": {},
   "outputs": [
    {
     "data": {
      "text/html": [
       "<div>\n",
       "<style scoped>\n",
       "    .dataframe tbody tr th:only-of-type {\n",
       "        vertical-align: middle;\n",
       "    }\n",
       "\n",
       "    .dataframe tbody tr th {\n",
       "        vertical-align: top;\n",
       "    }\n",
       "\n",
       "    .dataframe thead th {\n",
       "        text-align: right;\n",
       "    }\n",
       "</style>\n",
       "<table border=\"1\" class=\"dataframe\">\n",
       "  <thead>\n",
       "    <tr style=\"text-align: right;\">\n",
       "      <th></th>\n",
       "      <th>title</th>\n",
       "      <th>pred</th>\n",
       "      <th>subreddit</th>\n",
       "    </tr>\n",
       "  </thead>\n",
       "  <tbody>\n",
       "    <tr>\n",
       "      <th>1620</th>\n",
       "      <td>A calzone gave me food poisoning last night,</td>\n",
       "      <td>0</td>\n",
       "      <td>1</td>\n",
       "    </tr>\n",
       "    <tr>\n",
       "      <th>1450</th>\n",
       "      <td>Blooper reel?</td>\n",
       "      <td>0</td>\n",
       "      <td>1</td>\n",
       "    </tr>\n",
       "    <tr>\n",
       "      <th>2274</th>\n",
       "      <td>Crime Reduces Innocence Makes Everyone -- Angr...</td>\n",
       "      <td>1</td>\n",
       "      <td>0</td>\n",
       "    </tr>\n",
       "    <tr>\n",
       "      <th>4556</th>\n",
       "      <td>Doomsday discussion thread</td>\n",
       "      <td>1</td>\n",
       "      <td>0</td>\n",
       "    </tr>\n",
       "    <tr>\n",
       "      <th>4490</th>\n",
       "      <td>Maybe this is really weird...</td>\n",
       "      <td>1</td>\n",
       "      <td>0</td>\n",
       "    </tr>\n",
       "  </tbody>\n",
       "</table>\n",
       "</div>"
      ],
      "text/plain": [
       "                                                  title  pred  subreddit\n",
       "1620       A calzone gave me food poisoning last night,     0          1\n",
       "1450                                      Blooper reel?     0          1\n",
       "2274  Crime Reduces Innocence Makes Everyone -- Angr...     1          0\n",
       "4556                        Doomsday discussion thread      1          0\n",
       "4490                      Maybe this is really weird...     1          0"
      ]
     },
     "execution_count": 394,
     "metadata": {},
     "output_type": "execute_result"
    }
   ],
   "source": [
    "# get misclassified posts \n",
    "misclass_lr = X_test_df[X_test_df['pred'] != X_test_df['subreddit']] \n",
    "misclass_lr.tail()"
   ]
  },
  {
   "cell_type": "code",
   "execution_count": 369,
   "metadata": {},
   "outputs": [
    {
     "data": {
      "text/plain": [
       "'Is it just me or does John Krasinski (Jimmy Halpert) voice a lot of commercials?'"
      ]
     },
     "execution_count": 369,
     "metadata": {},
     "output_type": "execute_result"
    }
   ],
   "source": [
    "misclass_lr.loc[4382, 'title']"
   ]
  },
  {
   "cell_type": "code",
   "execution_count": 372,
   "metadata": {},
   "outputs": [
    {
     "data": {
      "text/plain": [
       "'I think Kevin was the person who robbed the office in the Crime Aid episode.'"
      ]
     },
     "execution_count": 372,
     "metadata": {},
     "output_type": "execute_result"
    }
   ],
   "source": [
    "misclass_lr.loc[3031, 'title']"
   ]
  },
  {
   "cell_type": "markdown",
   "metadata": {},
   "source": [
    "Both:  \n",
    "Predicted: r/PandR  \n",
    "Actual: r/DunderMifflin  \n",
    "\n",
    "The submission with the title _'Is it just me or does John Krasinski (Jimmy Halpert) voice a lot of commercials?'_ was misclassified, which is surprising to me. Not only does this have a character name, but it also has the actor's name as well! John Krasinski plays one of the main characters, Jim Halpert, on _The Office_. It is interesting that this submission somehow made it into the r/PandR predictions. Similarly, the post with the title _'I think Kevin was the person who robbed the office in the Crime Aid episode.'_ was also predicted to be in r/PandR despite having a fairly popular character in the title as well as the name of the show, _The Office_. "
   ]
  },
  {
   "cell_type": "code",
   "execution_count": 384,
   "metadata": {},
   "outputs": [
    {
     "data": {
      "text/plain": [
       "'R.I.P Tom'"
      ]
     },
     "execution_count": 384,
     "metadata": {},
     "output_type": "execute_result"
    }
   ],
   "source": [
    "misclass_lr.loc[2144, 'title']"
   ]
  },
  {
   "cell_type": "markdown",
   "metadata": {},
   "source": [
    "Predicted: r/PandR  \n",
    "Actual: r/DunderMifflin  \n",
    "\n",
    "The above submission title, _'R.I.P. Tom'_ is for a post from the r/DunderMifflin subreddit. The model misclassified it as being from the r/PandR subreddit, which makes sense because one of the main characters of _Parks and Recreation_ is named Tom. With pretty much no other words to help categorize this title, no further context could be built and thus is was misclassified. "
   ]
  },
  {
   "cell_type": "code",
   "execution_count": 393,
   "metadata": {},
   "outputs": [
    {
     "data": {
      "text/plain": [
       "'Former Parks Director, Michael Tansley, is the one who planted the pot in the community garden.'"
      ]
     },
     "execution_count": 393,
     "metadata": {},
     "output_type": "execute_result"
    }
   ],
   "source": [
    "misclass_lr.loc[679, 'title']"
   ]
  },
  {
   "cell_type": "markdown",
   "metadata": {},
   "source": [
    "Predicted: r/DunderMifflin  \n",
    "Actual: r/PandR   \n",
    "\n",
    "The submission with the title _'Former Parks Director, Michael Tansley, is the one who planted the pot in the community garden.'_ was incorrectly classified as being a part of the r/DunderMifflin subreddit. This is likely because of the name Michael in the title. None of the main characters of _Parks and Recreation_ are named Michael, so this post instead got grouped with the _The Office_ subreddit."
   ]
  },
  {
   "cell_type": "markdown",
   "metadata": {},
   "source": [
    "Lastly, many of the misclassified submissions were likely due to the generality of the titles. For example, one of the titles was _'Blooper reel?'_. This title has no identifying words that would indicate it belonged to r/DunderMifflin or r/PandR. "
   ]
  },
  {
   "cell_type": "markdown",
   "metadata": {},
   "source": [
    "#### Interpreting Coefficients"
   ]
  },
  {
   "cell_type": "code",
   "execution_count": 401,
   "metadata": {},
   "outputs": [],
   "source": [
    "coefs = logreg.best_estimator_.steps[2][1].coef_ # getting coefficients\n",
    "cols = logreg.best_estimator_.steps[0][1].get_feature_names() # getting column names\n",
    "cols = pd.Series(cols) # turn into series\n",
    "coefs = coefs[0]\n",
    "feature_coefs = pd.DataFrame(coefs, index=cols) # put in data frame\n",
    "top_parks_feat = feature_coefs.sort_values(0,ascending=False).head(15) # top 15 features\n",
    "top_off_feat = feature_coefs.sort_values(0,ascending=False).tail(15) # 'bottom' 15 features"
   ]
  },
  {
   "cell_type": "markdown",
   "metadata": {},
   "source": [
    "In our model, a value of 0 indicated belonging to the r/DunderMifflin (_The Office_) subreddit, while a value of 1 indicated belonging to the r/PandR (_Parks and Recreation_) subreddit. Thus, when looking at the coefficients, words with larger, positive coefficients would be more closely associated with the _Parks and Recreation_ subreddit, while words with smaller, negative coefficients would be more closely associated with the _The Office_ subreddit. We will look at the features with the 15 largest and 15 smallest coefficients."
   ]
  },
  {
   "cell_type": "code",
   "execution_count": 441,
   "metadata": {},
   "outputs": [
    {
     "data": {
      "image/png": "[encoded data removed]",
      "text/plain": [
       "<Figure size 432x288 with 1 Axes>"
      ]
     },
     "metadata": {
      "needs_background": "light"
     },
     "output_type": "display_data"
    }
   ],
   "source": [
    "top_parks_feat.plot(kind='barh',color='darkred')\n",
    "plt.title('Coefficients for Top 15 Words Associated with r/PandR',size=15)\n",
    "plt.ylabel('Words',size=14)\n",
    "plt.xlabel('Coefficient Value',size=14)\n",
    "plt.yticks(size=12)\n",
    "plt.xticks(size=11);"
   ]
  },
  {
   "cell_type": "markdown",
   "metadata": {},
   "source": [
    "Above are the top 15 positive coefficients for the logistic regression model. When we look at the list, it makes sense. Ron, Leslie, Jerry, April, Ben, Ann, Chris, Mark, Donna, Tom, and Tammy are all main characters from _Parks and Recreation_. Pawnee is the town where _Parks and Recreation_ takes place. `PandR` is the name of the subreddit itself. Lastly, `amp` may seem odd here, but actually this makes sense as well. Often, people write the name of the show as _Parks & Rec_, using an ampersand. In HTML, the `&` sign is read as `&amp;`. So when we read in this data from reddit, it pulled in `&amp;` as opposed to `&` and our model cleaned the non-alphanumeric symbols from the word, leaving only `amp`. "
   ]
  },
  {
   "cell_type": "code",
   "execution_count": 402,
   "metadata": {},
   "outputs": [
    {
     "data": {
      "text/html": [
       "<div>\n",
       "<style scoped>\n",
       "    .dataframe tbody tr th:only-of-type {\n",
       "        vertical-align: middle;\n",
       "    }\n",
       "\n",
       "    .dataframe tbody tr th {\n",
       "        vertical-align: top;\n",
       "    }\n",
       "\n",
       "    .dataframe thead th {\n",
       "        text-align: right;\n",
       "    }\n",
       "</style>\n",
       "<table border=\"1\" class=\"dataframe\">\n",
       "  <thead>\n",
       "    <tr style=\"text-align: right;\">\n",
       "      <th></th>\n",
       "      <th>0</th>\n",
       "    </tr>\n",
       "  </thead>\n",
       "  <tbody>\n",
       "    <tr>\n",
       "      <th>ron</th>\n",
       "      <td>7.455006</td>\n",
       "    </tr>\n",
       "    <tr>\n",
       "      <th>leslie</th>\n",
       "      <td>6.825718</td>\n",
       "    </tr>\n",
       "    <tr>\n",
       "      <th>jerry</th>\n",
       "      <td>6.185149</td>\n",
       "    </tr>\n",
       "    <tr>\n",
       "      <th>april</th>\n",
       "      <td>5.992854</td>\n",
       "    </tr>\n",
       "    <tr>\n",
       "      <th>parks</th>\n",
       "      <td>5.930971</td>\n",
       "    </tr>\n",
       "    <tr>\n",
       "      <th>ben</th>\n",
       "      <td>5.597879</td>\n",
       "    </tr>\n",
       "    <tr>\n",
       "      <th>ann</th>\n",
       "      <td>5.587543</td>\n",
       "    </tr>\n",
       "    <tr>\n",
       "      <th>amp</th>\n",
       "      <td>5.076798</td>\n",
       "    </tr>\n",
       "    <tr>\n",
       "      <th>pawnee</th>\n",
       "      <td>5.028507</td>\n",
       "    </tr>\n",
       "    <tr>\n",
       "      <th>pandr</th>\n",
       "      <td>4.879771</td>\n",
       "    </tr>\n",
       "    <tr>\n",
       "      <th>chris</th>\n",
       "      <td>4.611710</td>\n",
       "    </tr>\n",
       "    <tr>\n",
       "      <th>mark</th>\n",
       "      <td>4.119129</td>\n",
       "    </tr>\n",
       "    <tr>\n",
       "      <th>donna</th>\n",
       "      <td>3.917979</td>\n",
       "    </tr>\n",
       "    <tr>\n",
       "      <th>tom</th>\n",
       "      <td>3.606681</td>\n",
       "    </tr>\n",
       "    <tr>\n",
       "      <th>tammy</th>\n",
       "      <td>3.317171</td>\n",
       "    </tr>\n",
       "  </tbody>\n",
       "</table>\n",
       "</div>"
      ],
      "text/plain": [
       "               0\n",
       "ron     7.455006\n",
       "leslie  6.825718\n",
       "jerry   6.185149\n",
       "april   5.992854\n",
       "parks   5.930971\n",
       "ben     5.597879\n",
       "ann     5.587543\n",
       "amp     5.076798\n",
       "pawnee  5.028507\n",
       "pandr   4.879771\n",
       "chris   4.611710\n",
       "mark    4.119129\n",
       "donna   3.917979\n",
       "tom     3.606681\n",
       "tammy   3.317171"
      ]
     },
     "execution_count": 402,
     "metadata": {},
     "output_type": "execute_result"
    }
   ],
   "source": [
    "top_parks_feat"
   ]
  },
  {
   "cell_type": "code",
   "execution_count": 410,
   "metadata": {},
   "outputs": [
    {
     "data": {
      "text/plain": [
       "1728.494366202519"
      ]
     },
     "execution_count": 410,
     "metadata": {},
     "output_type": "execute_result"
    }
   ],
   "source": [
    "# ron\n",
    "np.exp(7.455006)"
   ]
  },
  {
   "cell_type": "code",
   "execution_count": 411,
   "metadata": {},
   "outputs": [
    {
     "data": {
      "text/plain": [
       "152.7048540704553"
      ]
     },
     "execution_count": 411,
     "metadata": {},
     "output_type": "execute_result"
    }
   ],
   "source": [
    "# pawnee\n",
    "np.exp(5.028507)"
   ]
  },
  {
   "cell_type": "code",
   "execution_count": 412,
   "metadata": {},
   "outputs": [
    {
     "data": {
      "text/plain": [
       "27.58221000870921"
      ]
     },
     "execution_count": 412,
     "metadata": {},
     "output_type": "execute_result"
    }
   ],
   "source": [
    "# tammy\n",
    "np.exp(3.317171)"
   ]
  },
  {
   "cell_type": "markdown",
   "metadata": {},
   "source": [
    "In our model, for every 1 unit increase in the frequency of the word `ron` in the submission title, that submission was 1728.5 times as likely to belong to the r/PandR subreddit, all else held equal.\n",
    "\n",
    "In our model, for every 1 unit increase in the frequency of the word `pawnee` in the submission title, that submission was 152.7 times as likely to belong to the r/PandR subreddit, all else held equal.\n",
    "\n",
    "In our model, for every 1 unit increase in the frequency of the word `tammy` in the submission title, that submission was 27.6 times as likely to belong to the r/PandR subreddit, all else held equal.\n"
   ]
  },
  {
   "cell_type": "code",
   "execution_count": 444,
   "metadata": {},
   "outputs": [
    {
     "data": {
      "image/png": "[encoded data removed]",
      "text/plain": [
       "<Figure size 432x288 with 1 Axes>"
      ]
     },
     "metadata": {
      "needs_background": "light"
     },
     "output_type": "display_data"
    }
   ],
   "source": [
    "top_off_feat.plot(kind='barh',color='darkgreen')\n",
    "plt.title('Coefficients for Top 15 Words Associated with r/DunderMifflin',size=15)\n",
    "plt.ylabel('Words',size=14)\n",
    "plt.xlabel('Coefficient Value',size=14)\n",
    "plt.yticks(size=12)\n",
    "plt.xticks(size=11);"
   ]
  },
  {
   "cell_type": "markdown",
   "metadata": {},
   "source": [
    "Above are the 15 strongest negative coefficients for the logistic regression model. For the most part, this list makes sense. Michael, Dwight, Pam, Jim, Toby, Creed, Ryan, Angela, Erin, and Darryl are all main characters on the show _The Office_. Scranton is where _The Office_ takes place. The word `office` makes sense, as it is in the name of the show. `dundermifflin` is not only the name of the subreddit we are discussing, but it is also the name of the paper company that _The Office_ focuses on. It isn't exactly clear why `room` is an indicator of being a part of the r/DunderMifflin subreddit, but we can assume it might have something to do with _the conference room_ and the fact that Michael is always hosting strange meetings in there. This might pop up in some submissions then. Lastly, `best episode` is an interesting feature. This could obviously apply to either show/subreddit, but apparently was discussed more in the r/DunderMifflin subreddit. "
   ]
  },
  {
   "cell_type": "code",
   "execution_count": 413,
   "metadata": {},
   "outputs": [
    {
     "data": {
      "text/html": [
       "<div>\n",
       "<style scoped>\n",
       "    .dataframe tbody tr th:only-of-type {\n",
       "        vertical-align: middle;\n",
       "    }\n",
       "\n",
       "    .dataframe tbody tr th {\n",
       "        vertical-align: top;\n",
       "    }\n",
       "\n",
       "    .dataframe thead th {\n",
       "        text-align: right;\n",
       "    }\n",
       "</style>\n",
       "<table border=\"1\" class=\"dataframe\">\n",
       "  <thead>\n",
       "    <tr style=\"text-align: right;\">\n",
       "      <th></th>\n",
       "      <th>0</th>\n",
       "    </tr>\n",
       "  </thead>\n",
       "  <tbody>\n",
       "    <tr>\n",
       "      <th>best episode</th>\n",
       "      <td>-3.070436</td>\n",
       "    </tr>\n",
       "    <tr>\n",
       "      <th>darryl</th>\n",
       "      <td>-3.158133</td>\n",
       "    </tr>\n",
       "    <tr>\n",
       "      <th>dundermifflin</th>\n",
       "      <td>-3.240538</td>\n",
       "    </tr>\n",
       "    <tr>\n",
       "      <th>room</th>\n",
       "      <td>-3.349333</td>\n",
       "    </tr>\n",
       "    <tr>\n",
       "      <th>erin</th>\n",
       "      <td>-3.596560</td>\n",
       "    </tr>\n",
       "    <tr>\n",
       "      <th>scranton</th>\n",
       "      <td>-3.662051</td>\n",
       "    </tr>\n",
       "    <tr>\n",
       "      <th>angela</th>\n",
       "      <td>-3.673531</td>\n",
       "    </tr>\n",
       "    <tr>\n",
       "      <th>ryan</th>\n",
       "      <td>-3.685674</td>\n",
       "    </tr>\n",
       "    <tr>\n",
       "      <th>creed</th>\n",
       "      <td>-4.368170</td>\n",
       "    </tr>\n",
       "    <tr>\n",
       "      <th>toby</th>\n",
       "      <td>-4.639908</td>\n",
       "    </tr>\n",
       "    <tr>\n",
       "      <th>jim</th>\n",
       "      <td>-4.838117</td>\n",
       "    </tr>\n",
       "    <tr>\n",
       "      <th>pam</th>\n",
       "      <td>-5.775606</td>\n",
       "    </tr>\n",
       "    <tr>\n",
       "      <th>dwight</th>\n",
       "      <td>-6.262191</td>\n",
       "    </tr>\n",
       "    <tr>\n",
       "      <th>office</th>\n",
       "      <td>-6.937631</td>\n",
       "    </tr>\n",
       "    <tr>\n",
       "      <th>michael</th>\n",
       "      <td>-7.531737</td>\n",
       "    </tr>\n",
       "  </tbody>\n",
       "</table>\n",
       "</div>"
      ],
      "text/plain": [
       "                      0\n",
       "best episode  -3.070436\n",
       "darryl        -3.158133\n",
       "dundermifflin -3.240538\n",
       "room          -3.349333\n",
       "erin          -3.596560\n",
       "scranton      -3.662051\n",
       "angela        -3.673531\n",
       "ryan          -3.685674\n",
       "creed         -4.368170\n",
       "toby          -4.639908\n",
       "jim           -4.838117\n",
       "pam           -5.775606\n",
       "dwight        -6.262191\n",
       "office        -6.937631\n",
       "michael       -7.531737"
      ]
     },
     "execution_count": 413,
     "metadata": {},
     "output_type": "execute_result"
    }
   ],
   "source": [
    "top_off_feat"
   ]
  },
  {
   "cell_type": "code",
   "execution_count": 417,
   "metadata": {},
   "outputs": [
    {
     "data": {
      "text/plain": [
       "-99.94641932484201"
      ]
     },
     "execution_count": 417,
     "metadata": {},
     "output_type": "execute_result"
    }
   ],
   "source": [
    "# michael\n",
    "(np.exp(-7.531737) - 1) * 100"
   ]
  },
  {
   "cell_type": "code",
   "execution_count": 418,
   "metadata": {},
   "outputs": [
    {
     "data": {
      "text/plain": [
       "-98.73255864649573"
      ]
     },
     "execution_count": 418,
     "metadata": {},
     "output_type": "execute_result"
    }
   ],
   "source": [
    "# creed\n",
    "(np.exp(-4.368170) - 1) * 100"
   ]
  },
  {
   "cell_type": "code",
   "execution_count": 419,
   "metadata": {},
   "outputs": [
    {
     "data": {
      "text/plain": [
       "-95.74949760733841"
      ]
     },
     "execution_count": 419,
     "metadata": {},
     "output_type": "execute_result"
    }
   ],
   "source": [
    "# darryl\n",
    "(np.exp(-3.158133) - 1) * 100"
   ]
  },
  {
   "cell_type": "markdown",
   "metadata": {},
   "source": [
    "In our model, for every 1 unit increase in the frequency of the word `michael` in the submission title, that submission was 99.9% less likely to belong to the r/PandR subreddit, all else held equal.\n",
    "\n",
    "In our model, for every 1 unit increase in the frequency of the word `creed` in the submission title, that submission was 98.7% less likely to belong to the r/PandR subreddit, all else held equal.\n",
    "\n",
    "In our model, for every 1 unit increase in the frequency of the word `darryl` in the submission title, that submission was 95.7% less likely to belong to the r/PandR subreddit, all else held equal."
   ]
  },
  {
   "cell_type": "markdown",
   "metadata": {},
   "source": [
    "## Conclusions & Recommendations\n",
    "[top](#Table-of-Contents:)"
   ]
  },
  {
   "cell_type": "markdown",
   "metadata": {},
   "source": [
    "While our models did not perform _exceptionally well_, they were able to accurately classify almost 80% of the data. All of the models we tested performed much better than the baseline model. We found that words that reference characters and places from the TV shows were the best indicators for which subreddit a submission belongs in. Despite having some very strong indicators, there were still many misclassified posts. Because the shows are so similar, they have an overlapping fan base that often compare, discuss, and mention the two shows in both subreddits. \n",
    "\n",
    "An interesting finding was that both of our chosen models classified posts from the r/DunderMifflin subreddit at a better rate than the r/PandR subreddit. For future models, we would look more into this fact and try to find stronger indicators for the r/PandR subreddit as well as continue to narrow down the words that can cause misclassification. \n",
    "\n",
    "Finally, NBC could use this model to help classify posts from other social media platforms, not just Reddit, to classify them as relating to _The Office_ or _Parks and Recreation_. \n"
   ]
  },
  {
   "cell_type": "markdown",
   "metadata": {},
   "source": [
    "## References\n",
    "[Top](#Table-of-Contents:)  "
   ]
  },
  {
   "cell_type": "markdown",
   "metadata": {},
   "source": [
    "“The Office.” IMDb, IMDb.com, 24 Mar. 2005, www.imdb.com/title/tt0386676/.  \n",
    "\n",
    "“Parks and Recreation.” IMDb, IMDb.com, 9 Apr. 2009, www.imdb.com/title/tt1266020/.  \n",
    "\n",
    "Pushshift.io. “Pushshift Reddit API Documentation.” GitHub, 1 Oct. 2019, github.com/pushshift/api.  \n",
    "\n",
    "“r/DunderMifflin: People Person's Paper People.” Reddit, www.reddit.com/r/DunderMifflin/.  \n",
    "\n",
    "“r/PandR: Tommy's Place.” Reddit, www.reddit.com/r/PandR/.   \n",
    "\n",
    "“r/Reddit.com.” Reddit, www.reddit.com/wiki/faq#wiki_how_is_a_submission.27s_score_determined.3F."
   ]
  }
 ],
 "metadata": {
  "kernelspec": {
   "display_name": "Python 3",
   "language": "python",
   "name": "python3"
  },
  "language_info": {
   "codemirror_mode": {
    "name": "ipython",
    "version": 3
   },
   "file_extension": ".py",
   "mimetype": "text/x-python",
   "name": "python",
   "nbconvert_exporter": "python",
   "pygments_lexer": "ipython3",
   "version": "3.7.6"
  }
 },
 "nbformat": 4,
 "nbformat_minor": 4
}

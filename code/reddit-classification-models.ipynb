{
 "cells": [
  {
   "cell_type": "markdown",
   "metadata": {},
   "source": [
    "# Project 3: Web APIs & NLP\n",
    "## Reddit.com/r/workplacesitcoms \n",
    "#### By: Danielle Medellin [GitHub](https://github.com/dmedellin2)"
   ]
  },
  {
   "cell_type": "markdown",
   "metadata": {},
   "source": [
    "## Table of Contents:\n",
    "- [Problem Statement](#Problem-Statement)  \n",
    "- [Executive Summary](#Executive-Summary)  \n",
    "    - [Data Dictionary](#Data-Dictionary)\n",
    "- [Data Import](#Data-Import)  \n",
    "- [Data Cleaning](#Data-Cleaning)  \n",
    "- [Exploratory Data Analysis](#Exploratory-Data-Analysis)\n",
    "    - [Stop Words](#Looking-at-Top-100-Words-Overlap-to-Create-Stop-Words)\n",
    "- [Modeling](#Modeling)\n",
    "    - [Model Preparation](#Model-Preparation)\n",
    "    - [Baseline Model](#Baseline-Model)\n",
    "    - [Logistic Regression](#Logistic-Regression)\n",
    "    - [Multinomial Naive Bayes](#Multinomial-Naive-Bayes)\n",
    "    - [k-Nearest Neighbors](#k-Nearest-Neighbors)\n",
    "    - [Decision Tree](#Decision-Tree-(CART))\n",
    "    - [Bagging Classifier](#Bagging-Classifier-(Bootstrap-Aggregating))\n",
    "    - [Random Forest](#Random-Forest)\n",
    "    - [Support Vector Machine](#Support-Vector-Machine)\n",
    "- [Model Selection](#Model-Selection)\n",
    "- [Model Evaluation](#Model-Evaluation)\n",
    "- [Conclusions and Recommendations](#Conclusions-&-Recommendations)"
   ]
  },
  {
   "cell_type": "markdown",
   "metadata": {},
   "source": [
    "## Problem Statement \n",
    "[Top](#Table-of-Contents:)\n",
    "\n",
    "NBC is looking to see how people engage with some of their most famous sitcoms on various social media platforms. One of these platforms is Reddit. An intern at NBC was tasked with gathering as many posts as he could from subreddits for NBC sitcoms like _Will & Grace, The Office, Parks and Recreation, Brooklyn 99_, and _The Good Place_. Unfortunately, this intern was terrible at organization and dumped all of the posts he found into one general folder. NBC has been working to properly separate all of the posts into their TV show groups. Most of the posts were able to be separated, but two shows remain: _The Office_ and _Parks and Recreation_.  \n",
    "\n",
    "It is so difficult to separate the posts between these two shows because they share a lot of similarities. For starters, they share some of the same creators including Greg Daniels and Michael Schur. Both shows are considered workplace comedies as they take place at either a paper company or a government office. While both shows started and ended in different years, they had many years of overlap where both were actively on the air. Additionally, the two shows share some character names and even an actor! For example, both shows include a character named 'Andy' and Rashida Jones played a consistent role in both TV shows. Looking at crossover between character names and actor names, we get even more commonalities, for example the character 'Michael Scott' from _The Office_ and the actor Adam Scott, who plays a main role in _Parks and Recreation_.  \n",
    "\n",
    "Due to the many similarities between these two shows, NBC came to us to help them sort through the posts and separate them back into their appropriate subreddits: _The Office_ -- r/DunderMifflin, and _Parks and Recreation_ -- r/PandR.  \n",
    "\n",
    "Additionally, NBC is also interested in what content helped made it possible to differentiate between the two shows and what Reddit users are talking about the most in each of the subreddits.  \n",
    "\n",
    "We will build a classification model that will help to sort each post to its appropriate subreddit. Our model's success will be measured with an accuracy score."
   ]
  },
  {
   "cell_type": "markdown",
   "metadata": {},
   "source": [
    "## Executive Summary\n",
    "[Top](#Table-of-Contents:)\n",
    "\n",
    "Blah blah blahdhslkf\n",
    "\n",
    "### Data Dictionary\n",
    "\n",
    "\n",
    "|Feature|Type|Description|\n",
    "|:---|:---:|:---|\n",
    "|title|object|The title of the Reddit submission|\n",
    "|selftext|object|Additional text about the post (optional)|\n",
    "|subreddit|int|A 0 indicates r/DunderMiffilin, a 1 indicates r/PandR|\n",
    "|author|object|Username of submission author|\n",
    "|num_comments|int|Number of comments on that submission|\n",
    "|score|int|A comment's score is the number of upvotes minus the number of downvotes|\n",
    "|timestamp|datetime|The date of submission|\n",
    "\n",
    "\n",
    "\n",
    "\n",
    "The data: \n",
    "What is the score?   https://www.reddit.com/wiki/faq#wiki_how_is_a_submission.27s_score_determined.3F"
   ]
  },
  {
   "cell_type": "markdown",
   "metadata": {},
   "source": [
    "## Data Import\n",
    "[Top](#Table-of-Contents:)  \n",
    "In the _data_gathering_ notebook, one can view the process for using the reddit API to collect posts from the r/DunderMifflin and r/PandR subreddits over the course of the past 10 years. Both subreddits were created in January of 2011."
   ]
  },
  {
   "cell_type": "markdown",
   "metadata": {},
   "source": [
    "### Importing Libraries\n",
    "[Top](#Table-of-Contents:)"
   ]
  },
  {
   "cell_type": "code",
   "execution_count": 163,
   "metadata": {},
   "outputs": [],
   "source": [
    "import pandas as pd\n",
    "import numpy as np\n",
    "import matplotlib.pyplot as plt\n",
    "import seaborn as sns\n",
    "from sklearn.model_selection import train_test_split, GridSearchCV, cross_val_score\n",
    "from sklearn.pipeline import Pipeline\n",
    "from sklearn.linear_model import LogisticRegression\n",
    "from sklearn.feature_extraction.text import CountVectorizer, TfidfVectorizer, TfidfTransformer, ENGLISH_STOP_WORDS as stopwords\n",
    "from sklearn.naive_bayes import MultinomialNB, GaussianNB, BernoulliNB\n",
    "from sklearn.base import TransformerMixin\n",
    "from sklearn.neighbors import KNeighborsClassifier\n",
    "from sklearn.preprocessing import StandardScaler\n",
    "from sklearn.feature_selection import SelectKBest, chi2\n",
    "from nltk.stem import WordNetLemmatizer\n",
    "from nltk.tokenize import RegexpTokenizer\n",
    "import regex as re\n",
    "from nltk.stem.porter import PorterStemmer\n",
    "from nltk.corpus import stopwords\n",
    "from sklearn.ensemble import BaggingClassifier, RandomForestClassifier\n",
    "from sklearn.tree import DecisionTreeClassifier, plot_tree, export_text\n",
    "from sklearn.metrics import accuracy_score\n",
    "from sklearn.compose import make_column_transformer\n",
    "from sklearn.base import BaseEstimator, TransformerMixin \n",
    "from sklearn.svm import SVC\n",
    "\n",
    "\n",
    "#import warnings\n",
    "# warnings.filterwarnings(\"ignore\") "
   ]
  },
  {
   "cell_type": "code",
   "execution_count": 2,
   "metadata": {},
   "outputs": [],
   "source": [
    "# read in the data\n",
    "reddit = pd.read_csv('../data/reddit.csv')\n",
    "reddit.drop(columns=['created_utc','is_self'],inplace=True)"
   ]
  },
  {
   "cell_type": "code",
   "execution_count": 3,
   "metadata": {},
   "outputs": [
    {
     "data": {
      "text/html": [
       "<div>\n",
       "<style scoped>\n",
       "    .dataframe tbody tr th:only-of-type {\n",
       "        vertical-align: middle;\n",
       "    }\n",
       "\n",
       "    .dataframe tbody tr th {\n",
       "        vertical-align: top;\n",
       "    }\n",
       "\n",
       "    .dataframe thead th {\n",
       "        text-align: right;\n",
       "    }\n",
       "</style>\n",
       "<table border=\"1\" class=\"dataframe\">\n",
       "  <thead>\n",
       "    <tr style=\"text-align: right;\">\n",
       "      <th></th>\n",
       "      <th>title</th>\n",
       "      <th>selftext</th>\n",
       "      <th>subreddit</th>\n",
       "      <th>author</th>\n",
       "      <th>num_comments</th>\n",
       "      <th>score</th>\n",
       "      <th>timestamp</th>\n",
       "    </tr>\n",
       "  </thead>\n",
       "  <tbody>\n",
       "    <tr>\n",
       "      <th>0</th>\n",
       "      <td>Letter to Brendanawicz</td>\n",
       "      <td>This guy had no chance. He started out being c...</td>\n",
       "      <td>PandR</td>\n",
       "      <td>RandySwango</td>\n",
       "      <td>4</td>\n",
       "      <td>18</td>\n",
       "      <td>2019-10-17</td>\n",
       "    </tr>\n",
       "    <tr>\n",
       "      <th>1</th>\n",
       "      <td>Just started watching the show on Amazon Prime...</td>\n",
       "      <td>At least on season two as I've noticed the sub...</td>\n",
       "      <td>PandR</td>\n",
       "      <td>Oo00oOo00oOO</td>\n",
       "      <td>0</td>\n",
       "      <td>1</td>\n",
       "      <td>2019-10-17</td>\n",
       "    </tr>\n",
       "  </tbody>\n",
       "</table>\n",
       "</div>"
      ],
      "text/plain": [
       "                                               title  \\\n",
       "0                             Letter to Brendanawicz   \n",
       "1  Just started watching the show on Amazon Prime...   \n",
       "\n",
       "                                            selftext subreddit        author  \\\n",
       "0  This guy had no chance. He started out being c...     PandR   RandySwango   \n",
       "1  At least on season two as I've noticed the sub...     PandR  Oo00oOo00oOO   \n",
       "\n",
       "   num_comments  score   timestamp  \n",
       "0             4     18  2019-10-17  \n",
       "1             0      1  2019-10-17  "
      ]
     },
     "execution_count": 3,
     "metadata": {},
     "output_type": "execute_result"
    }
   ],
   "source": [
    "# check dataframe\n",
    "reddit.head(2)"
   ]
  },
  {
   "cell_type": "markdown",
   "metadata": {},
   "source": [
    "## Data Cleaning\n",
    "[Top](#Table-of-Contents:)"
   ]
  },
  {
   "cell_type": "code",
   "execution_count": 4,
   "metadata": {},
   "outputs": [
    {
     "data": {
      "text/plain": [
       "(4675, 7)"
      ]
     },
     "execution_count": 4,
     "metadata": {},
     "output_type": "execute_result"
    }
   ],
   "source": [
    "# check the shape of the data\n",
    "reddit.shape"
   ]
  },
  {
   "cell_type": "markdown",
   "metadata": {},
   "source": [
    "Our `reddit` dataframe includes 4675 reddit posts, each with 7 features."
   ]
  },
  {
   "cell_type": "code",
   "execution_count": 5,
   "metadata": {},
   "outputs": [
    {
     "data": {
      "text/plain": [
       "title             0\n",
       "selftext        570\n",
       "subreddit         0\n",
       "author            0\n",
       "num_comments      0\n",
       "score             0\n",
       "timestamp         0\n",
       "dtype: int64"
      ]
     },
     "execution_count": 5,
     "metadata": {},
     "output_type": "execute_result"
    }
   ],
   "source": [
    "# checking for null values\n",
    "reddit.isnull().sum()"
   ]
  },
  {
   "cell_type": "markdown",
   "metadata": {},
   "source": [
    "The only column with null values is the `selftext` column, which we will not be using in analysis. For text analysis, we will focus on the title column only."
   ]
  },
  {
   "cell_type": "code",
   "execution_count": 6,
   "metadata": {},
   "outputs": [
    {
     "data": {
      "text/plain": [
       "title           object\n",
       "selftext        object\n",
       "subreddit       object\n",
       "author          object\n",
       "num_comments     int64\n",
       "score            int64\n",
       "timestamp       object\n",
       "dtype: object"
      ]
     },
     "execution_count": 6,
     "metadata": {},
     "output_type": "execute_result"
    }
   ],
   "source": [
    "reddit.dtypes"
   ]
  },
  {
   "cell_type": "markdown",
   "metadata": {},
   "source": [
    "Being most of our data in the dataframe is text, most data types should be 'object'. We will convert the `timestamp` column into datetime. Currently, the `subreddit` column has the name of the subreddit the submission came from, but we will turn that into a binary classification where 0 means r/DunderMifflin (_The Office_) and 1 means r/PandR (_Parks and Recreation_)."
   ]
  },
  {
   "cell_type": "code",
   "execution_count": 7,
   "metadata": {},
   "outputs": [
    {
     "data": {
      "text/plain": [
       "DunderMifflin    2626\n",
       "PandR            2049\n",
       "Name: subreddit, dtype: int64"
      ]
     },
     "execution_count": 7,
     "metadata": {},
     "output_type": "execute_result"
    }
   ],
   "source": [
    "reddit['subreddit'].value_counts()"
   ]
  },
  {
   "cell_type": "code",
   "execution_count": 8,
   "metadata": {},
   "outputs": [],
   "source": [
    "# casting subreddit as 0,1 0 = Office, 1 = P and R\n",
    "reddit['subreddit'] = [1 if entry == 'PandR' else 0 for entry in reddit['subreddit']]"
   ]
  },
  {
   "cell_type": "code",
   "execution_count": 9,
   "metadata": {},
   "outputs": [
    {
     "data": {
      "text/plain": [
       "0    2626\n",
       "1    2049\n",
       "Name: subreddit, dtype: int64"
      ]
     },
     "execution_count": 9,
     "metadata": {},
     "output_type": "execute_result"
    }
   ],
   "source": [
    "# confirming value counts\n",
    "reddit['subreddit'].value_counts()"
   ]
  },
  {
   "cell_type": "code",
   "execution_count": 10,
   "metadata": {},
   "outputs": [],
   "source": [
    "# changing timestamp to a datetime object\n",
    "reddit['timestamp'] = pd.to_datetime(reddit['timestamp'])"
   ]
  },
  {
   "cell_type": "code",
   "execution_count": 11,
   "metadata": {},
   "outputs": [
    {
     "data": {
      "text/plain": [
       "title                   object\n",
       "selftext                object\n",
       "subreddit                int64\n",
       "author                  object\n",
       "num_comments             int64\n",
       "score                    int64\n",
       "timestamp       datetime64[ns]\n",
       "dtype: object"
      ]
     },
     "execution_count": 11,
     "metadata": {},
     "output_type": "execute_result"
    }
   ],
   "source": [
    "reddit.dtypes"
   ]
  },
  {
   "cell_type": "code",
   "execution_count": 12,
   "metadata": {},
   "outputs": [
    {
     "data": {
      "text/html": [
       "<div>\n",
       "<style scoped>\n",
       "    .dataframe tbody tr th:only-of-type {\n",
       "        vertical-align: middle;\n",
       "    }\n",
       "\n",
       "    .dataframe tbody tr th {\n",
       "        vertical-align: top;\n",
       "    }\n",
       "\n",
       "    .dataframe thead th {\n",
       "        text-align: right;\n",
       "    }\n",
       "</style>\n",
       "<table border=\"1\" class=\"dataframe\">\n",
       "  <thead>\n",
       "    <tr style=\"text-align: right;\">\n",
       "      <th></th>\n",
       "      <th>subreddit</th>\n",
       "      <th>num_comments</th>\n",
       "      <th>score</th>\n",
       "    </tr>\n",
       "  </thead>\n",
       "  <tbody>\n",
       "    <tr>\n",
       "      <th>count</th>\n",
       "      <td>4675.000000</td>\n",
       "      <td>4675.000000</td>\n",
       "      <td>4675.000000</td>\n",
       "    </tr>\n",
       "    <tr>\n",
       "      <th>mean</th>\n",
       "      <td>0.438289</td>\n",
       "      <td>7.761711</td>\n",
       "      <td>17.507594</td>\n",
       "    </tr>\n",
       "    <tr>\n",
       "      <th>std</th>\n",
       "      <td>0.496230</td>\n",
       "      <td>21.852437</td>\n",
       "      <td>338.446323</td>\n",
       "    </tr>\n",
       "    <tr>\n",
       "      <th>min</th>\n",
       "      <td>0.000000</td>\n",
       "      <td>0.000000</td>\n",
       "      <td>0.000000</td>\n",
       "    </tr>\n",
       "    <tr>\n",
       "      <th>25%</th>\n",
       "      <td>0.000000</td>\n",
       "      <td>1.000000</td>\n",
       "      <td>1.000000</td>\n",
       "    </tr>\n",
       "    <tr>\n",
       "      <th>50%</th>\n",
       "      <td>0.000000</td>\n",
       "      <td>4.000000</td>\n",
       "      <td>4.000000</td>\n",
       "    </tr>\n",
       "    <tr>\n",
       "      <th>75%</th>\n",
       "      <td>1.000000</td>\n",
       "      <td>9.000000</td>\n",
       "      <td>10.000000</td>\n",
       "    </tr>\n",
       "    <tr>\n",
       "      <th>max</th>\n",
       "      <td>1.000000</td>\n",
       "      <td>1180.000000</td>\n",
       "      <td>22726.000000</td>\n",
       "    </tr>\n",
       "  </tbody>\n",
       "</table>\n",
       "</div>"
      ],
      "text/plain": [
       "         subreddit  num_comments         score\n",
       "count  4675.000000   4675.000000   4675.000000\n",
       "mean      0.438289      7.761711     17.507594\n",
       "std       0.496230     21.852437    338.446323\n",
       "min       0.000000      0.000000      0.000000\n",
       "25%       0.000000      1.000000      1.000000\n",
       "50%       0.000000      4.000000      4.000000\n",
       "75%       1.000000      9.000000     10.000000\n",
       "max       1.000000   1180.000000  22726.000000"
      ]
     },
     "execution_count": 12,
     "metadata": {},
     "output_type": "execute_result"
    }
   ],
   "source": [
    "reddit.describe()"
   ]
  },
  {
   "cell_type": "markdown",
   "metadata": {},
   "source": [
    "Statistics for the `subreddit` column make sense as the max is 1 and the min is 0. Looking at the quartlies and maximum for the `num_comments` column, it appears that there may be outliers in the data since the maximum is so far from the 75th percentile. Similarly, for the `score` column, the range from the minimum to the 75th percentile is 0 - 10, but the jump from the 75th percentile to the maximum is much greater with a maximum of 22726. Again, this shows that there may be outliers in the data. "
   ]
  },
  {
   "cell_type": "code",
   "execution_count": 13,
   "metadata": {},
   "outputs": [
    {
     "data": {
      "text/html": [
       "<div>\n",
       "<style scoped>\n",
       "    .dataframe tbody tr th:only-of-type {\n",
       "        vertical-align: middle;\n",
       "    }\n",
       "\n",
       "    .dataframe tbody tr th {\n",
       "        vertical-align: top;\n",
       "    }\n",
       "\n",
       "    .dataframe thead th {\n",
       "        text-align: right;\n",
       "    }\n",
       "</style>\n",
       "<table border=\"1\" class=\"dataframe\">\n",
       "  <thead>\n",
       "    <tr style=\"text-align: right;\">\n",
       "      <th></th>\n",
       "      <th>subreddit</th>\n",
       "      <th>0</th>\n",
       "      <th>1</th>\n",
       "    </tr>\n",
       "  </thead>\n",
       "  <tbody>\n",
       "    <tr>\n",
       "      <th rowspan=\"8\" valign=\"top\">num_comments</th>\n",
       "      <th>count</th>\n",
       "      <td>2626.000000</td>\n",
       "      <td>2049.000000</td>\n",
       "    </tr>\n",
       "    <tr>\n",
       "      <th>mean</th>\n",
       "      <td>9.064356</td>\n",
       "      <td>6.092240</td>\n",
       "    </tr>\n",
       "    <tr>\n",
       "      <th>std</th>\n",
       "      <td>27.013042</td>\n",
       "      <td>12.230085</td>\n",
       "    </tr>\n",
       "    <tr>\n",
       "      <th>min</th>\n",
       "      <td>0.000000</td>\n",
       "      <td>0.000000</td>\n",
       "    </tr>\n",
       "    <tr>\n",
       "      <th>25%</th>\n",
       "      <td>2.000000</td>\n",
       "      <td>1.000000</td>\n",
       "    </tr>\n",
       "    <tr>\n",
       "      <th>50%</th>\n",
       "      <td>5.000000</td>\n",
       "      <td>3.000000</td>\n",
       "    </tr>\n",
       "    <tr>\n",
       "      <th>75%</th>\n",
       "      <td>10.000000</td>\n",
       "      <td>7.000000</td>\n",
       "    </tr>\n",
       "    <tr>\n",
       "      <th>max</th>\n",
       "      <td>1180.000000</td>\n",
       "      <td>229.000000</td>\n",
       "    </tr>\n",
       "    <tr>\n",
       "      <th rowspan=\"8\" valign=\"top\">score</th>\n",
       "      <th>count</th>\n",
       "      <td>2626.000000</td>\n",
       "      <td>2049.000000</td>\n",
       "    </tr>\n",
       "    <tr>\n",
       "      <th>mean</th>\n",
       "      <td>19.471059</td>\n",
       "      <td>14.991215</td>\n",
       "    </tr>\n",
       "    <tr>\n",
       "      <th>std</th>\n",
       "      <td>448.979861</td>\n",
       "      <td>55.062774</td>\n",
       "    </tr>\n",
       "    <tr>\n",
       "      <th>min</th>\n",
       "      <td>0.000000</td>\n",
       "      <td>0.000000</td>\n",
       "    </tr>\n",
       "    <tr>\n",
       "      <th>25%</th>\n",
       "      <td>1.000000</td>\n",
       "      <td>1.000000</td>\n",
       "    </tr>\n",
       "    <tr>\n",
       "      <th>50%</th>\n",
       "      <td>3.000000</td>\n",
       "      <td>4.000000</td>\n",
       "    </tr>\n",
       "    <tr>\n",
       "      <th>75%</th>\n",
       "      <td>9.000000</td>\n",
       "      <td>11.000000</td>\n",
       "    </tr>\n",
       "    <tr>\n",
       "      <th>max</th>\n",
       "      <td>22726.000000</td>\n",
       "      <td>1105.000000</td>\n",
       "    </tr>\n",
       "  </tbody>\n",
       "</table>\n",
       "</div>"
      ],
      "text/plain": [
       "subreddit                      0            1\n",
       "num_comments count   2626.000000  2049.000000\n",
       "             mean       9.064356     6.092240\n",
       "             std       27.013042    12.230085\n",
       "             min        0.000000     0.000000\n",
       "             25%        2.000000     1.000000\n",
       "             50%        5.000000     3.000000\n",
       "             75%       10.000000     7.000000\n",
       "             max     1180.000000   229.000000\n",
       "score        count   2626.000000  2049.000000\n",
       "             mean      19.471059    14.991215\n",
       "             std      448.979861    55.062774\n",
       "             min        0.000000     0.000000\n",
       "             25%        1.000000     1.000000\n",
       "             50%        3.000000     4.000000\n",
       "             75%        9.000000    11.000000\n",
       "             max    22726.000000  1105.000000"
      ]
     },
     "execution_count": 13,
     "metadata": {},
     "output_type": "execute_result"
    }
   ],
   "source": [
    "reddit.groupby('subreddit').describe().T"
   ]
  },
  {
   "cell_type": "markdown",
   "metadata": {},
   "source": [
    "Separating the data by subreddit, we can see that the r/DunderMifflin subreddit has higher maximums for both the `score` and `num_comments` columns. "
   ]
  },
  {
   "cell_type": "code",
   "execution_count": 14,
   "metadata": {},
   "outputs": [
    {
     "data": {
      "text/html": [
       "<div>\n",
       "<style scoped>\n",
       "    .dataframe tbody tr th:only-of-type {\n",
       "        vertical-align: middle;\n",
       "    }\n",
       "\n",
       "    .dataframe tbody tr th {\n",
       "        vertical-align: top;\n",
       "    }\n",
       "\n",
       "    .dataframe thead th {\n",
       "        text-align: right;\n",
       "    }\n",
       "</style>\n",
       "<table border=\"1\" class=\"dataframe\">\n",
       "  <thead>\n",
       "    <tr style=\"text-align: right;\">\n",
       "      <th></th>\n",
       "      <th>title</th>\n",
       "      <th>selftext</th>\n",
       "      <th>subreddit</th>\n",
       "      <th>author</th>\n",
       "      <th>num_comments</th>\n",
       "      <th>score</th>\n",
       "      <th>timestamp</th>\n",
       "    </tr>\n",
       "  </thead>\n",
       "  <tbody>\n",
       "    <tr>\n",
       "      <th>2373</th>\n",
       "      <td>The day they take The Office off of Netflix is...</td>\n",
       "      <td>NaN</td>\n",
       "      <td>0</td>\n",
       "      <td>RonThunderfist</td>\n",
       "      <td>1180</td>\n",
       "      <td>22726</td>\n",
       "      <td>2018-04-26</td>\n",
       "    </tr>\n",
       "    <tr>\n",
       "      <th>4195</th>\n",
       "      <td>SO9EO9 \"Dwight Christmas\" Episode Discussion</td>\n",
       "      <td>From Wikipedia: \\n\\n\"When the party planning c...</td>\n",
       "      <td>0</td>\n",
       "      <td>Prefer_an_astronaut</td>\n",
       "      <td>253</td>\n",
       "      <td>55</td>\n",
       "      <td>2012-12-06</td>\n",
       "    </tr>\n",
       "    <tr>\n",
       "      <th>4173</th>\n",
       "      <td>SO9EO8 \"The Target\" Discussion Thread</td>\n",
       "      <td>From Wikipedia:\\n\\n\"Angela goes to Dwight for ...</td>\n",
       "      <td>0</td>\n",
       "      <td>Prefer_an_astronaut</td>\n",
       "      <td>236</td>\n",
       "      <td>56</td>\n",
       "      <td>2012-11-29</td>\n",
       "    </tr>\n",
       "    <tr>\n",
       "      <th>1521</th>\n",
       "      <td>Parks And Recreation S06E08/09 \"Fluoride\" / \"T...</td>\n",
       "      <td>####Two new episodes again tonight! \\n\\n\\n---\\...</td>\n",
       "      <td>1</td>\n",
       "      <td>atticus138</td>\n",
       "      <td>229</td>\n",
       "      <td>111</td>\n",
       "      <td>2013-11-21</td>\n",
       "    </tr>\n",
       "    <tr>\n",
       "      <th>863</th>\n",
       "      <td>Has anyone found another comedy that gives the...</td>\n",
       "      <td>The only one was the office. I felt attached t...</td>\n",
       "      <td>1</td>\n",
       "      <td>andrew9360</td>\n",
       "      <td>210</td>\n",
       "      <td>185</td>\n",
       "      <td>2016-06-14</td>\n",
       "    </tr>\n",
       "  </tbody>\n",
       "</table>\n",
       "</div>"
      ],
      "text/plain": [
       "                                                  title  \\\n",
       "2373  The day they take The Office off of Netflix is...   \n",
       "4195       SO9EO9 \"Dwight Christmas\" Episode Discussion   \n",
       "4173             SO9EO8 \"The Target\" Discussion Thread    \n",
       "1521  Parks And Recreation S06E08/09 \"Fluoride\" / \"T...   \n",
       "863   Has anyone found another comedy that gives the...   \n",
       "\n",
       "                                               selftext  subreddit  \\\n",
       "2373                                                NaN          0   \n",
       "4195  From Wikipedia: \\n\\n\"When the party planning c...          0   \n",
       "4173  From Wikipedia:\\n\\n\"Angela goes to Dwight for ...          0   \n",
       "1521  ####Two new episodes again tonight! \\n\\n\\n---\\...          1   \n",
       "863   The only one was the office. I felt attached t...          1   \n",
       "\n",
       "                   author  num_comments  score  timestamp  \n",
       "2373       RonThunderfist          1180  22726 2018-04-26  \n",
       "4195  Prefer_an_astronaut           253     55 2012-12-06  \n",
       "4173  Prefer_an_astronaut           236     56 2012-11-29  \n",
       "1521           atticus138           229    111 2013-11-21  \n",
       "863            andrew9360           210    185 2016-06-14  "
      ]
     },
     "execution_count": 14,
     "metadata": {},
     "output_type": "execute_result"
    }
   ],
   "source": [
    "# sorting df by `num_comments`\n",
    "reddit.sort_values('num_comments', ascending=False).head()"
   ]
  },
  {
   "cell_type": "markdown",
   "metadata": {},
   "source": [
    "After visually exploring the data a bit, we see there is an outlier in the `num_comments` column. We will drop the row with 1180 comments."
   ]
  },
  {
   "cell_type": "code",
   "execution_count": 15,
   "metadata": {},
   "outputs": [],
   "source": [
    "reddit.drop([2373],inplace=True)"
   ]
  },
  {
   "cell_type": "code",
   "execution_count": 16,
   "metadata": {},
   "outputs": [
    {
     "data": {
      "text/html": [
       "<div>\n",
       "<style scoped>\n",
       "    .dataframe tbody tr th:only-of-type {\n",
       "        vertical-align: middle;\n",
       "    }\n",
       "\n",
       "    .dataframe tbody tr th {\n",
       "        vertical-align: top;\n",
       "    }\n",
       "\n",
       "    .dataframe thead th {\n",
       "        text-align: right;\n",
       "    }\n",
       "</style>\n",
       "<table border=\"1\" class=\"dataframe\">\n",
       "  <thead>\n",
       "    <tr style=\"text-align: right;\">\n",
       "      <th></th>\n",
       "      <th>title</th>\n",
       "      <th>selftext</th>\n",
       "      <th>subreddit</th>\n",
       "      <th>author</th>\n",
       "      <th>num_comments</th>\n",
       "      <th>score</th>\n",
       "      <th>timestamp</th>\n",
       "    </tr>\n",
       "  </thead>\n",
       "  <tbody>\n",
       "    <tr>\n",
       "      <th>3605</th>\n",
       "      <td>Found the best way to watch The Office</td>\n",
       "      <td>First make sure you have enough time to watch ...</td>\n",
       "      <td>0</td>\n",
       "      <td>Dan_Ashcroft</td>\n",
       "      <td>90</td>\n",
       "      <td>2540</td>\n",
       "      <td>2014-11-19</td>\n",
       "    </tr>\n",
       "    <tr>\n",
       "      <th>3083</th>\n",
       "      <td>It is me, Rainn Wilson (that guy from The Offi...</td>\n",
       "      <td>At 1pm (PDT) I’ll be on the @SoulPancake snapc...</td>\n",
       "      <td>0</td>\n",
       "      <td>IAmRainnWilson</td>\n",
       "      <td>105</td>\n",
       "      <td>2419</td>\n",
       "      <td>2016-05-19</td>\n",
       "    </tr>\n",
       "    <tr>\n",
       "      <th>1382</th>\n",
       "      <td>Why Jerry is without a doubt the best characte...</td>\n",
       "      <td>lol jk, you're the worst Jerry!</td>\n",
       "      <td>1</td>\n",
       "      <td>radslacker</td>\n",
       "      <td>100</td>\n",
       "      <td>1105</td>\n",
       "      <td>2014-12-30</td>\n",
       "    </tr>\n",
       "    <tr>\n",
       "      <th>769</th>\n",
       "      <td>I can never, ever read \"treat yoself\" or \"trea...</td>\n",
       "      <td>And yes, I have treated myself more.</td>\n",
       "      <td>1</td>\n",
       "      <td>geetannn</td>\n",
       "      <td>37</td>\n",
       "      <td>840</td>\n",
       "      <td>2016-12-29</td>\n",
       "    </tr>\n",
       "    <tr>\n",
       "      <th>964</th>\n",
       "      <td>Just realized that Leslie, Ann, &amp;amp; Tom all ...</td>\n",
       "      <td>I'm sure someone else has already pointed this...</td>\n",
       "      <td>1</td>\n",
       "      <td>MooCow93</td>\n",
       "      <td>51</td>\n",
       "      <td>748</td>\n",
       "      <td>2016-07-30</td>\n",
       "    </tr>\n",
       "  </tbody>\n",
       "</table>\n",
       "</div>"
      ],
      "text/plain": [
       "                                                  title  \\\n",
       "3605             Found the best way to watch The Office   \n",
       "3083  It is me, Rainn Wilson (that guy from The Offi...   \n",
       "1382  Why Jerry is without a doubt the best characte...   \n",
       "769   I can never, ever read \"treat yoself\" or \"trea...   \n",
       "964   Just realized that Leslie, Ann, &amp; Tom all ...   \n",
       "\n",
       "                                               selftext  subreddit  \\\n",
       "3605  First make sure you have enough time to watch ...          0   \n",
       "3083  At 1pm (PDT) I’ll be on the @SoulPancake snapc...          0   \n",
       "1382                    lol jk, you're the worst Jerry!          1   \n",
       "769                And yes, I have treated myself more.          1   \n",
       "964   I'm sure someone else has already pointed this...          1   \n",
       "\n",
       "              author  num_comments  score  timestamp  \n",
       "3605    Dan_Ashcroft            90   2540 2014-11-19  \n",
       "3083  IAmRainnWilson           105   2419 2016-05-19  \n",
       "1382      radslacker           100   1105 2014-12-30  \n",
       "769         geetannn            37    840 2016-12-29  \n",
       "964         MooCow93            51    748 2016-07-30  "
      ]
     },
     "execution_count": 16,
     "metadata": {},
     "output_type": "execute_result"
    }
   ],
   "source": [
    "# sorting df by `score`\n",
    "reddit.sort_values('score', ascending=False).head()"
   ]
  },
  {
   "cell_type": "markdown",
   "metadata": {},
   "source": [
    "After visually exploring the data a bit, we see there are some outliers in the `score` column. We will drop the rows with scores of more than 2000."
   ]
  },
  {
   "cell_type": "code",
   "execution_count": 17,
   "metadata": {},
   "outputs": [],
   "source": [
    "reddit = reddit[reddit['score']<2000]"
   ]
  },
  {
   "cell_type": "markdown",
   "metadata": {},
   "source": [
    "## Exploratory Data Analysis\n",
    "[Top](#Table-of-Contents:)"
   ]
  },
  {
   "cell_type": "code",
   "execution_count": 18,
   "metadata": {},
   "outputs": [],
   "source": [
    "# function for creating boxplots\n",
    "def new_boxplot(data,x,y,title,xlabel,ylabel,palette):\n",
    "    plt.figure(figsize=(7,6))\n",
    "    sns.boxplot(data=data, x=y, y=x, palette=palette)\n",
    "    plt.title(title,size=15)\n",
    "    plt.xlabel(xlabel,size=12)\n",
    "    plt.ylabel(ylabel,size=12);"
   ]
  },
  {
   "cell_type": "code",
   "execution_count": 19,
   "metadata": {},
   "outputs": [
    {
     "data": {
      "image/png": "[encoded data removed]",
      "text/plain": [
       "<Figure size 504x432 with 1 Axes>"
      ]
     },
     "metadata": {
      "needs_background": "light"
     },
     "output_type": "display_data"
    }
   ],
   "source": [
    "new_boxplot(reddit, 'num_comments','subreddit','Distribution of Number of Comments by Subreddit','Subreddit','Number of Comments','BuGn_r')"
   ]
  },
  {
   "cell_type": "markdown",
   "metadata": {},
   "source": [
    "The majority of the data for both subreddits has less than 25 comments per post. The maximum amount of comments for both subreddits reaches around 230-250. Both subreddits have similar distributions, but the quartiles and maximum for _The Office_ (0) subreddit are generally higher than those of the _Parks and Recreation_ (1) subreddit. Given the similarities in the distributions, it is unclear if the number of comments per post will be a helpful predictive feature in our model."
   ]
  },
  {
   "cell_type": "code",
   "execution_count": 20,
   "metadata": {},
   "outputs": [
    {
     "data": {
      "image/png": "[encoded data removed]",
      "text/plain": [
       "<Figure size 504x432 with 1 Axes>"
      ]
     },
     "metadata": {
      "needs_background": "light"
     },
     "output_type": "display_data"
    }
   ],
   "source": [
    "new_boxplot(reddit, 'score','subreddit','Distribution of Score by Subreddit','Subreddit','Score','BuGn_r')"
   ]
  },
  {
   "cell_type": "markdown",
   "metadata": {},
   "source": [
    "The majority of the scores of posts for both subreddits is from 0-30. Both subreddits have scores that fall outside that range. The maximum for _The Office_ (0) subreddit falling around 450, and the maximum for the _Parks and Recretaion_ (1) subreddit falling beyond 1000. There are many more posts with scores of 200 or more for the _Parks and Recreation_ subreddit as opposed to _The Office_ subreddit. Looking at the Score for each post might be a helpful predictive feature in the model. "
   ]
  },
  {
   "cell_type": "code",
   "execution_count": 21,
   "metadata": {},
   "outputs": [
    {
     "data": {
      "image/png": "[encoded data removed]",
      "text/plain": [
       "<Figure size 720x360 with 2 Axes>"
      ]
     },
     "metadata": {
      "needs_background": "light"
     },
     "output_type": "display_data"
    }
   ],
   "source": [
    "cols = [0,1] # diff subreddits \n",
    "\n",
    "fig, axes = plt.subplots(figsize = (10,5), nrows = 1, ncols = 2)\n",
    "\n",
    "fig.suptitle(\"Histograms of Post Year by Subreddit\", fontsize = 22, y = 1.04)\n",
    "\n",
    "axes = axes.flatten()\n",
    "\n",
    "color = ['lightgreen', 'orange']\n",
    "\n",
    "for i, col in enumerate(cols):\n",
    "    ax = axes[i]\n",
    "    ax.hist(reddit[reddit['subreddit']==col]['timestamp'],color=color[i],bins=11)\n",
    "    ax.set_ylabel(\"Frequency\",size=14)\n",
    "    readable_col = ['The Office','Parks and Recreation']\n",
    "    ax.set_xlabel('Submission Dates',size=14)\n",
    "    ax.set_title(f\"Distribution of Submission Dates:\\n{readable_col[i]}\",size=18)\n",
    "    \n",
    "plt.tight_layout();"
   ]
  },
  {
   "cell_type": "markdown",
   "metadata": {},
   "source": [
    "We pulled data in intervals of every 6 months for the past 10 years from both subreddits. Both of these subreddits began in January of 2011. The two subreddits have similar distributions with peaks around 2016-2017. These are years that both of the shows were already off air. Neither subreddit seems to fall below 100 posts in a specific time range. Surprisingly, the most recent time range has a similar amount of posts as the first time range. Both subreddits show a similar distribution meaning using the `timestamp` feature might not be useful for our model. "
   ]
  },
  {
   "cell_type": "code",
   "execution_count": 22,
   "metadata": {},
   "outputs": [],
   "source": [
    "# creating count vectorizer to look at frequent words\n",
    "cvec = CountVectorizer()\n",
    "X_text = reddit['title'] # grabbing just the titles "
   ]
  },
  {
   "cell_type": "code",
   "execution_count": 23,
   "metadata": {},
   "outputs": [],
   "source": [
    "# count vectorizing and put in dataframe\n",
    "X_text = cvec.fit_transform(X_text)\n",
    "X_text_df = pd.DataFrame(X_text.toarray(), columns = cvec.get_feature_names())"
   ]
  },
  {
   "cell_type": "code",
   "execution_count": 24,
   "metadata": {},
   "outputs": [],
   "source": [
    "# grabbing top 30 most common words\n",
    "top_words = X_text_df.sum().sort_values(ascending=False)[:30]"
   ]
  },
  {
   "cell_type": "code",
   "execution_count": 25,
   "metadata": {},
   "outputs": [
    {
     "data": {
      "text/plain": [
       "the        2346\n",
       "and         847\n",
       "to          838\n",
       "is          750\n",
       "of          727\n",
       "in          677\n",
       "what        496\n",
       "you         447\n",
       "season      414\n",
       "episode     412\n",
       "office      402\n",
       "for         396\n",
       "that        388\n",
       "just        370\n",
       "it          337\n",
       "on          315\n",
       "this        278\n",
       "show        274\n",
       "was         273\n",
       "anyone      271\n",
       "have        260\n",
       "michael     254\n",
       "with        231\n",
       "from        219\n",
       "my          218\n",
       "how         207\n",
       "does        205\n",
       "about       204\n",
       "do          194\n",
       "can         193\n",
       "dtype: int64"
      ]
     },
     "execution_count": 25,
     "metadata": {},
     "output_type": "execute_result"
    }
   ],
   "source": [
    "top_words"
   ]
  },
  {
   "cell_type": "code",
   "execution_count": 26,
   "metadata": {},
   "outputs": [
    {
     "data": {
      "image/png": "[encoded data removed]",
      "text/plain": [
       "<Figure size 576x576 with 1 Axes>"
      ]
     },
     "metadata": {
      "needs_background": "light"
     },
     "output_type": "display_data"
    }
   ],
   "source": [
    "plt.figure(figsize=(8,8))\n",
    "plt.barh(y=top_words.index[::-1],width=top_words[::-1],color='goldenrod')\n",
    "plt.suptitle('Most Frequently Used Words',size=19)\n",
    "plt.title('r/DunderMifflin & r/PandR',size=15)\n",
    "plt.xlabel('Frequency',size=13)\n",
    "plt.ylabel('Top Words',size=13)\n",
    "plt.yticks(size=11.5);"
   ]
  },
  {
   "cell_type": "markdown",
   "metadata": {},
   "source": [
    "Above are the top 30 most frequently used words found in both subreddits combined. Most of these words are general filler words that do not give us much meaning like `the`, `of`, and `with`. Some of them make sense given that our two subreddits are focused on television shows, like `episode`, `show`, and `season`. Only two of these words stick out to us as being possibly important words that could help determine which subreddit a post is from: `office` and `michael`. The reason for that is because the r/DunderMifflin subreddit is about the show _The Office_ and the main character of that show is Michael Scott. Given these facts it is expected that the words `office` and `michael` would show up frequently in the posts of that subreddit. "
   ]
  },
  {
   "cell_type": "code",
   "execution_count": 27,
   "metadata": {},
   "outputs": [],
   "source": [
    "# creating list of possible stop words\n",
    "poss_stopwords = list(top_words.index)"
   ]
  },
  {
   "cell_type": "code",
   "execution_count": 28,
   "metadata": {},
   "outputs": [],
   "source": [
    "poss_stopwords.remove('michael')"
   ]
  },
  {
   "cell_type": "code",
   "execution_count": 29,
   "metadata": {},
   "outputs": [],
   "source": [
    "poss_stopwords.remove('office')"
   ]
  },
  {
   "cell_type": "code",
   "execution_count": 30,
   "metadata": {},
   "outputs": [
    {
     "name": "stdout",
     "output_type": "stream",
     "text": [
      "28\n"
     ]
    },
    {
     "data": {
      "text/plain": [
       "['the',\n",
       " 'and',\n",
       " 'to',\n",
       " 'is',\n",
       " 'of',\n",
       " 'in',\n",
       " 'what',\n",
       " 'you',\n",
       " 'season',\n",
       " 'episode',\n",
       " 'for',\n",
       " 'that',\n",
       " 'just',\n",
       " 'it',\n",
       " 'on',\n",
       " 'this',\n",
       " 'show',\n",
       " 'was',\n",
       " 'anyone',\n",
       " 'have',\n",
       " 'with',\n",
       " 'from',\n",
       " 'my',\n",
       " 'how',\n",
       " 'does',\n",
       " 'about',\n",
       " 'do',\n",
       " 'can']"
      ]
     },
     "execution_count": 30,
     "metadata": {},
     "output_type": "execute_result"
    }
   ],
   "source": [
    "print(len(poss_stopwords))\n",
    "poss_stopwords"
   ]
  },
  {
   "cell_type": "markdown",
   "metadata": {},
   "source": [
    "We have taken the list of the top 30 most frequent words from above, removed `michael` and `office`, and kept it as a list of possible stop words. When creating our model later, we will want to focus on the most frequently used words. If the majority of our most frequently used words are words like `the`, `for`, and `can`, our model will not be great at classifiying the posts into the correct subreddit. Thus, we will test the use of this list as our list of stop words in our models later. "
   ]
  },
  {
   "cell_type": "code",
   "execution_count": 31,
   "metadata": {},
   "outputs": [],
   "source": [
    "# get text from just the office subreddit\n",
    "off_text = reddit[reddit['subreddit']==0]['title']"
   ]
  },
  {
   "cell_type": "code",
   "execution_count": 32,
   "metadata": {},
   "outputs": [],
   "source": [
    "# count vectorize office text\n",
    "cvec = CountVectorizer()\n",
    "off_text = cvec.fit_transform(off_text)\n",
    "off_text_df = pd.DataFrame(off_text.toarray(), columns = cvec.get_feature_names())"
   ]
  },
  {
   "cell_type": "code",
   "execution_count": 33,
   "metadata": {},
   "outputs": [],
   "source": [
    "# get text from just parks and rec subreddit\n",
    "parks_text = reddit[reddit['subreddit']==1]['title']"
   ]
  },
  {
   "cell_type": "code",
   "execution_count": 34,
   "metadata": {},
   "outputs": [],
   "source": [
    "# count vectorize parks and rec subreddit \n",
    "cvec = CountVectorizer()\n",
    "parks_text = cvec.fit_transform(parks_text)\n",
    "parks_text_df = pd.DataFrame(parks_text.toarray(), columns = cvec.get_feature_names())"
   ]
  },
  {
   "cell_type": "code",
   "execution_count": 35,
   "metadata": {},
   "outputs": [],
   "source": [
    "# top 30 most frequent words in office subreddit\n",
    "off_top = off_text_df.sum().sort_values(ascending=False)[:30]"
   ]
  },
  {
   "cell_type": "code",
   "execution_count": 36,
   "metadata": {},
   "outputs": [],
   "source": [
    "# top 30 most frequent words in parks and rec subreddit\n",
    "parks_top = parks_text_df.sum().sort_values(ascending=False)[:30]"
   ]
  },
  {
   "cell_type": "code",
   "execution_count": 37,
   "metadata": {},
   "outputs": [
    {
     "name": "stdout",
     "output_type": "stream",
     "text": [
      "21\n"
     ]
    },
    {
     "data": {
      "text/plain": [
       "{'and',\n",
       " 'anyone',\n",
       " 'episode',\n",
       " 'for',\n",
       " 'have',\n",
       " 'in',\n",
       " 'is',\n",
       " 'it',\n",
       " 'just',\n",
       " 'of',\n",
       " 'on',\n",
       " 'season',\n",
       " 'show',\n",
       " 'that',\n",
       " 'the',\n",
       " 'this',\n",
       " 'to',\n",
       " 'was',\n",
       " 'what',\n",
       " 'with',\n",
       " 'you'}"
      ]
     },
     "execution_count": 37,
     "metadata": {},
     "output_type": "execute_result"
    }
   ],
   "source": [
    "# looking at the overlap in the top 30 of each individual subreddit \n",
    "overlap = set(off_top.index).intersection(set(parks_top.index))\n",
    "print(len(overlap))\n",
    "overlap"
   ]
  },
  {
   "cell_type": "markdown",
   "metadata": {},
   "source": [
    "We looked at the top 30 most frequently occurring words in the titles of submissions from each subreddits individually. After looking at the intersection of those two sets of words, it was found that 21 words were shared by both subreddits. Most of these words are 'filler' words like `for`, `just`, `and`, `that`, and `the` which don't give us much information. Words that make sense for these subreddits are `show`, `epsiode` and `season`, but because both subreddits are focused on television shows, they don't help to distinguish between the two.  \n"
   ]
  },
  {
   "cell_type": "code",
   "execution_count": 38,
   "metadata": {},
   "outputs": [
    {
     "data": {
      "text/plain": [
       "{'can', 'does', 'how', 'leslie', 'me', 'my', 'parks', 'rec', 'ron'}"
      ]
     },
     "execution_count": 38,
     "metadata": {},
     "output_type": "execute_result"
    }
   ],
   "source": [
    "# finding words that are only in the parks top 30\n",
    "parks_only = set(parks_top.index) - set(off_top.index)\n",
    "parks_only"
   ]
  },
  {
   "cell_type": "code",
   "execution_count": 39,
   "metadata": {},
   "outputs": [
    {
     "data": {
      "text/plain": [
       "{'about', 'do', 'dwight', 'from', 'jim', 'michael', 'office', 'pam', 'your'}"
      ]
     },
     "execution_count": 39,
     "metadata": {},
     "output_type": "execute_result"
    }
   ],
   "source": [
    "# finding words that are only in the office top 30\n",
    "off_only = set(off_top.index) - set(parks_top.index)\n",
    "off_only"
   ]
  },
  {
   "cell_type": "code",
   "execution_count": 40,
   "metadata": {},
   "outputs": [],
   "source": [
    "# getting frequency for just the unique office words\n",
    "off_top_words = off_text_df[off_only].sum().sort_values(ascending=False)[:30]"
   ]
  },
  {
   "cell_type": "code",
   "execution_count": 41,
   "metadata": {},
   "outputs": [],
   "source": [
    "# # getting frequency for just the unique parks and rec words\n",
    "parks_top_words = parks_text_df[parks_only].sum().sort_values(ascending=False)[:30]"
   ]
  },
  {
   "cell_type": "code",
   "execution_count": 42,
   "metadata": {},
   "outputs": [
    {
     "data": {
      "image/png": "[encoded data removed]",
      "text/plain": [
       "<Figure size 864x432 with 2 Axes>"
      ]
     },
     "metadata": {
      "needs_background": "light"
     },
     "output_type": "display_data"
    }
   ],
   "source": [
    "fig, (ax1, ax2) = plt.subplots(1,2, figsize = (12,6), sharex=True) # unpack graphs\n",
    "# add title to entire figure\n",
    "fig.suptitle(\"Unique Words from Most Common Top 30\", fontsize = 19, y = 1.03) \n",
    "\n",
    "ax1.barh(y=off_top_words.index,width=off_top_words,color='salmon') \n",
    "ax2.barh(y=parks_top_words.index,width=parks_top_words,color='skyblue')\n",
    "ax1.set_title('Top Words from The Office Subreddit\\nr/DunderMifflin',size=14)\n",
    "ax2.set_title('Top Words from Parks and Recreation Subreddit\\nr/PandR',size=14)\n",
    "ax1.set_xlabel('Frequency',size=12)\n",
    "ax2.set_xlabel('Frequency',size=12)\n",
    "ax1.set_ylabel('Unique Words in Top 30', size=11)\n",
    "ax2.set_ylabel('Unique Words in Top 30', size=11);"
   ]
  },
  {
   "cell_type": "markdown",
   "metadata": {},
   "source": [
    "We looked at the top 30 most frequently occurring words in the titles of both subreddits. After looking at the intersection of those two sets of words, it was found that 21 of those words were shared by both subreddits. \n",
    "\n",
    "We separated out the **unique** words for each subreddit's top 30 and plotted their frequencies above. Still there are some words that don't give us much information such as `your`, `do`, `from`, `my`, `can`, and `how`, but we also notice some other words that stand out. For the _The Office_ subreddit some of the top words include `office`, `michael`, `pam`, `jim`, and `dwight`. While `office` may seem like a mundane word, it is very important for the r/DunderMifflin subreddit because it is the name of the show that the subreddit is focused on, _The Office_! Additionally, four of the main characters of the show are Jim, Michael, Pam, and Dwight, so these are definitely bound to pop up in r/DunderMifflin posts more often than the other subreddit.  \n",
    "\n",
    "Similarly, for r/PandR, which focuses on the show _Parks and Recreation_ (often abbreviated as _Parks and Rec_), two of the most popular words are `parks` and `rec`. The second and third most popular unique words are `ron` and `leslie`, which are two main characters of the TV show. It makes sense that these two words would show up often in posts from r/PandR. "
   ]
  },
  {
   "cell_type": "markdown",
   "metadata": {},
   "source": [
    "### Looking at Top 100 Words Overlap to Create Stop Words\n",
    "[Top](#Table-of-Contents:)"
   ]
  },
  {
   "cell_type": "code",
   "execution_count": 43,
   "metadata": {},
   "outputs": [],
   "source": [
    "# top 100 words in office subreddit\n",
    "off_top_100 = off_text_df.sum().sort_values(ascending=False)[:100]"
   ]
  },
  {
   "cell_type": "code",
   "execution_count": 44,
   "metadata": {},
   "outputs": [],
   "source": [
    "# top 100 words in parks and rec subreddit\n",
    "parks_top_100 = parks_text_df.sum().sort_values(ascending=False)[:100]"
   ]
  },
  {
   "cell_type": "code",
   "execution_count": 45,
   "metadata": {},
   "outputs": [],
   "source": [
    "# overlap of top 100 from both\n",
    "overlap_100 = list(set(parks_top_100.index).intersection(set(off_top_100.index)))"
   ]
  },
  {
   "cell_type": "code",
   "execution_count": 46,
   "metadata": {},
   "outputs": [
    {
     "data": {
      "text/plain": [
       "['they',\n",
       " 'question',\n",
       " 'get',\n",
       " 'when',\n",
       " 'in',\n",
       " 'watching',\n",
       " 'have',\n",
       " 'why',\n",
       " 'it',\n",
       " 'the',\n",
       " 'on',\n",
       " 'help',\n",
       " 'think',\n",
       " 'season',\n",
       " 'andy',\n",
       " 'how',\n",
       " 'an',\n",
       " 'know',\n",
       " 'about',\n",
       " 'not',\n",
       " 'favorite',\n",
       " 'be',\n",
       " 'with',\n",
       " 'first',\n",
       " 'did',\n",
       " 'like',\n",
       " 'really',\n",
       " 'episodes',\n",
       " 'this',\n",
       " 'show',\n",
       " 'series',\n",
       " 'was',\n",
       " 'there',\n",
       " 'me',\n",
       " 'at',\n",
       " 'my',\n",
       " 'watch',\n",
       " 'something',\n",
       " 'character',\n",
       " 'finished',\n",
       " 'that',\n",
       " 'from',\n",
       " 'to',\n",
       " 'do',\n",
       " 'for',\n",
       " 'who',\n",
       " 'out',\n",
       " 'anyone',\n",
       " 'of',\n",
       " 'and',\n",
       " 'are',\n",
       " 'where',\n",
       " 'as',\n",
       " 'after',\n",
       " 'one',\n",
       " 'best',\n",
       " 'or',\n",
       " 'can',\n",
       " 'does',\n",
       " 'but',\n",
       " 'up',\n",
       " 'time',\n",
       " 'you',\n",
       " 'else',\n",
       " 'would',\n",
       " 'is',\n",
       " 'office',\n",
       " 'what',\n",
       " 'we',\n",
       " 'episode',\n",
       " 'if',\n",
       " 'your',\n",
       " 'just',\n",
       " 'he',\n",
       " 'all',\n",
       " 'has',\n",
       " 'so']"
      ]
     },
     "execution_count": 46,
     "metadata": {},
     "output_type": "execute_result"
    }
   ],
   "source": [
    "# how many in overlap?\n",
    "len(overlap_100)\n",
    "overlap_100"
   ]
  },
  {
   "cell_type": "markdown",
   "metadata": {},
   "source": [
    "We looked at the top 100 words for both individual subreddits and then looked at just the overlap between the two lists of top words. There were 77 words in both lists. After looking through this list, there are some words that can be helpful in determining which subreddit the post belongs to. The word `andy` is interesting because there is a character named Andy in both _The Office_ and _Parks and Recreation_. We will keep this word in our model because it's association with other words could help the model classify the posts. The word `office` comes up again and, like we stated above, this word will be kept because it is in the title of one of the shows we are discussing. The rest of the words have no true association with either one of the shows so they will be included in our stop words list."
   ]
  },
  {
   "cell_type": "code",
   "execution_count": 47,
   "metadata": {},
   "outputs": [],
   "source": [
    "poss_stopwords = overlap_100"
   ]
  },
  {
   "cell_type": "code",
   "execution_count": 48,
   "metadata": {},
   "outputs": [],
   "source": [
    "poss_stopwords.remove('office')"
   ]
  },
  {
   "cell_type": "code",
   "execution_count": 49,
   "metadata": {},
   "outputs": [],
   "source": [
    "poss_stopwords.remove('andy')"
   ]
  },
  {
   "cell_type": "markdown",
   "metadata": {},
   "source": [
    "We have created a list of stop words from this overlap. Below in our models, we will test this list of stop words to see if removing these words from the model helps to classify our posts correctly. First, we will investigate more thoroughly to add more stop words to the list."
   ]
  },
  {
   "cell_type": "code",
   "execution_count": 97,
   "metadata": {},
   "outputs": [],
   "source": [
    "# creating count vectorizer to look at frequent words while using stopwords\n",
    "cvec_stop = CountVectorizer(stop_words='english')\n",
    "X_text_stop = reddit['title'] # grabbing just the titles "
   ]
  },
  {
   "cell_type": "code",
   "execution_count": 99,
   "metadata": {},
   "outputs": [],
   "source": [
    "# count vectorizing and put in dataframe\n",
    "X_text_stop = cvec_stop.fit_transform(X_text_stop)\n",
    "X_text_df_stop = pd.DataFrame(X_text_stop.toarray(), columns = cvec_stop.get_feature_names())"
   ]
  },
  {
   "cell_type": "code",
   "execution_count": 124,
   "metadata": {},
   "outputs": [
    {
     "data": {
      "text/plain": [
       "seasons       57\n",
       "song          55\n",
       "tom           55\n",
       "don           55\n",
       "quote         54\n",
       "jerry         54\n",
       "little        51\n",
       "want          51\n",
       "creed         50\n",
       "people        50\n",
       "characters    50\n",
       "say           50\n",
       "feel          50\n",
       "guys          49\n",
       "discussion    49\n",
       "good          48\n",
       "day           48\n",
       "ann           48\n",
       "scranton      48\n",
       "ryan          47\n",
       "got           45\n",
       "pawnee        45\n",
       "started       43\n",
       "end           43\n",
       "happened      42\n",
       "life          42\n",
       "said          40\n",
       "anybody       40\n",
       "favourite     39\n",
       "going         39\n",
       "thing         39\n",
       "didn          39\n",
       "actually      39\n",
       "recreation    38\n",
       "night         38\n",
       "pandr         38\n",
       "thread        36\n",
       "clip          36\n",
       "mark          36\n",
       "real          36\n",
       "better        35\n",
       "angela        35\n",
       "dunder        35\n",
       "video         35\n",
       "christmas     34\n",
       "thought       34\n",
       "moments       34\n",
       "request       33\n",
       "way           33\n",
       "post          33\n",
       "dtype: int64"
      ]
     },
     "execution_count": 124,
     "metadata": {},
     "output_type": "execute_result"
    }
   ],
   "source": [
    "top_words_stop_100 = X_text_df_stop.sum().sort_values(ascending=False)[50:100]\n",
    "top_words_stop_100"
   ]
  },
  {
   "cell_type": "code",
   "execution_count": 125,
   "metadata": {},
   "outputs": [
    {
     "data": {
      "text/plain": [
       "{'actually',\n",
       " 'angela',\n",
       " 'ann',\n",
       " 'anybody',\n",
       " 'better',\n",
       " 'characters',\n",
       " 'christmas',\n",
       " 'clip',\n",
       " 'creed',\n",
       " 'day',\n",
       " 'didn',\n",
       " 'discussion',\n",
       " 'don',\n",
       " 'dunder',\n",
       " 'end',\n",
       " 'favourite',\n",
       " 'feel',\n",
       " 'going',\n",
       " 'good',\n",
       " 'got',\n",
       " 'guys',\n",
       " 'happened',\n",
       " 'jerry',\n",
       " 'life',\n",
       " 'little',\n",
       " 'mark',\n",
       " 'moments',\n",
       " 'night',\n",
       " 'pandr',\n",
       " 'pawnee',\n",
       " 'people',\n",
       " 'post',\n",
       " 'quote',\n",
       " 'real',\n",
       " 'recreation',\n",
       " 'request',\n",
       " 'ryan',\n",
       " 'said',\n",
       " 'say',\n",
       " 'scranton',\n",
       " 'seasons',\n",
       " 'song',\n",
       " 'started',\n",
       " 'thing',\n",
       " 'thought',\n",
       " 'thread',\n",
       " 'tom',\n",
       " 'video',\n",
       " 'want',\n",
       " 'way'}"
      ]
     },
     "execution_count": 125,
     "metadata": {},
     "output_type": "execute_result"
    }
   ],
   "source": [
    "set(top_words_stop_100.index) - set(poss_stopwords)"
   ]
  },
  {
   "cell_type": "code",
   "execution_count": 126,
   "metadata": {},
   "outputs": [],
   "source": [
    "new_stops = ['amp','finale','looking','love','make','moment','need','netflix','new','noticed','scene','spoilers','ve','watched','actually','anybody','better','characters','clip','didn','discussion','don','end','favourite','feel','going','good','got','guys','happened','moments','post','quote','real','request','said','say','seasons','started','thing','thought','thread','video','want','way']"
   ]
  },
  {
   "cell_type": "code",
   "execution_count": 127,
   "metadata": {},
   "outputs": [
    {
     "data": {
      "text/plain": [
       "45"
      ]
     },
     "execution_count": 127,
     "metadata": {},
     "output_type": "execute_result"
    }
   ],
   "source": [
    "len(new_stops)"
   ]
  },
  {
   "cell_type": "markdown",
   "metadata": {},
   "source": [
    "We ran a CountVectorizer with the 'english' stop words library used by `sklearn`. We then looked at the new top 100 words in both subreddits combined. We combed through these words and took out any words that didn't seem to have an association with either show. Many of the words that remained were names of characters or locations where the shows take place. Some additional words that were kept despite seeming random were `christmas`, `little`, and `day`. The reasons for these are because in _The Office_ they have a lot of Christmas episodes that are pretty notorious in the fandom. _The Office_ also has an entire episode focused on 'Pretzel Day', so this might be discussed in the r/DunderMifflin subreddit. Lastly, `little` was kept because there is a character in _Parks and Recreation_ who is a small horse and his name is Little Sebastian. Any mention of Little Sebastian in a submission is likely to be a part of the r/PandR subreddit. "
   ]
  },
  {
   "cell_type": "code",
   "execution_count": 128,
   "metadata": {},
   "outputs": [
    {
     "data": {
      "text/plain": [
       "120"
      ]
     },
     "execution_count": 128,
     "metadata": {},
     "output_type": "execute_result"
    }
   ],
   "source": [
    "# combining two stop words lists \n",
    "cust_stopwords = poss_stopwords + new_stops\n",
    "len(cust_stopwords)"
   ]
  },
  {
   "cell_type": "markdown",
   "metadata": {},
   "source": [
    "This is our final list of stop words that will be used in the models. "
   ]
  },
  {
   "cell_type": "markdown",
   "metadata": {},
   "source": [
    "## Modeling\n",
    "[Top](#Table-of-Contents:)"
   ]
  },
  {
   "cell_type": "markdown",
   "metadata": {},
   "source": [
    "For our models, the features we will be using are the text (words) of the titles of the submissions from the subreddits. We will use a Count Vectorizer or Tfidf Vectorizer to count the frequencies of these words in each submission title. We tested out using other features such as `score` and `num_comments`, but those models were not as successful at classifying the data as the models below with strictly text data.  "
   ]
  },
  {
   "cell_type": "markdown",
   "metadata": {},
   "source": [
    "### Model Preparation"
   ]
  },
  {
   "cell_type": "code",
   "execution_count": 129,
   "metadata": {},
   "outputs": [],
   "source": [
    "# setting X & y, train test split\n",
    "X = reddit['title']\n",
    "y = reddit['subreddit']\n",
    "\n",
    "X_train, X_test, y_train, y_test = train_test_split(X, y, random_state = 42, stratify = y)"
   ]
  },
  {
   "cell_type": "markdown",
   "metadata": {},
   "source": [
    "We tested out using `PorterStemmer()` on our text data in an attempt to find more matches of words within the data. Our models using the stemmer were not as successful at classifying the data as the models below that did not use the stemmer."
   ]
  },
  {
   "cell_type": "markdown",
   "metadata": {},
   "source": [
    "### Baseline Model\n",
    "[Top](#Table-of-Contents:)"
   ]
  },
  {
   "cell_type": "code",
   "execution_count": 154,
   "metadata": {},
   "outputs": [
    {
     "data": {
      "text/plain": [
       "0    0.561358\n",
       "1    0.438642\n",
       "Name: subreddit, dtype: float64"
      ]
     },
     "execution_count": 154,
     "metadata": {},
     "output_type": "execute_result"
    }
   ],
   "source": [
    "# find proportion of y train\n",
    "y_train.value_counts(normalize=True)"
   ]
  },
  {
   "cell_type": "code",
   "execution_count": 130,
   "metadata": {},
   "outputs": [
    {
     "data": {
      "text/plain": [
       "0    0.561644\n",
       "1    0.438356\n",
       "Name: subreddit, dtype: float64"
      ]
     },
     "execution_count": 130,
     "metadata": {},
     "output_type": "execute_result"
    }
   ],
   "source": [
    "# find proportion of y test\n",
    "y_test.value_counts(normalize=True)"
   ]
  },
  {
   "cell_type": "markdown",
   "metadata": {},
   "source": [
    "Our baseline model would be one that predicts the majority class for every entry. If we did this, the model would perform with 56.2% accuracy, correctly predicting all of the entries from _The Office_ subreddit (r/DunderMifflin). We are looking to make a model that performs better than the baseline model."
   ]
  },
  {
   "cell_type": "markdown",
   "metadata": {},
   "source": [
    "### Logistic Regression\n",
    "[Top](#Table-of-Contents:)"
   ]
  },
  {
   "cell_type": "code",
   "execution_count": 131,
   "metadata": {},
   "outputs": [],
   "source": [
    "# define pipeline\n",
    "pipe = Pipeline([\n",
    "    ('vec', CountVectorizer()),\n",
    "    ('tfidf', TfidfTransformer()),\n",
    "    ('lr', LogisticRegression(C=5))])\n",
    "\n",
    "# construct paramters\n",
    "params = {'vec__max_features':[800, 1000],\n",
    "         'vec__ngram_range'  :[(1,1),(1,2)],\n",
    "         'vec__min_df'       :[1,2,3],\n",
    "         'vec__max_df'       :[.90],\n",
    "          'vec__stop_words'  :[None, 'english', cust_stopwords],\n",
    "          'tfidf__use_idf'   :[True,False]}\n",
    "\n",
    " # Perform Grid Search\n",
    "gs = GridSearchCV(pipe, \n",
    "                 param_grid=params,\n",
    "                 cv = 5,\n",
    "                 scoring = 'accuracy')\n",
    "logreg = gs.fit(X_train, y_train)"
   ]
  },
  {
   "cell_type": "code",
   "execution_count": 139,
   "metadata": {},
   "outputs": [
    {
     "data": {
      "text/plain": [
       "{'tfidf__use_idf': True,\n",
       " 'vec__max_df': 0.9,\n",
       " 'vec__max_features': 1000,\n",
       " 'vec__min_df': 1,\n",
       " 'vec__ngram_range': (1, 2),\n",
       " 'vec__stop_words': 'english'}"
      ]
     },
     "execution_count": 139,
     "metadata": {},
     "output_type": "execute_result"
    }
   ],
   "source": [
    "logreg_train = logreg.score(X_train, y_train)\n",
    "logreg_test = logreg.score(X_test, y_test)\n",
    "logreg_cv = cross_val_score(logreg.best_estimator_, X, y).mean()\n",
    "logreg.best_params_"
   ]
  },
  {
   "cell_type": "code",
   "execution_count": 136,
   "metadata": {},
   "outputs": [
    {
     "name": "stdout",
     "output_type": "stream",
     "text": [
      "Logistic Regression:\n",
      "Train Accuracy: 0.896689497716895\n",
      "Test Accuracy: 0.7988013698630136\n",
      "Cross Val Accuracy: 0.7945259879306988\n",
      "Difference (Train - Test): 0.09788812785388135\n"
     ]
    }
   ],
   "source": [
    "print(f'Logistic Regression:')\n",
    "print(f'Train Accuracy: {logreg_train}')\n",
    "print(f'Test Accuracy: {logreg_test}')\n",
    "print(f'Cross Val Accuracy: {logreg_cv}')\n",
    "print(f'Difference (Train - Test): {logreg_train - logreg_test}')"
   ]
  },
  {
   "cell_type": "markdown",
   "metadata": {},
   "source": [
    "Our logistic regression model is performing with a train accuracy score of 89.7% and a test accuracy score of 79.9%. The higher train score indicates that there is some overfitting in the model, but the model is still performing decently on unseen data. After a lot of exploration, it was found that the logistic regression model works best when using TF-IDF and using the given 'english' stop words list. "
   ]
  },
  {
   "cell_type": "code",
   "execution_count": 58,
   "metadata": {},
   "outputs": [
    {
     "ename": "NameError",
     "evalue": "name 'results' is not defined",
     "output_type": "error",
     "traceback": [
      "\u001b[0;31m---------------------------------------------------------------------------\u001b[0m",
      "\u001b[0;31mNameError\u001b[0m                                 Traceback (most recent call last)",
      "\u001b[0;32m<ipython-input-58-f0cdb8f77089>\u001b[0m in \u001b[0;36m<module>\u001b[0;34m\u001b[0m\n\u001b[0;32m----> 1\u001b[0;31m \u001b[0mresults\u001b[0m\u001b[0;34m.\u001b[0m\u001b[0mbest_estimator_\u001b[0m\u001b[0;34m.\u001b[0m\u001b[0msteps\u001b[0m\u001b[0;34m[\u001b[0m\u001b[0;36m2\u001b[0m\u001b[0;34m]\u001b[0m\u001b[0;34m[\u001b[0m\u001b[0;36m1\u001b[0m\u001b[0;34m]\u001b[0m\u001b[0;34m\u001b[0m\u001b[0;34m\u001b[0m\u001b[0m\n\u001b[0m",
      "\u001b[0;31mNameError\u001b[0m: name 'results' is not defined"
     ]
    }
   ],
   "source": [
    "results.best_estimator_.steps[2][1]"
   ]
  },
  {
   "cell_type": "code",
   "execution_count": 353,
   "metadata": {},
   "outputs": [],
   "source": [
    "coefs = results.best_estimator_.steps[2][1].coef_"
   ]
  },
  {
   "cell_type": "code",
   "execution_count": 354,
   "metadata": {},
   "outputs": [],
   "source": [
    "cols = results.best_estimator_.steps[0][1].get_feature_names()"
   ]
  },
  {
   "cell_type": "code",
   "execution_count": 347,
   "metadata": {},
   "outputs": [],
   "source": [
    "#results.best_estimator_.steps[0][1].vocabulary_.keys()"
   ]
  },
  {
   "cell_type": "code",
   "execution_count": 329,
   "metadata": {},
   "outputs": [],
   "source": []
  },
  {
   "cell_type": "code",
   "execution_count": 348,
   "metadata": {},
   "outputs": [],
   "source": [
    "cols = pd.Series(cols)"
   ]
  },
  {
   "cell_type": "code",
   "execution_count": 349,
   "metadata": {},
   "outputs": [
    {
     "data": {
      "text/plain": [
       "(500,)"
      ]
     },
     "execution_count": 349,
     "metadata": {},
     "output_type": "execute_result"
    }
   ],
   "source": [
    "cols.shape"
   ]
  },
  {
   "cell_type": "code",
   "execution_count": 341,
   "metadata": {},
   "outputs": [],
   "source": [
    "#coefs[0]"
   ]
  },
  {
   "cell_type": "code",
   "execution_count": 357,
   "metadata": {},
   "outputs": [],
   "source": [
    "coefs = coefs[0]"
   ]
  },
  {
   "cell_type": "code",
   "execution_count": null,
   "metadata": {},
   "outputs": [],
   "source": []
  },
  {
   "cell_type": "code",
   "execution_count": 358,
   "metadata": {},
   "outputs": [],
   "source": [
    "feature_coefs = pd.DataFrame(coefs, index=cols)"
   ]
  },
  {
   "cell_type": "code",
   "execution_count": 361,
   "metadata": {},
   "outputs": [
    {
     "data": {
      "text/html": [
       "<div>\n",
       "<style scoped>\n",
       "    .dataframe tbody tr th:only-of-type {\n",
       "        vertical-align: middle;\n",
       "    }\n",
       "\n",
       "    .dataframe tbody tr th {\n",
       "        vertical-align: top;\n",
       "    }\n",
       "\n",
       "    .dataframe thead th {\n",
       "        text-align: right;\n",
       "    }\n",
       "</style>\n",
       "<table border=\"1\" class=\"dataframe\">\n",
       "  <thead>\n",
       "    <tr style=\"text-align: right;\">\n",
       "      <th></th>\n",
       "      <th>0</th>\n",
       "    </tr>\n",
       "  </thead>\n",
       "  <tbody>\n",
       "    <tr>\n",
       "      <th>ron</th>\n",
       "      <td>13.900652</td>\n",
       "    </tr>\n",
       "    <tr>\n",
       "      <th>april</th>\n",
       "      <td>13.191169</td>\n",
       "    </tr>\n",
       "    <tr>\n",
       "      <th>leslie</th>\n",
       "      <td>11.179019</td>\n",
       "    </tr>\n",
       "    <tr>\n",
       "      <th>ben</th>\n",
       "      <td>11.002233</td>\n",
       "    </tr>\n",
       "    <tr>\n",
       "      <th>ann</th>\n",
       "      <td>10.757901</td>\n",
       "    </tr>\n",
       "    <tr>\n",
       "      <th>jerry</th>\n",
       "      <td>10.405358</td>\n",
       "    </tr>\n",
       "    <tr>\n",
       "      <th>pawnee</th>\n",
       "      <td>9.049651</td>\n",
       "    </tr>\n",
       "    <tr>\n",
       "      <th>parks</th>\n",
       "      <td>8.708102</td>\n",
       "    </tr>\n",
       "    <tr>\n",
       "      <th>pandr</th>\n",
       "      <td>8.394421</td>\n",
       "    </tr>\n",
       "    <tr>\n",
       "      <th>karate</th>\n",
       "      <td>6.768944</td>\n",
       "    </tr>\n",
       "    <tr>\n",
       "      <th>amp</th>\n",
       "      <td>6.714690</td>\n",
       "    </tr>\n",
       "    <tr>\n",
       "      <th>ralphio</th>\n",
       "      <td>6.482324</td>\n",
       "    </tr>\n",
       "    <tr>\n",
       "      <th>chris</th>\n",
       "      <td>6.370068</td>\n",
       "    </tr>\n",
       "    <tr>\n",
       "      <th>donna</th>\n",
       "      <td>6.261672</td>\n",
       "    </tr>\n",
       "    <tr>\n",
       "      <th>tammy</th>\n",
       "      <td>5.926513</td>\n",
       "    </tr>\n",
       "  </tbody>\n",
       "</table>\n",
       "</div>"
      ],
      "text/plain": [
       "                 0\n",
       "ron      13.900652\n",
       "april    13.191169\n",
       "leslie   11.179019\n",
       "ben      11.002233\n",
       "ann      10.757901\n",
       "jerry    10.405358\n",
       "pawnee    9.049651\n",
       "parks     8.708102\n",
       "pandr     8.394421\n",
       "karate    6.768944\n",
       "amp       6.714690\n",
       "ralphio   6.482324\n",
       "chris     6.370068\n",
       "donna     6.261672\n",
       "tammy     5.926513"
      ]
     },
     "execution_count": 361,
     "metadata": {},
     "output_type": "execute_result"
    }
   ],
   "source": [
    "feature_coefs.sort_values(0,ascending=False).head(15)"
   ]
  },
  {
   "cell_type": "markdown",
   "metadata": {},
   "source": [
    "### Multinomial Naive Bayes\n",
    "[Top](#Table-of-Contents:)"
   ]
  },
  {
   "cell_type": "code",
   "execution_count": 59,
   "metadata": {},
   "outputs": [],
   "source": [
    "# define pipeline\n",
    "pipe = Pipeline([\n",
    "    ('vec', CountVectorizer(max_df=.9)),\n",
    "    ('tfidf', TfidfTransformer()),\n",
    "    ('mnb', MultinomialNB())])\n",
    "\n",
    "# construct paramters\n",
    "params = {'vec__max_features':[800, 1000],\n",
    "         'vec__ngram_range'  :[(1,1),(1,2)],\n",
    "         'vec__min_df'       :[1,2],\n",
    "          'vec__stop_words'  :[None, 'english', cust_stopwords],\n",
    "          'tfidf__use_idf'   :[True,False]}\n",
    "\n",
    " # Perform Grid Search\n",
    "gs = GridSearchCV(pipe, \n",
    "                 param_grid=params,\n",
    "                 cv = 5,\n",
    "                 scoring = 'accuracy')\n",
    "mnb = gs.fit(X_train, y_train)"
   ]
  },
  {
   "cell_type": "code",
   "execution_count": 140,
   "metadata": {},
   "outputs": [
    {
     "data": {
      "text/plain": [
       "{'tfidf__use_idf': False,\n",
       " 'vec__max_features': 1000,\n",
       " 'vec__min_df': 2,\n",
       " 'vec__ngram_range': (1, 1),\n",
       " 'vec__stop_words': 'english'}"
      ]
     },
     "execution_count": 140,
     "metadata": {},
     "output_type": "execute_result"
    }
   ],
   "source": [
    "mnb_train = mnb.score(X_train, y_train)\n",
    "mnb_test = mnb.score(X_test, y_test)\n",
    "mnb_cv = cross_val_score(mnb.best_estimator_, X, y).mean()\n",
    "mnb.best_params_"
   ]
  },
  {
   "cell_type": "code",
   "execution_count": 144,
   "metadata": {},
   "outputs": [
    {
     "name": "stdout",
     "output_type": "stream",
     "text": [
      "Multinomial Naive Bayes:\n",
      "Train Accuracy: 0.8547374429223744\n",
      "Test Accuracy: 0.7902397260273972\n",
      "Cross Val Accuracy: 0.7917431780966231\n",
      "Difference (Train - Test): 0.06449771689497719\n"
     ]
    }
   ],
   "source": [
    "print(f'Multinomial Naive Bayes:')\n",
    "print(f'Train Accuracy: {mnb_train}')\n",
    "print(f'Test Accuracy: {mnb_test}')\n",
    "print(f'Cross Val Accuracy: {mnb_cv}')\n",
    "print(f'Difference (Train - Test): {mnb_train - mnb_test}')"
   ]
  },
  {
   "cell_type": "markdown",
   "metadata": {},
   "source": [
    "Naive Bayes is a classification technique that relies on probability to classify observations. It is based on the probability rule _Bayes' Theorem_.  \n",
    "\n",
    "$$\n",
    "\\begin{eqnarray*}\n",
    "\\text{Bayes' Theorem: } P(A|B) &=& \\frac{P(B|A)P(A)}{P(B)}\n",
    "\\end{eqnarray*}\n",
    "$$\n",
    "\n",
    "In our model, we are calculating the probability of a submission coming from one of two subreddits, given the words found in the title of that submission. Specifically, Multinomial Naive Bayes works well with integers, but can also work with fractions (like data from TF-IDF).  \n",
    "Our best Multinomial Naive Bayes model did not use TF-IDF and looked at only words of n-gram = 1 (one word at a time). Its training accuracy score is 85.5% and its testing accuracy score is 79%. While the testing score of this model is slightly lower than that of the Logistic Regression model (79.9%), the difference between the training and testing scores in this model is smaller, indicating there is less overfitting in this model. \n"
   ]
  },
  {
   "cell_type": "markdown",
   "metadata": {},
   "source": [
    "### _k_-Nearest Neighbors\n",
    "[Top](#Table-of-Contents:)"
   ]
  },
  {
   "cell_type": "code",
   "execution_count": 65,
   "metadata": {},
   "outputs": [],
   "source": [
    "# define pipeline\n",
    "pipe = Pipeline([\n",
    "    ('vec', CountVectorizer(max_df=.9, stop_words='english')),\n",
    "    ('tfidf', TfidfTransformer()),\n",
    "    ('knn', KNeighborsClassifier())])\n",
    "\n",
    "# construct paramters\n",
    "params = {'vec__max_features':[200, 300, 400],\n",
    "         'vec__ngram_range'  :[(1,1),(1,2), (2,2)],\n",
    "         'vec__min_df'       :[2, 3],\n",
    "          'tfidf__use_idf'   :[True,False],\n",
    "         'knn__n_neighbors'  :[4, 5, 6]}\n",
    "\n",
    " # Perform Grid Search\n",
    "gs = GridSearchCV(pipe, \n",
    "                 param_grid=params,\n",
    "                 cv = 5,\n",
    "                 scoring = 'accuracy')\n",
    "knn = gs.fit(X_train, y_train)"
   ]
  },
  {
   "cell_type": "code",
   "execution_count": 142,
   "metadata": {},
   "outputs": [
    {
     "data": {
      "text/plain": [
       "{'knn__n_neighbors': 6,\n",
       " 'tfidf__use_idf': False,\n",
       " 'vec__max_features': 300,\n",
       " 'vec__min_df': 2,\n",
       " 'vec__ngram_range': (1, 2)}"
      ]
     },
     "execution_count": 142,
     "metadata": {},
     "output_type": "execute_result"
    }
   ],
   "source": [
    "knn_train = knn.score(X_train, y_train)\n",
    "knn_test = knn.score(X_test, y_test)\n",
    "knn_cv = cross_val_score(knn.best_estimator_, X, y).mean()\n",
    "knn.best_params_"
   ]
  },
  {
   "cell_type": "code",
   "execution_count": 145,
   "metadata": {},
   "outputs": [
    {
     "name": "stdout",
     "output_type": "stream",
     "text": [
      "k-Nearest Neighbors:\n",
      "Train Accuracy: 0.7856735159817352\n",
      "Test Accuracy: 0.7157534246575342\n",
      "Cross Val Accuracy: 0.6885749292903846\n",
      "Difference (Train - Test): 0.06992009132420096\n"
     ]
    }
   ],
   "source": [
    "print(f'k-Nearest Neighbors:')\n",
    "print(f'Train Accuracy: {knn_train}')\n",
    "print(f'Test Accuracy: {knn_test}')\n",
    "print(f'Cross Val Accuracy: {knn_cv}')\n",
    "print(f'Difference (Train - Test): {knn_train - knn_test}')"
   ]
  },
  {
   "cell_type": "markdown",
   "metadata": {},
   "source": [
    "It is interesting to note that our kNN model preferred much less features than the two previous models (Logistic Regression & Multinomial Naive Bayes). The training accuracy score for the kNN model is 79.2% and the testing accuracy score is 70.5%. While the difference between these two scores falls between our Logistic Regression & Multinomial Naive Bayes models, the testing score is much lower than both of the previously mentioned models. "
   ]
  },
  {
   "cell_type": "markdown",
   "metadata": {},
   "source": [
    "### Decision Tree (CART)\n",
    "[Top](#Table-of-Contents:)"
   ]
  },
  {
   "cell_type": "code",
   "execution_count": 71,
   "metadata": {},
   "outputs": [],
   "source": [
    "tree = DecisionTreeClassifier(random_state=42)\n"
   ]
  },
  {
   "cell_type": "code",
   "execution_count": 146,
   "metadata": {},
   "outputs": [],
   "source": [
    "# takes awhile to run \n",
    "# define pipeline\n",
    "pipe = Pipeline([\n",
    "    ('vec', CountVectorizer(max_df=.9)),\n",
    "    ('tfidf', TfidfTransformer()),\n",
    "    ('tree', DecisionTreeClassifier(random_state=42))])\n",
    "\n",
    "# construct paramters\n",
    "params = {'vec__max_features':[300, 400, 500],\n",
    "         'vec__ngram_range'  :[(1,1),(1,2)],\n",
    "         'vec__min_df'       :[1,2],\n",
    "          'vec__stop_words'  :['english', cust_stopwords],\n",
    "          'tfidf__use_idf'   :[True,False],\n",
    "         'tree__max_depth'   :[70,80,100],\n",
    "         'tree__max_features':['auto', 50, 60]}\n",
    "\n",
    " # Perform Grid Search\n",
    "gs = GridSearchCV(pipe, \n",
    "                 param_grid=params,\n",
    "                 cv = 5,\n",
    "                 scoring = 'accuracy')\n",
    "tree = gs.fit(X_train, y_train)"
   ]
  },
  {
   "cell_type": "code",
   "execution_count": 147,
   "metadata": {},
   "outputs": [
    {
     "data": {
      "text/plain": [
       "{'tfidf__use_idf': False,\n",
       " 'tree__max_depth': 100,\n",
       " 'tree__max_features': 60,\n",
       " 'vec__max_features': 500,\n",
       " 'vec__min_df': 1,\n",
       " 'vec__ngram_range': (1, 1),\n",
       " 'vec__stop_words': 'english'}"
      ]
     },
     "execution_count": 147,
     "metadata": {},
     "output_type": "execute_result"
    }
   ],
   "source": [
    "tree_train = tree.score(X_train, y_train)\n",
    "tree_test = tree.score(X_test, y_test)\n",
    "tree_cv = cross_val_score(tree.best_estimator_, X, y).mean()\n",
    "tree.best_params_"
   ]
  },
  {
   "cell_type": "code",
   "execution_count": 148,
   "metadata": {},
   "outputs": [
    {
     "name": "stdout",
     "output_type": "stream",
     "text": [
      "Decision Tree:\n",
      "Train Accuracy: 0.8590182648401826\n",
      "Test Accuracy: 0.7722602739726028\n",
      "Cross Val Accuracy: 0.7622075141132957\n",
      "Difference (Train - Test): 0.08675799086757985\n"
     ]
    }
   ],
   "source": [
    "print(f'Decision Tree:')\n",
    "print(f'Train Accuracy: {tree_train}')\n",
    "print(f'Test Accuracy: {tree_test}')\n",
    "print(f'Cross Val Accuracy: {tree_cv}')\n",
    "print(f'Difference (Train - Test): {tree_train - tree_test}')"
   ]
  },
  {
   "cell_type": "markdown",
   "metadata": {},
   "source": [
    "A decision tree classifies our submissions by splitting the data into subsets based on their values for specific features. Our Decision Tree classifier has a training accuracy score of 85.9% and a testing accuracy score of 77.2%. This model is performing okay compared to the other models we've looked at, but there is still overfitting as the train score is larger than the test score. In an effort to decrease the amount of overfitting, we will trade some bias for variance and move onto the next classifier: bagging."
   ]
  },
  {
   "cell_type": "markdown",
   "metadata": {},
   "source": [
    "### Bagging Classifier (Bootstrap Aggregating)\n",
    "[Top](#Table-of-Contents:)"
   ]
  },
  {
   "cell_type": "code",
   "execution_count": 149,
   "metadata": {},
   "outputs": [],
   "source": [
    "# this one takes forever to run ... \n",
    "\n",
    "\n",
    "# define pipeline\n",
    "pipe = Pipeline([\n",
    "    ('vec', CountVectorizer(max_df=.9)),\n",
    "    ('tfidf', TfidfTransformer()),\n",
    "    ('bag', BaggingClassifier(random_state=42))])\n",
    "\n",
    "# construct paramters\n",
    "params = {'vec__max_features':[100, 200, 300],\n",
    "         'vec__ngram_range'  :[(1,1),(1,2)],\n",
    "         'vec__min_df'       :[1,2],\n",
    "          'vec__stop_words'  :['english', cust_stopwords],\n",
    "          'tfidf__use_idf'   :[True,False],\n",
    "         'bag__max_features':[65, 70, 75],\n",
    "          'bag__n_estimators' :[25]} # [25, 30, 35]\n",
    "\n",
    " # Perform Grid Search\n",
    "gs = GridSearchCV(pipe, \n",
    "                 param_grid=params,\n",
    "                 cv = 5,\n",
    "                 scoring = 'accuracy')\n",
    "bag = gs.fit(X_train, y_train)"
   ]
  },
  {
   "cell_type": "code",
   "execution_count": 150,
   "metadata": {},
   "outputs": [
    {
     "data": {
      "text/plain": [
       "{'bag__max_features': 70,\n",
       " 'bag__n_estimators': 25,\n",
       " 'tfidf__use_idf': False,\n",
       " 'vec__max_features': 200,\n",
       " 'vec__min_df': 1,\n",
       " 'vec__ngram_range': (1, 1),\n",
       " 'vec__stop_words': 'english'}"
      ]
     },
     "execution_count": 150,
     "metadata": {},
     "output_type": "execute_result"
    }
   ],
   "source": [
    "bag_train = bag.score(X_train, y_train)\n",
    "bag_test = bag.score(X_test, y_test)\n",
    "bag_cv = cross_val_score(bag.best_estimator_, X, y).mean()\n",
    "bag.best_params_"
   ]
  },
  {
   "cell_type": "code",
   "execution_count": 155,
   "metadata": {},
   "outputs": [
    {
     "name": "stdout",
     "output_type": "stream",
     "text": [
      "Bagging:\n",
      "Train Accuracy: 0.8567351598173516\n",
      "Test Accuracy: 0.7491438356164384\n",
      "Cross Val Accuracy: 0.7463660410631062\n",
      "Difference (Train - Test): 0.10759132420091322\n"
     ]
    }
   ],
   "source": [
    "print(f'Bagging:')\n",
    "print(f'Train Accuracy: {bag_train}')\n",
    "print(f'Test Accuracy: {bag_test}')\n",
    "print(f'Cross Val Accuracy: {bag_cv}')\n",
    "print(f'Difference (Train - Test): {bag_train - bag_test}')"
   ]
  },
  {
   "cell_type": "markdown",
   "metadata": {},
   "source": [
    "The bagging classifier works similarly to the decision tree, but instead of just looking at one set of data and one tree, it _bootstraps_ the data, creating many data sets from the original and running many decision trees simultaneously. It then _aggregates_ the outcomes from these trees to make its predictions. Due to the added randomness, it is expected to reduce overfitting. "
   ]
  },
  {
   "cell_type": "markdown",
   "metadata": {},
   "source": [
    "### Random Forest"
   ]
  },
  {
   "cell_type": "code",
   "execution_count": 166,
   "metadata": {},
   "outputs": [],
   "source": [
    "# this one takes forever to run ... \n",
    "\n",
    "\n",
    "# define pipeline\n",
    "pipe = Pipeline([\n",
    "    ('vec', CountVectorizer(max_df=.9)),\n",
    "    ('tfidf', TfidfTransformer()),\n",
    "    ('rf', RandomForestClassifier())])\n",
    "\n",
    "# construct paramters\n",
    "params = {'vec__max_features':[200], #[100, 200, 300]\n",
    "         'vec__ngram_range'  :[(1,1),(1,2)],\n",
    "         'vec__min_df'       :[1,2],\n",
    "          'vec__stop_words'  :['english', cust_stopwords],\n",
    "          'tfidf__use_idf'   :[True,False],\n",
    "         'rf__max_features'  :['auto'], # 'auto', \n",
    "          'rf__n_estimators' :[100],\n",
    "         'rf__max_depth'     :[None, 40]} \n",
    "\n",
    " # Perform Grid Search\n",
    "gs = GridSearchCV(pipe, \n",
    "                 param_grid=params,\n",
    "                 cv = 5,\n",
    "                 scoring = 'accuracy')\n",
    "rf = gs.fit(X_train, y_train)"
   ]
  },
  {
   "cell_type": "code",
   "execution_count": 167,
   "metadata": {},
   "outputs": [
    {
     "data": {
      "text/plain": [
       "{'rf__max_depth': 45,\n",
       " 'rf__max_features': 'auto',\n",
       " 'rf__n_estimators': 100,\n",
       " 'tfidf__use_idf': False,\n",
       " 'vec__max_features': 200,\n",
       " 'vec__min_df': 2,\n",
       " 'vec__ngram_range': (1, 1),\n",
       " 'vec__stop_words': 'english'}"
      ]
     },
     "execution_count": 167,
     "metadata": {},
     "output_type": "execute_result"
    }
   ],
   "source": [
    "rf_train = rf.score(X_train, y_train)\n",
    "rf_test = rf.score(X_test, y_test)\n",
    "rf_cv = cross_val_score(rf.best_estimator_, X, y).mean()\n",
    "rf.best_params_"
   ]
  },
  {
   "cell_type": "code",
   "execution_count": 168,
   "metadata": {},
   "outputs": [
    {
     "name": "stdout",
     "output_type": "stream",
     "text": [
      "Random Forest:\n",
      "Train Accuracy: 0.831906392694064\n",
      "Test Accuracy: 0.7559931506849316\n",
      "Cross Val Accuracy: 0.7538583975540771\n",
      "Difference (Train - Test): 0.07591324200913241\n"
     ]
    }
   ],
   "source": [
    "print(f'Random Forest:')\n",
    "print(f'Train Accuracy: {rf_train}')\n",
    "print(f'Test Accuracy: {rf_test}')\n",
    "print(f'Cross Val Accuracy: {rf_cv}')\n",
    "print(f'Difference (Train - Test): {rf_train - rf_test}')"
   ]
  },
  {
   "cell_type": "markdown",
   "metadata": {},
   "source": [
    "### Support Vector Machine\n",
    "[Top](#Table-of-Contents:)  \n",
    "\n",
    "kernel SVM with polynomial kernel degree = 2 has been shown to work really well for NLP data!"
   ]
  },
  {
   "cell_type": "code",
   "execution_count": 91,
   "metadata": {},
   "outputs": [],
   "source": [
    "# also takes forever to run \n",
    "\n",
    "# define pipeline\n",
    "pipe = Pipeline([\n",
    "    ('vec', CountVectorizer(max_df=.9, stop_words='english')),\n",
    "    ('tfidf', TfidfTransformer()),\n",
    "    ('svc', SVC())])\n",
    "\n",
    "# construct paramters\n",
    "params = {'vec__max_features':[500, 750],\n",
    "         'vec__ngram_range'  :[(1,1),(1,2)],\n",
    "         'vec__min_df'       :[1,2],\n",
    "         'tfidf__use_idf'   :[True,False],\n",
    "         'svc__kernel' : ['poly'],\n",
    "         'svc__degree': [2,3],\n",
    "         'svc__C' : [.1, 1, 10]}\n",
    "\n",
    " # Perform Grid Search\n",
    "gs = GridSearchCV(pipe, # pipeline object replaces what we usually had as empty model class\n",
    "                 param_grid=params,\n",
    "                 cv = 5,\n",
    "                 scoring = 'accuracy')\n",
    "svm = gs.fit(X_train, y_train)"
   ]
  },
  {
   "cell_type": "code",
   "execution_count": 152,
   "metadata": {},
   "outputs": [
    {
     "data": {
      "text/plain": [
       "{'svc__C': 1,\n",
       " 'svc__degree': 2,\n",
       " 'svc__kernel': 'poly',\n",
       " 'tfidf__use_idf': False,\n",
       " 'vec__max_features': 750,\n",
       " 'vec__min_df': 1,\n",
       " 'vec__ngram_range': (1, 1)}"
      ]
     },
     "execution_count": 152,
     "metadata": {},
     "output_type": "execute_result"
    }
   ],
   "source": [
    "svm_train = svm.score(X_train,  y_train)\n",
    "svm_test = svm.score(X_test, y_test)\n",
    "svm_cv = cross_val_score(svm.best_estimator_, X, y).mean()\n",
    "svm.best_params_"
   ]
  },
  {
   "cell_type": "code",
   "execution_count": 153,
   "metadata": {},
   "outputs": [
    {
     "name": "stdout",
     "output_type": "stream",
     "text": [
      "Support Vector Machine:\n",
      "Train Accuracy: 0.9340753424657534\n",
      "Test Accuracy: 0.7851027397260274\n",
      "Cross Val Accuracy: 0.776761442361644\n",
      "Difference (Train - Test): 0.148972602739726\n"
     ]
    }
   ],
   "source": [
    "print(f'Support Vector Machine:')\n",
    "print(f'Train Accuracy: {svm_train}')\n",
    "print(f'Test Accuracy: {svm_test}')\n",
    "print(f'Cross Val Accuracy: {svm_cv}')\n",
    "print(f'Difference (Train - Test): {svm_train - svm_test}')"
   ]
  },
  {
   "cell_type": "markdown",
   "metadata": {},
   "source": [
    "### Model Selection"
   ]
  },
  {
   "cell_type": "markdown",
   "metadata": {},
   "source": [
    "|Model|Training Accuracy|Testing Accuracy|Difference (Train - Test)|\n",
    "|:---|:---:|:---:|:---:|\n",
    "|Baseline|56.1%|56.2%|/|\n",
    "|Logistic Regression|89.7%|79.9%|.0979|\n",
    "|Multinomial Naive Bayes|85.5%|79%|.0645|\n",
    "|k-Nearest Neighbors|78.6%|71.6%|.0700|\n",
    "|Decision Tree|85.9%|77.2%|.0868|\n",
    "|Bagging|85.7%|74.9%|.1076|\n",
    "|Support Vector Machine|93.4%|78.5%|.1490|"
   ]
  },
  {
   "cell_type": "markdown",
   "metadata": {},
   "source": [
    "### Model Evaluation"
   ]
  },
  {
   "cell_type": "markdown",
   "metadata": {},
   "source": [
    "### Misclassified Submissions"
   ]
  },
  {
   "cell_type": "markdown",
   "metadata": {},
   "source": [
    "### References\n",
    "[Top](#Table-of-Contents:)  \n",
    "\n",
    "https://www.reddit.com/r/DunderMifflin/  \n",
    "https://www.reddit.com/r/PandR/\n",
    "\n",
    "[knn?](https://iq.opengenus.org/text-classification-using-k-nearest-neighbors/)  \n",
    "[more knn?](https://www.researchgate.net/publication/326893075_Text_Classification_using_KNN_with_different_Feature_Selection_Methods)"
   ]
  },
  {
   "cell_type": "code",
   "execution_count": null,
   "metadata": {},
   "outputs": [],
   "source": []
  }
 ],
 "metadata": {
  "kernelspec": {
   "display_name": "Python 3",
   "language": "python",
   "name": "python3"
  },
  "language_info": {
   "codemirror_mode": {
    "name": "ipython",
    "version": 3
   },
   "file_extension": ".py",
   "mimetype": "text/x-python",
   "name": "python",
   "nbconvert_exporter": "python",
   "pygments_lexer": "ipython3",
   "version": "3.7.6"
  }
 },
 "nbformat": 4,
 "nbformat_minor": 4
}

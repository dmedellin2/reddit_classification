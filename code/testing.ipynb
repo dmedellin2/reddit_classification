{
 "cells": [
  {
   "cell_type": "code",
   "execution_count": 1,
   "metadata": {},
   "outputs": [],
   "source": [
    "import pandas as pd\n",
    "import numpy as pn\n",
    "import matplotlib.pyplot as plt\n",
    "import seaborn as sns\n",
    "import requests\n",
    "from sklearn.model_selection import train_test_split, GridSearchCV\n",
    "from sklearn.pipeline import Pipeline\n",
    "from sklearn.linear_model import LogisticRegression\n",
    "from sklearn.feature_extraction.text import CountVectorizer, TfidfVectorizer, TfidfTransformer\n",
    "from sklearn.naive_bayes import MultinomialNB, GaussianNB, BernoulliNB\n",
    "from sklearn.base import TransformerMixin\n",
    "from sklearn.feature_selection import SelectKBest, chi2\n",
    "\n",
    "import warnings\n",
    "warnings.filterwarnings(\"ignore\") "
   ]
  },
  {
   "cell_type": "code",
   "execution_count": 2,
   "metadata": {},
   "outputs": [],
   "source": [
    "reddit = pd.read_csv('../data/reddit.csv')"
   ]
  },
  {
   "cell_type": "code",
   "execution_count": 3,
   "metadata": {},
   "outputs": [],
   "source": [
    "reddit['subreddit'] = [1 if entry == 'PandR' else 0 for entry in reddit['subreddit']]"
   ]
  },
  {
   "cell_type": "markdown",
   "metadata": {},
   "source": [
    "Sum whole reddit df and make a bar graph "
   ]
  },
  {
   "cell_type": "code",
   "execution_count": 5,
   "metadata": {},
   "outputs": [],
   "source": [
    "cvec = CountVectorizer()\n",
    "X_text = reddit['title']"
   ]
  },
  {
   "cell_type": "code",
   "execution_count": 6,
   "metadata": {},
   "outputs": [],
   "source": [
    "X_text = cvec.fit_transform(X_text)\n",
    "X_text_df = pd.DataFrame(X_text.toarray(), columns = cvec.get_feature_names())"
   ]
  },
  {
   "cell_type": "code",
   "execution_count": 33,
   "metadata": {},
   "outputs": [],
   "source": [
    "top_words = X_text_df.sum().sort_values(ascending=False)[:30]"
   ]
  },
  {
   "cell_type": "code",
   "execution_count": 34,
   "metadata": {},
   "outputs": [
    {
     "data": {
      "text/plain": [
       "the        2352\n",
       "and         848\n",
       "to          839\n",
       "is          752\n",
       "of          728\n",
       "in          677\n",
       "what        496\n",
       "you         447\n",
       "season      414\n",
       "episode     412\n",
       "office      405\n",
       "for         396\n",
       "that        389\n",
       "just        370\n",
       "it          338\n",
       "on          315\n",
       "this        278\n",
       "show        274\n",
       "was         273\n",
       "anyone      271\n",
       "have        260\n",
       "michael     254\n",
       "with        231\n",
       "from        220\n",
       "my          218\n",
       "how         207\n",
       "does        205\n",
       "about       204\n",
       "do          194\n",
       "can         193\n",
       "dtype: int64"
      ]
     },
     "execution_count": 34,
     "metadata": {},
     "output_type": "execute_result"
    }
   ],
   "source": [
    "top_words"
   ]
  },
  {
   "cell_type": "code",
   "execution_count": 65,
   "metadata": {},
   "outputs": [
    {
     "data": {
      "image/png": "[encoded data removed]",
      "text/plain": [
       "<Figure size 576x576 with 1 Axes>"
      ]
     },
     "metadata": {
      "needs_background": "light"
     },
     "output_type": "display_data"
    }
   ],
   "source": [
    "plt.figure(figsize=(8,8))\n",
    "plt.barh(y=top_words.index[::-1],width=top_words[::-1],color='goldenrod')\n",
    "plt.suptitle('Most Frequent Words',size=19)\n",
    "plt.title('r/DunderMifflin & r/PandR',size=15)\n",
    "plt.xlabel('Frequency',size=13)\n",
    "plt.ylabel('Top Words',size=13)\n",
    "plt.yticks(size=11.5);"
   ]
  },
  {
   "cell_type": "code",
   "execution_count": 36,
   "metadata": {},
   "outputs": [],
   "source": [
    "poss_stopwords = list(top_words.index)"
   ]
  },
  {
   "cell_type": "code",
   "execution_count": 37,
   "metadata": {},
   "outputs": [],
   "source": [
    "poss_stopwords.remove('michael')"
   ]
  },
  {
   "cell_type": "code",
   "execution_count": 38,
   "metadata": {},
   "outputs": [],
   "source": [
    "poss_stopwords.remove('office')"
   ]
  },
  {
   "cell_type": "code",
   "execution_count": 39,
   "metadata": {},
   "outputs": [
    {
     "data": {
      "text/plain": [
       "['the',\n",
       " 'and',\n",
       " 'to',\n",
       " 'is',\n",
       " 'of',\n",
       " 'in',\n",
       " 'what',\n",
       " 'you',\n",
       " 'season',\n",
       " 'episode',\n",
       " 'for',\n",
       " 'that',\n",
       " 'just',\n",
       " 'it',\n",
       " 'on',\n",
       " 'this',\n",
       " 'show',\n",
       " 'was',\n",
       " 'anyone',\n",
       " 'have',\n",
       " 'with',\n",
       " 'from',\n",
       " 'my',\n",
       " 'how',\n",
       " 'does',\n",
       " 'about',\n",
       " 'do',\n",
       " 'can']"
      ]
     },
     "execution_count": 39,
     "metadata": {},
     "output_type": "execute_result"
    }
   ],
   "source": [
    "poss_stopwords"
   ]
  },
  {
   "cell_type": "code",
   "execution_count": 40,
   "metadata": {},
   "outputs": [],
   "source": [
    "off_text = reddit[reddit['subreddit']==0]['title']"
   ]
  },
  {
   "cell_type": "code",
   "execution_count": 42,
   "metadata": {},
   "outputs": [],
   "source": [
    "off_text = cvec.fit_transform(off_text)\n",
    "off_text_df = pd.DataFrame(off_text.toarray(), columns = cvec.get_feature_names())"
   ]
  },
  {
   "cell_type": "code",
   "execution_count": 45,
   "metadata": {},
   "outputs": [],
   "source": [
    "parks_text = reddit[reddit['subreddit']==1]['title']"
   ]
  },
  {
   "cell_type": "code",
   "execution_count": 46,
   "metadata": {},
   "outputs": [],
   "source": [
    "parks_text = cvec.fit_transform(parks_text)\n",
    "parks_text_df = pd.DataFrame(parks_text.toarray(), columns = cvec.get_feature_names())"
   ]
  },
  {
   "cell_type": "code",
   "execution_count": 53,
   "metadata": {},
   "outputs": [],
   "source": [
    "off_top = off_text_df.sum().sort_values(ascending=False)[:30]"
   ]
  },
  {
   "cell_type": "code",
   "execution_count": 54,
   "metadata": {},
   "outputs": [],
   "source": [
    "parks_top = parks_text_df.sum().sort_values(ascending=False)[:30]"
   ]
  },
  {
   "cell_type": "code",
   "execution_count": 55,
   "metadata": {},
   "outputs": [
    {
     "name": "stdout",
     "output_type": "stream",
     "text": [
      "21\n"
     ]
    },
    {
     "data": {
      "text/plain": [
       "{'and',\n",
       " 'anyone',\n",
       " 'episode',\n",
       " 'for',\n",
       " 'have',\n",
       " 'in',\n",
       " 'is',\n",
       " 'it',\n",
       " 'just',\n",
       " 'of',\n",
       " 'on',\n",
       " 'season',\n",
       " 'show',\n",
       " 'that',\n",
       " 'the',\n",
       " 'this',\n",
       " 'to',\n",
       " 'was',\n",
       " 'what',\n",
       " 'with',\n",
       " 'you'}"
      ]
     },
     "execution_count": 55,
     "metadata": {},
     "output_type": "execute_result"
    }
   ],
   "source": [
    "overlap = set(off_top.index).intersection(set(parks_top.index))\n",
    "print(len(overlap))\n",
    "overlap"
   ]
  },
  {
   "cell_type": "code",
   "execution_count": 58,
   "metadata": {},
   "outputs": [
    {
     "data": {
      "text/plain": [
       "{'can', 'does', 'how', 'leslie', 'me', 'my', 'parks', 'rec', 'ron'}"
      ]
     },
     "execution_count": 58,
     "metadata": {},
     "output_type": "execute_result"
    }
   ],
   "source": [
    "parks_only = set(parks_top.index) - set(off_top.index)\n",
    "parks_only"
   ]
  },
  {
   "cell_type": "code",
   "execution_count": 59,
   "metadata": {},
   "outputs": [
    {
     "data": {
      "text/plain": [
       "{'about', 'do', 'dwight', 'from', 'jim', 'michael', 'office', 'pam', 'your'}"
      ]
     },
     "execution_count": 59,
     "metadata": {},
     "output_type": "execute_result"
    }
   ],
   "source": [
    "off_only = set(off_top.index) - set(parks_top.index)\n",
    "off_only"
   ]
  },
  {
   "cell_type": "code",
   "execution_count": 60,
   "metadata": {},
   "outputs": [
    {
     "data": {
      "text/plain": [
       "office     369\n",
       "michael    251\n",
       "pam        147\n",
       "from       144\n",
       "jim        143\n",
       "do         129\n",
       "your       122\n",
       "about      122\n",
       "dwight     119\n",
       "dtype: int64"
      ]
     },
     "execution_count": 60,
     "metadata": {},
     "output_type": "execute_result"
    }
   ],
   "source": [
    "off_top_words = off_text_df[off_only].sum().sort_values(ascending=False)[:30]"
   ]
  },
  {
   "cell_type": "code",
   "execution_count": 61,
   "metadata": {},
   "outputs": [],
   "source": [
    "parks_top_words = parks_text_df[parks_only].sum().sort_values(ascending=False)[:30]"
   ]
  },
  {
   "cell_type": "code",
   "execution_count": 62,
   "metadata": {},
   "outputs": [
    {
     "data": {
      "image/png": "[encoded data removed]",
      "text/plain": [
       "<Figure size 864x432 with 2 Axes>"
      ]
     },
     "metadata": {
      "needs_background": "light"
     },
     "output_type": "display_data"
    }
   ],
   "source": [
    "fig, (ax1, ax2) = plt.subplots(1,2, figsize = (12,6), sharex=True)\n",
    "# add title to entire figure\n",
    "fig.suptitle(\"Unique Words from Top 30\", fontsize = 19, y = 1.03) # y is percentage of figure height for placement\n",
    "\n",
    "ax1.barh(y=off_top_words.index,width=off_top_words,color='salmon') # ax=axes[0,1]\n",
    "ax2.barh(y=parks_top_words.index,width=parks_top_words,color='skyblue')\n",
    "ax1.set_title('Top Words from The Office Subreddit\\nr/DunderMifflin',size=14)\n",
    "ax2.set_title('Top Words from Parks and Recreation Subreddit\\nr/PandR',size=14)\n",
    "ax1.set_xlabel('Frequency',size=12)\n",
    "ax2.set_xlabel('Frequency',size=12)\n",
    "ax1.set_ylabel('Unique Words in Top 30', size=11)\n",
    "ax2.set_ylabel('Unique Words in Top 30', size=11);"
   ]
  },
  {
   "cell_type": "code",
   "execution_count": null,
   "metadata": {},
   "outputs": [],
   "source": []
  }
 ],
 "metadata": {
  "kernelspec": {
   "display_name": "Python 3",
   "language": "python",
   "name": "python3"
  },
  "language_info": {
   "codemirror_mode": {
    "name": "ipython",
    "version": 3
   },
   "file_extension": ".py",
   "mimetype": "text/x-python",
   "name": "python",
   "nbconvert_exporter": "python",
   "pygments_lexer": "ipython3",
   "version": "3.7.6"
  }
 },
 "nbformat": 4,
 "nbformat_minor": 4
}
